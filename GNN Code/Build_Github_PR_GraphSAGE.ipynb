{
 "cells": [
  {
   "cell_type": "markdown",
   "metadata": {},
   "source": [
    "## Github Reviewer Recommendation using Graph Neural Network (GraphSAGE)"
   ]
  },
  {
   "cell_type": "code",
   "execution_count": 1224,
   "metadata": {},
   "outputs": [],
   "source": [
    "#!pip install chars2vec"
   ]
  },
  {
   "cell_type": "code",
   "execution_count": 1225,
   "metadata": {},
   "outputs": [],
   "source": [
    "import pandas as pd\n",
    "import numpy as np\n",
    "import networkx as nx\n",
    "import matplotlib.pyplot as plt\n",
    "from keras import backend as K\n",
    "import tensorflow as tf\n",
    "from datetime import datetime\n",
    "from collections import Counter\n",
    "import time\n",
    "import requests\n",
    "import pickle\n",
    "import sys\n",
    "import chars2vec\n",
    "from tqdm import tqdm_notebook as tqdm\n",
    "\n",
    "import stellargraph as sg\n",
    "from stellargraph import StellarGraph\n",
    "from sklearn.preprocessing import OrdinalEncoder\n",
    "from stellargraph.data import EdgeSplitter\n",
    "from stellargraph.mapper import FullBatchLinkGenerator\n",
    "from stellargraph.layer import GCN, LinkEmbedding\n",
    "from stellargraph import globalvar\n",
    "from stellargraph import datasets\n",
    "from stellargraph.mapper import GraphSAGELinkGenerator\n",
    "from stellargraph.layer import GraphSAGE, link_classification\n",
    "from stellargraph.data import UniformRandomWalk\n",
    "from stellargraph.data import UnsupervisedSampler\n",
    "from sklearn.metrics.pairwise import cosine_similarity\n",
    "import heapq\n",
    "\n",
    "from tensorflow import keras\n",
    "from sklearn import preprocessing, feature_extraction, model_selection\n",
    "\n",
    "from IPython.display import display, HTML\n",
    "%matplotlib inline"
   ]
  },
  {
   "cell_type": "markdown",
   "metadata": {},
   "source": [
    "### Building edges between PR and Reviewer nodes"
   ]
  },
  {
   "cell_type": "code",
   "execution_count": 1226,
   "metadata": {},
   "outputs": [],
   "source": [
    "def connect_reviewer_pr_networks(graph, data, filepath_data):\n",
    "    pr_id_list = filepath_data['pr_id'].unique()\n",
    "    edge_list_sample = []\n",
    "    \n",
    "    for pr_id in tqdm(pr_id_list):\n",
    "        if graph.has_node(pr_id): \n",
    "            pr_owner_set, reviewer_set = get_pr_reviewers(pr_id, data)\n",
    "            for commenter in reviewer_set:\n",
    "                num_comments = get_num_comments(pr_id, commenter, data)\n",
    "                graph.add_edge(pr_id, commenter, weight=num_comments)\n",
    "                \n",
    "                for pr_id in pr_id_list:\n",
    "                    if graph.has_node(pr_id) and graph.has_node(commenter):\n",
    "                        if [pr_id, commenter] not in edge_list_sample:\n",
    "                            edge_list_sample.append([pr_id, commenter])\n",
    "            \n",
    "    return graph, edge_list_sample\n",
    "\n",
    "def get_pr_reviewers(pr_id, data):\n",
    "    pr_df = data.loc[data.github_pr_id == pr_id, :]\n",
    "    commenter_set = set(pr_df.commenter_id.values)\n",
    "    head_commiter_set = set(pr_df.head_commit_committer_id.values)\n",
    "    head_author_set = set(pr_df.head_commit_author_id.values)\n",
    "    pr_owner_set = (head_author_set | head_commiter_set) & commenter_set\n",
    "    reviewer_set = commenter_set - pr_owner_set\n",
    "    return pr_owner_set, reviewer_set\n",
    "\n",
    "def get_num_comments(pr_id, commenter, data):\n",
    "    comments = data[(data['commenter_id']==commenter) & \\\n",
    "        ((data['github_pr_id']==pr_id))]\n",
    "    num_comments = len(comments)\n",
    "    return num_comments  "
   ]
  },
  {
   "cell_type": "markdown",
   "metadata": {},
   "source": [
    "### Building graph between PRs based upon content similarity"
   ]
  },
  {
   "cell_type": "code",
   "execution_count": 1227,
   "metadata": {},
   "outputs": [],
   "source": [
    "def build_pr_graph(graph, data, title_data):\n",
    "    for pr_source in tqdm(data.index):\n",
    "            similarities = {}\n",
    "            if not graph.has_node(pr_source):\n",
    "                pr_info = pr_feature_info(pr_source, data)\n",
    "                graph.add_node(pr_source, **pr_info)\n",
    "                \n",
    "            for pr_target in data.index:\n",
    "                if pr_source != pr_target:\n",
    "                    if not graph.has_node(pr_target):\n",
    "                        pr_info = pr_feature_info(pr_target, data)\n",
    "                        graph.add_node(pr_target, **pr_info)\n",
    "                    \n",
    "                    pr_source_feature = data.loc[pr_source,:][3].reshape(1, -1)\n",
    "                    pr_source_title_feature = list(title_data[title_data.pr_id == pr_source]['c2v_title'])[0].reshape(1, -1)\n",
    "                    pr_target_feature = data.loc[pr_target,:][3].reshape(1, -1)\n",
    "                    pr_target_title_feature = list(title_data[title_data.pr_id == pr_target]['c2v_title'])[0].reshape(1, -1)\n",
    "                    similarity_path = generate_cosine_similarity(pr_source_feature, pr_target_feature) \n",
    "                    similarity_title = generate_cosine_similarity(pr_source_feature, pr_target_feature) \n",
    "                    similarities[pr_target] =  similarity_path[0][0] + similarity_title[0][0]\n",
    "    \n",
    "            #similarities = {k: v for k, v in sorted(similarities.items(), key=lambda item: item[1], reverse=True)}\n",
    "            k = 20\n",
    "            pr_target_sorted = heapq.nlargest(k, similarities,  key = similarities.get)\n",
    "            \n",
    "            for pr_target in pr_target_sorted:\n",
    "                if not graph.has_edge(pr_source, pr_target):\n",
    "                    weight = similarities[pr_target]\n",
    "                    graph.add_edge(pr_source, pr_target, weight=weight)\n",
    "                    \n",
    "\n",
    "    return graph\n",
    "\n",
    "def pr_feature_info(target, data):\n",
    "    info_cols = ['average_additions', 'average_changes', 'average_deletions', 'filepath_count']\n",
    "    info_dict = data.loc[(data.pr_id == target), info_cols].iloc[0].to_dict()\n",
    "    info_dict = create_features(info_dict)\n",
    "    return info_dict\n",
    "    \n",
    "def generate_cosine_similarity(pr_source, pr_target):\n",
    "    return cosine_similarity(pr_source, pr_target)\n",
    "    "
   ]
  },
  {
   "cell_type": "markdown",
   "metadata": {},
   "source": [
    "### Building comment network graph between Reviewer nodes"
   ]
  },
  {
   "cell_type": "code",
   "execution_count": 1228,
   "metadata": {},
   "outputs": [],
   "source": [
    "def build_comment_graph(graph, data):\n",
    "    pr_id_list = data['pr_id'].unique()\n",
    "    for pr_id in tqdm(pr_id_list):\n",
    "        pr_owner_set, reviewer_set = get_node_ids(pr_id, data)\n",
    "\n",
    "        for pr_owner_id in pr_owner_set:\n",
    "            if not graph.has_node(pr_owner_id):\n",
    "                user_info = node_info(pr_owner_id, data)\n",
    "                graph.add_node(pr_owner_id, **user_info)\n",
    "\n",
    "            for reviewer_id in reviewer_set:\n",
    "                if not graph.has_node(reviewer_id):\n",
    "                    user_info = node_info(reviewer_id, data)\n",
    "                    graph.add_node(reviewer_id, **user_info)\n",
    "                \n",
    "                if not graph.has_edge(pr_owner_id, reviewer_id):\n",
    "                    weight = get_edge_weight(pr_owner_id, reviewer_id, data)\n",
    "                    graph.add_edge(pr_owner_id, reviewer_id, weight=weight)\n",
    "\n",
    "    return graph\n",
    "\n",
    "def get_edge_weight(pr_owner_id, reviewer_id, data):\n",
    "    df = data[(data['commenter_id']==reviewer_id) & \\\n",
    "        ((data['head_commit_author_id']==pr_owner_id) | (data['head_commit_committer_id']==pr_owner_id))]\n",
    "    \n",
    "    comment_times = df['comment_created_at'].map(convert_to_tic)\n",
    "    df['weight'] = comment_times\n",
    "    df = df.sort_values(by='weight')\n",
    "\n",
    "    decay = 0.8\n",
    "    counts = Counter()\n",
    "    for index, row in df.iterrows():\n",
    "        row['weight'] *= decay**counts[(row['pr_id'], row['commenter_id'])]\n",
    "        counts[(row['pr_id'], row['commenter_id'])] += 1\n",
    "\n",
    "    weight = df['weight'].sum()\n",
    "    return weight\n",
    "\n",
    "def get_node_ids(pr_id, data):\n",
    "    pr_df = data.loc[data.pr_id == pr_id, :]\n",
    "    commenter_set = set(pr_df.commenter_id.values)\n",
    "    head_commiter_set = set(pr_df.head_commit_committer_id.values)\n",
    "    head_author_set = set(pr_df.head_commit_author_id.values)\n",
    "    pr_owner_set = (head_author_set | head_commiter_set) & commenter_set\n",
    "    reviewer_set = commenter_set - pr_owner_set\n",
    "    return pr_owner_set, reviewer_set\n",
    "\n",
    "def create_features(info_dict):\n",
    "    features = {}\n",
    "    features[\"features\"] = list(info_dict.values())\n",
    "    return features\n",
    "    \n",
    "def node_info(target, data):\n",
    "    info_cols = ['commenter_username_enc', 'commenter_follower_count',\n",
    "                        'commenter_total_github_commit_count', 'commenter_base_repo_commit_count']\n",
    "    info_dict = data.loc[(data.commenter_id == target), info_cols].iloc[0].to_dict()\n",
    "    info_dict = create_features(info_dict)\n",
    "    return info_dict\n",
    "\n",
    "def convert_to_tic(s):\n",
    "    #Jan, 1, 2014\n",
    "    start_time = time.mktime(datetime(2014, 1, 1).timetuple())\n",
    "    #Jan, 1, 2019\n",
    "    end_time = time.mktime(datetime(2019, 1, 1).timetuple())\n",
    "    time_delta = end_time-start_time\n",
    "    return float(time.mktime(pd.to_datetime(s).timetuple()) - start_time) / time_delta"
   ]
  },
  {
   "cell_type": "markdown",
   "metadata": {},
   "source": [
    "### Data Preprocessing"
   ]
  },
  {
   "cell_type": "code",
   "execution_count": 1229,
   "metadata": {
    "nbsphinx": "hidden",
    "tags": [
     "VersionCheck"
    ]
   },
   "outputs": [],
   "source": [
    "def prepare_inputs(data):\n",
    "    oe = OrdinalEncoder()\n",
    "    oe.fit(data)\n",
    "    data_enc = oe.transform(data)\n",
    "    return data_enc"
   ]
  },
  {
   "cell_type": "code",
   "execution_count": 1230,
   "metadata": {},
   "outputs": [],
   "source": [
    "# chars2vec character-based language model to handle text features\n",
    "c2v = chars2vec.load_model('eng_100')"
   ]
  },
  {
   "cell_type": "code",
   "execution_count": 1231,
   "metadata": {},
   "outputs": [],
   "source": [
    "file_Path_data = pd.read_csv('filepath.csv')"
   ]
  },
  {
   "cell_type": "code",
   "execution_count": 1232,
   "metadata": {},
   "outputs": [],
   "source": [
    "filepath_df = file_Path_data"
   ]
  },
  {
   "cell_type": "code",
   "execution_count": 1233,
   "metadata": {},
   "outputs": [],
   "source": [
    "pr_filepath_list = filepath_df.loc[:, 'filename'].values\n"
   ]
  },
  {
   "cell_type": "code",
   "execution_count": 1234,
   "metadata": {},
   "outputs": [
    {
     "name": "stderr",
     "output_type": "stream",
     "text": [
      "/opt/anaconda3/lib/python3.7/site-packages/ipykernel_launcher.py:3: TqdmDeprecationWarning: This function will be removed in tqdm==5.0.0\n",
      "Please use `tqdm.notebook.tqdm` instead of `tqdm.tqdm_notebook`\n",
      "  This is separate from the ipykernel package so we can avoid doing imports until\n"
     ]
    },
    {
     "data": {
      "application/vnd.jupyter.widget-view+json": {
       "model_id": "d70df92c1157470b8ba6962d709aa38e",
       "version_major": 2,
       "version_minor": 0
      },
      "text/plain": [
       "HBox(children=(FloatProgress(value=0.0, max=79659.0), HTML(value='')))"
      ]
     },
     "metadata": {},
     "output_type": "display_data"
    },
    {
     "name": "stdout",
     "output_type": "stream",
     "text": [
      "\n"
     ]
    }
   ],
   "source": [
    "# converting pathpath into a 100 dimention numeric vector \n",
    "filepath_vector = []\n",
    "for filepath in tqdm(pr_filepath_list):\n",
    "    components = filepath.split('/')\n",
    "    vec = c2v.vectorize_words(components)\n",
    "    filepath_vector.append(np.mean(vec, axis=0))\n"
   ]
  },
  {
   "cell_type": "code",
   "execution_count": 1235,
   "metadata": {},
   "outputs": [],
   "source": [
    "file_Path_data['c2v_filepath'] = filepath_vector"
   ]
  },
  {
   "cell_type": "code",
   "execution_count": 1236,
   "metadata": {},
   "outputs": [
    {
     "data": {
      "text/plain": [
       "(79659,)"
      ]
     },
     "execution_count": 1236,
     "metadata": {},
     "output_type": "execute_result"
    }
   ],
   "source": [
    "file_Path_data['c2v_filepath'].shape"
   ]
  },
  {
   "cell_type": "code",
   "execution_count": 1237,
   "metadata": {},
   "outputs": [
    {
     "name": "stderr",
     "output_type": "stream",
     "text": [
      "/opt/anaconda3/lib/python3.7/site-packages/ipykernel_launcher.py:1: FutureWarning: Indexing with multiple keys (implicitly converted to a tuple of keys) will be deprecated, use a list instead.\n",
      "  \"\"\"Entry point for launching an IPython kernel.\n"
     ]
    }
   ],
   "source": [
    "filepath_summary_df = pd.concat([file_Path_data.groupby('pr_id')['additions', 'changes', 'deletions'].mean(), \n",
    "                                 file_Path_data.groupby('pr_id')['c2v_filepath'].apply(lambda x: np.mean(x, axis=0)),\n",
    "                                 file_Path_data.groupby('pr_id')['filename'].count()], axis=1)\n",
    "filepath_summary_df.columns = ['average_additions', 'average_changes', 'average_deletions', 'average_c2v_filepath', 'filepath_count']\n"
   ]
  },
  {
   "cell_type": "code",
   "execution_count": null,
   "metadata": {},
   "outputs": [],
   "source": []
  },
  {
   "cell_type": "code",
   "execution_count": 1238,
   "metadata": {},
   "outputs": [],
   "source": [
    "filepath_summary_df['pr_id'] = filepath_summary_df.index"
   ]
  },
  {
   "cell_type": "code",
   "execution_count": 1239,
   "metadata": {},
   "outputs": [],
   "source": [
    "filepath_summary_df = filepath_summary_df[:600]"
   ]
  },
  {
   "cell_type": "code",
   "execution_count": 1240,
   "metadata": {},
   "outputs": [],
   "source": [
    "title_data = pd.read_csv('pull_req_titles.csv')\n",
    "title_list = title_data.loc[:, 'title'].values"
   ]
  },
  {
   "cell_type": "code",
   "execution_count": 1241,
   "metadata": {},
   "outputs": [
    {
     "name": "stderr",
     "output_type": "stream",
     "text": [
      "/opt/anaconda3/lib/python3.7/site-packages/ipykernel_launcher.py:2: TqdmDeprecationWarning: This function will be removed in tqdm==5.0.0\n",
      "Please use `tqdm.notebook.tqdm` instead of `tqdm.tqdm_notebook`\n",
      "  \n"
     ]
    },
    {
     "data": {
      "application/vnd.jupyter.widget-view+json": {
       "model_id": "167ff0dd5df44d19b7e6c44695fdb3eb",
       "version_major": 2,
       "version_minor": 0
      },
      "text/plain": [
       "HBox(children=(FloatProgress(value=0.0, max=11473.0), HTML(value='')))"
      ]
     },
     "metadata": {},
     "output_type": "display_data"
    },
    {
     "name": "stdout",
     "output_type": "stream",
     "text": [
      "\n"
     ]
    }
   ],
   "source": [
    "title_vec = []\n",
    "for filepath in tqdm(title_list):\n",
    "    components = filepath.split()\n",
    "    vec = c2v.vectorize_words(components)\n",
    "    title_vec.append(np.mean(vec, axis=0))\n",
    "title_data['c2v_title'] = title_vec"
   ]
  },
  {
   "cell_type": "code",
   "execution_count": 1242,
   "metadata": {},
   "outputs": [],
   "source": [
    "data = pd.read_csv('kubernetes.csv')\n",
    "d = prepare_inputs(data[['commenter_username']])\n",
    "data['commenter_username_enc'] = d"
   ]
  },
  {
   "cell_type": "markdown",
   "metadata": {},
   "source": [
    "### Datasets"
   ]
  },
  {
   "cell_type": "code",
   "execution_count": 1243,
   "metadata": {},
   "outputs": [
    {
     "data": {
      "text/html": [
       "<div>\n",
       "<style scoped>\n",
       "    .dataframe tbody tr th:only-of-type {\n",
       "        vertical-align: middle;\n",
       "    }\n",
       "\n",
       "    .dataframe tbody tr th {\n",
       "        vertical-align: top;\n",
       "    }\n",
       "\n",
       "    .dataframe thead th {\n",
       "        text-align: right;\n",
       "    }\n",
       "</style>\n",
       "<table border=\"1\" class=\"dataframe\">\n",
       "  <thead>\n",
       "    <tr style=\"text-align: right;\">\n",
       "      <th></th>\n",
       "      <th>pr_id</th>\n",
       "      <th>github_pr_id</th>\n",
       "      <th>commenter_id</th>\n",
       "      <th>commenter_username</th>\n",
       "      <th>commenter_follower_count</th>\n",
       "      <th>commenter_total_github_commit_count</th>\n",
       "      <th>commenter_base_repo_commit_count</th>\n",
       "      <th>head_commit_author_id</th>\n",
       "      <th>head_commit_author_username</th>\n",
       "      <th>head_commit_committer_id</th>\n",
       "      <th>...</th>\n",
       "      <th>head_repo_owner_id</th>\n",
       "      <th>head_repo_owner_username</th>\n",
       "      <th>head_commit_id</th>\n",
       "      <th>base_commit_id</th>\n",
       "      <th>pullreq_id</th>\n",
       "      <th>comment_created_at</th>\n",
       "      <th>comment_position</th>\n",
       "      <th>comment_id</th>\n",
       "      <th>comment_body</th>\n",
       "      <th>commenter_username_enc</th>\n",
       "    </tr>\n",
       "  </thead>\n",
       "  <tbody>\n",
       "    <tr>\n",
       "      <th>0</th>\n",
       "      <td>16143045</td>\n",
       "      <td>28120</td>\n",
       "      <td>7684572</td>\n",
       "      <td>vefimova</td>\n",
       "      <td>3</td>\n",
       "      <td>407</td>\n",
       "      <td>7</td>\n",
       "      <td>7684572</td>\n",
       "      <td>vefimova</td>\n",
       "      <td>7684572</td>\n",
       "      <td>...</td>\n",
       "      <td>7684572</td>\n",
       "      <td>vefimova</td>\n",
       "      <td>488416504</td>\n",
       "      <td>487143381</td>\n",
       "      <td>28120</td>\n",
       "      <td>2016-07-04 10:35:17 UTC</td>\n",
       "      <td>19</td>\n",
       "      <td>69439208</td>\n",
       "      <td>Yes, they're all in list. But still it would b...</td>\n",
       "      <td>1146.0</td>\n",
       "    </tr>\n",
       "    <tr>\n",
       "      <th>1</th>\n",
       "      <td>16143045</td>\n",
       "      <td>28120</td>\n",
       "      <td>7684572</td>\n",
       "      <td>vefimova</td>\n",
       "      <td>3</td>\n",
       "      <td>407</td>\n",
       "      <td>7</td>\n",
       "      <td>7684572</td>\n",
       "      <td>vefimova</td>\n",
       "      <td>7684572</td>\n",
       "      <td>...</td>\n",
       "      <td>7684572</td>\n",
       "      <td>vefimova</td>\n",
       "      <td>488416504</td>\n",
       "      <td>487143381</td>\n",
       "      <td>28120</td>\n",
       "      <td>2016-07-06 15:10:43 UTC</td>\n",
       "      <td>4</td>\n",
       "      <td>69749453</td>\n",
       "      <td>the same answer here :)</td>\n",
       "      <td>1146.0</td>\n",
       "    </tr>\n",
       "    <tr>\n",
       "      <th>2</th>\n",
       "      <td>16143045</td>\n",
       "      <td>28120</td>\n",
       "      <td>7684572</td>\n",
       "      <td>vefimova</td>\n",
       "      <td>3</td>\n",
       "      <td>407</td>\n",
       "      <td>7</td>\n",
       "      <td>7684572</td>\n",
       "      <td>vefimova</td>\n",
       "      <td>7684572</td>\n",
       "      <td>...</td>\n",
       "      <td>7684572</td>\n",
       "      <td>vefimova</td>\n",
       "      <td>488416504</td>\n",
       "      <td>487143381</td>\n",
       "      <td>28120</td>\n",
       "      <td>2016-07-06 15:03:49 UTC</td>\n",
       "      <td>24</td>\n",
       "      <td>69748071</td>\n",
       "      <td>This check is called in case of failure of CRE...</td>\n",
       "      <td>1146.0</td>\n",
       "    </tr>\n",
       "    <tr>\n",
       "      <th>3</th>\n",
       "      <td>16143045</td>\n",
       "      <td>28120</td>\n",
       "      <td>7684572</td>\n",
       "      <td>vefimova</td>\n",
       "      <td>3</td>\n",
       "      <td>407</td>\n",
       "      <td>7</td>\n",
       "      <td>7684572</td>\n",
       "      <td>vefimova</td>\n",
       "      <td>7684572</td>\n",
       "      <td>...</td>\n",
       "      <td>7684572</td>\n",
       "      <td>vefimova</td>\n",
       "      <td>488416504</td>\n",
       "      <td>487143381</td>\n",
       "      <td>28120</td>\n",
       "      <td>2016-07-04 10:36:07 UTC</td>\n",
       "      <td>24</td>\n",
       "      <td>69439304</td>\n",
       "      <td>thx, will fix</td>\n",
       "      <td>1146.0</td>\n",
       "    </tr>\n",
       "    <tr>\n",
       "      <th>4</th>\n",
       "      <td>16143045</td>\n",
       "      <td>28120</td>\n",
       "      <td>7684572</td>\n",
       "      <td>vefimova</td>\n",
       "      <td>3</td>\n",
       "      <td>407</td>\n",
       "      <td>7</td>\n",
       "      <td>7684572</td>\n",
       "      <td>vefimova</td>\n",
       "      <td>7684572</td>\n",
       "      <td>...</td>\n",
       "      <td>7684572</td>\n",
       "      <td>vefimova</td>\n",
       "      <td>488416504</td>\n",
       "      <td>487143381</td>\n",
       "      <td>28120</td>\n",
       "      <td>2016-07-04 10:36:02 UTC</td>\n",
       "      <td>31</td>\n",
       "      <td>69439297</td>\n",
       "      <td>thx, will fix</td>\n",
       "      <td>1146.0</td>\n",
       "    </tr>\n",
       "    <tr>\n",
       "      <th>...</th>\n",
       "      <td>...</td>\n",
       "      <td>...</td>\n",
       "      <td>...</td>\n",
       "      <td>...</td>\n",
       "      <td>...</td>\n",
       "      <td>...</td>\n",
       "      <td>...</td>\n",
       "      <td>...</td>\n",
       "      <td>...</td>\n",
       "      <td>...</td>\n",
       "      <td>...</td>\n",
       "      <td>...</td>\n",
       "      <td>...</td>\n",
       "      <td>...</td>\n",
       "      <td>...</td>\n",
       "      <td>...</td>\n",
       "      <td>...</td>\n",
       "      <td>...</td>\n",
       "      <td>...</td>\n",
       "      <td>...</td>\n",
       "      <td>...</td>\n",
       "    </tr>\n",
       "    <tr>\n",
       "      <th>132840</th>\n",
       "      <td>25176148</td>\n",
       "      <td>46966</td>\n",
       "      <td>4659404</td>\n",
       "      <td>deads2k</td>\n",
       "      <td>95</td>\n",
       "      <td>15279</td>\n",
       "      <td>786</td>\n",
       "      <td>2950878</td>\n",
       "      <td>ilackarms</td>\n",
       "      <td>2950878</td>\n",
       "      <td>...</td>\n",
       "      <td>2950878</td>\n",
       "      <td>ilackarms</td>\n",
       "      <td>707726103</td>\n",
       "      <td>707605581</td>\n",
       "      <td>46966</td>\n",
       "      <td>2017-06-06 15:14:36 UTC</td>\n",
       "      <td>4</td>\n",
       "      <td>120390193</td>\n",
       "      <td>this should cause you to fail a verify script.</td>\n",
       "      <td>357.0</td>\n",
       "    </tr>\n",
       "    <tr>\n",
       "      <th>132841</th>\n",
       "      <td>25176148</td>\n",
       "      <td>46966</td>\n",
       "      <td>4659404</td>\n",
       "      <td>deads2k</td>\n",
       "      <td>95</td>\n",
       "      <td>15279</td>\n",
       "      <td>786</td>\n",
       "      <td>2950878</td>\n",
       "      <td>ilackarms</td>\n",
       "      <td>2950878</td>\n",
       "      <td>...</td>\n",
       "      <td>2950878</td>\n",
       "      <td>ilackarms</td>\n",
       "      <td>707726103</td>\n",
       "      <td>707605581</td>\n",
       "      <td>46966</td>\n",
       "      <td>2017-06-06 15:14:50 UTC</td>\n",
       "      <td>4</td>\n",
       "      <td>120390258</td>\n",
       "      <td>It's why you need a generic feature flag.</td>\n",
       "      <td>357.0</td>\n",
       "    </tr>\n",
       "    <tr>\n",
       "      <th>132842</th>\n",
       "      <td>24395322</td>\n",
       "      <td>45666</td>\n",
       "      <td>3204869</td>\n",
       "      <td>kargakis</td>\n",
       "      <td>71</td>\n",
       "      <td>11252</td>\n",
       "      <td>342</td>\n",
       "      <td>2950878</td>\n",
       "      <td>ilackarms</td>\n",
       "      <td>2950878</td>\n",
       "      <td>...</td>\n",
       "      <td>2950878</td>\n",
       "      <td>ilackarms</td>\n",
       "      <td>689275934</td>\n",
       "      <td>690621974</td>\n",
       "      <td>45666</td>\n",
       "      <td>2017-06-03 01:08:09 UTC</td>\n",
       "      <td>68</td>\n",
       "      <td>119975004</td>\n",
       "      <td>lowercase the start of the godoc</td>\n",
       "      <td>661.0</td>\n",
       "    </tr>\n",
       "    <tr>\n",
       "      <th>132843</th>\n",
       "      <td>24395322</td>\n",
       "      <td>45666</td>\n",
       "      <td>3204869</td>\n",
       "      <td>kargakis</td>\n",
       "      <td>71</td>\n",
       "      <td>11252</td>\n",
       "      <td>342</td>\n",
       "      <td>2950878</td>\n",
       "      <td>ilackarms</td>\n",
       "      <td>2950878</td>\n",
       "      <td>...</td>\n",
       "      <td>2950878</td>\n",
       "      <td>ilackarms</td>\n",
       "      <td>689275934</td>\n",
       "      <td>690621974</td>\n",
       "      <td>45666</td>\n",
       "      <td>2017-06-03 01:07:48 UTC</td>\n",
       "      <td>24</td>\n",
       "      <td>119974994</td>\n",
       "      <td>Separate stdlib imports from k8s imports</td>\n",
       "      <td>661.0</td>\n",
       "    </tr>\n",
       "    <tr>\n",
       "      <th>132844</th>\n",
       "      <td>24395322</td>\n",
       "      <td>45666</td>\n",
       "      <td>3204869</td>\n",
       "      <td>kargakis</td>\n",
       "      <td>71</td>\n",
       "      <td>11252</td>\n",
       "      <td>342</td>\n",
       "      <td>2950878</td>\n",
       "      <td>ilackarms</td>\n",
       "      <td>2950878</td>\n",
       "      <td>...</td>\n",
       "      <td>2950878</td>\n",
       "      <td>ilackarms</td>\n",
       "      <td>689275934</td>\n",
       "      <td>690621974</td>\n",
       "      <td>45666</td>\n",
       "      <td>2017-06-03 01:08:22 UTC</td>\n",
       "      <td>27</td>\n",
       "      <td>119975015</td>\n",
       "      <td>move with the rest of the stdlib imports</td>\n",
       "      <td>661.0</td>\n",
       "    </tr>\n",
       "  </tbody>\n",
       "</table>\n",
       "<p>132845 rows × 29 columns</p>\n",
       "</div>"
      ],
      "text/plain": [
       "           pr_id  github_pr_id  commenter_id commenter_username  \\\n",
       "0       16143045         28120       7684572           vefimova   \n",
       "1       16143045         28120       7684572           vefimova   \n",
       "2       16143045         28120       7684572           vefimova   \n",
       "3       16143045         28120       7684572           vefimova   \n",
       "4       16143045         28120       7684572           vefimova   \n",
       "...          ...           ...           ...                ...   \n",
       "132840  25176148         46966       4659404            deads2k   \n",
       "132841  25176148         46966       4659404            deads2k   \n",
       "132842  24395322         45666       3204869           kargakis   \n",
       "132843  24395322         45666       3204869           kargakis   \n",
       "132844  24395322         45666       3204869           kargakis   \n",
       "\n",
       "        commenter_follower_count  commenter_total_github_commit_count  \\\n",
       "0                              3                                  407   \n",
       "1                              3                                  407   \n",
       "2                              3                                  407   \n",
       "3                              3                                  407   \n",
       "4                              3                                  407   \n",
       "...                          ...                                  ...   \n",
       "132840                        95                                15279   \n",
       "132841                        95                                15279   \n",
       "132842                        71                                11252   \n",
       "132843                        71                                11252   \n",
       "132844                        71                                11252   \n",
       "\n",
       "        commenter_base_repo_commit_count  head_commit_author_id  \\\n",
       "0                                      7                7684572   \n",
       "1                                      7                7684572   \n",
       "2                                      7                7684572   \n",
       "3                                      7                7684572   \n",
       "4                                      7                7684572   \n",
       "...                                  ...                    ...   \n",
       "132840                               786                2950878   \n",
       "132841                               786                2950878   \n",
       "132842                               342                2950878   \n",
       "132843                               342                2950878   \n",
       "132844                               342                2950878   \n",
       "\n",
       "       head_commit_author_username  head_commit_committer_id  ...  \\\n",
       "0                         vefimova                   7684572  ...   \n",
       "1                         vefimova                   7684572  ...   \n",
       "2                         vefimova                   7684572  ...   \n",
       "3                         vefimova                   7684572  ...   \n",
       "4                         vefimova                   7684572  ...   \n",
       "...                            ...                       ...  ...   \n",
       "132840                   ilackarms                   2950878  ...   \n",
       "132841                   ilackarms                   2950878  ...   \n",
       "132842                   ilackarms                   2950878  ...   \n",
       "132843                   ilackarms                   2950878  ...   \n",
       "132844                   ilackarms                   2950878  ...   \n",
       "\n",
       "       head_repo_owner_id  head_repo_owner_username head_commit_id  \\\n",
       "0                 7684572                  vefimova      488416504   \n",
       "1                 7684572                  vefimova      488416504   \n",
       "2                 7684572                  vefimova      488416504   \n",
       "3                 7684572                  vefimova      488416504   \n",
       "4                 7684572                  vefimova      488416504   \n",
       "...                   ...                       ...            ...   \n",
       "132840            2950878                 ilackarms      707726103   \n",
       "132841            2950878                 ilackarms      707726103   \n",
       "132842            2950878                 ilackarms      689275934   \n",
       "132843            2950878                 ilackarms      689275934   \n",
       "132844            2950878                 ilackarms      689275934   \n",
       "\n",
       "        base_commit_id pullreq_id       comment_created_at  comment_position  \\\n",
       "0            487143381      28120  2016-07-04 10:35:17 UTC                19   \n",
       "1            487143381      28120  2016-07-06 15:10:43 UTC                 4   \n",
       "2            487143381      28120  2016-07-06 15:03:49 UTC                24   \n",
       "3            487143381      28120  2016-07-04 10:36:07 UTC                24   \n",
       "4            487143381      28120  2016-07-04 10:36:02 UTC                31   \n",
       "...                ...        ...                      ...               ...   \n",
       "132840       707605581      46966  2017-06-06 15:14:36 UTC                 4   \n",
       "132841       707605581      46966  2017-06-06 15:14:50 UTC                 4   \n",
       "132842       690621974      45666  2017-06-03 01:08:09 UTC                68   \n",
       "132843       690621974      45666  2017-06-03 01:07:48 UTC                24   \n",
       "132844       690621974      45666  2017-06-03 01:08:22 UTC                27   \n",
       "\n",
       "        comment_id                                       comment_body  \\\n",
       "0         69439208  Yes, they're all in list. But still it would b...   \n",
       "1         69749453                            the same answer here :)   \n",
       "2         69748071  This check is called in case of failure of CRE...   \n",
       "3         69439304                                      thx, will fix   \n",
       "4         69439297                                      thx, will fix   \n",
       "...            ...                                                ...   \n",
       "132840   120390193     this should cause you to fail a verify script.   \n",
       "132841   120390258          It's why you need a generic feature flag.   \n",
       "132842   119975004                   lowercase the start of the godoc   \n",
       "132843   119974994           Separate stdlib imports from k8s imports   \n",
       "132844   119975015           move with the rest of the stdlib imports   \n",
       "\n",
       "        commenter_username_enc  \n",
       "0                       1146.0  \n",
       "1                       1146.0  \n",
       "2                       1146.0  \n",
       "3                       1146.0  \n",
       "4                       1146.0  \n",
       "...                        ...  \n",
       "132840                   357.0  \n",
       "132841                   357.0  \n",
       "132842                   661.0  \n",
       "132843                   661.0  \n",
       "132844                   661.0  \n",
       "\n",
       "[132845 rows x 29 columns]"
      ]
     },
     "execution_count": 1243,
     "metadata": {},
     "output_type": "execute_result"
    }
   ],
   "source": [
    "# comment data \n",
    "data"
   ]
  },
  {
   "cell_type": "code",
   "execution_count": 1244,
   "metadata": {},
   "outputs": [
    {
     "data": {
      "text/html": [
       "<div>\n",
       "<style scoped>\n",
       "    .dataframe tbody tr th:only-of-type {\n",
       "        vertical-align: middle;\n",
       "    }\n",
       "\n",
       "    .dataframe tbody tr th {\n",
       "        vertical-align: top;\n",
       "    }\n",
       "\n",
       "    .dataframe thead th {\n",
       "        text-align: right;\n",
       "    }\n",
       "</style>\n",
       "<table border=\"1\" class=\"dataframe\">\n",
       "  <thead>\n",
       "    <tr style=\"text-align: right;\">\n",
       "      <th></th>\n",
       "      <th>average_additions</th>\n",
       "      <th>average_changes</th>\n",
       "      <th>average_deletions</th>\n",
       "      <th>average_c2v_filepath</th>\n",
       "      <th>filepath_count</th>\n",
       "      <th>pr_id</th>\n",
       "    </tr>\n",
       "    <tr>\n",
       "      <th>pr_id</th>\n",
       "      <th></th>\n",
       "      <th></th>\n",
       "      <th></th>\n",
       "      <th></th>\n",
       "      <th></th>\n",
       "      <th></th>\n",
       "    </tr>\n",
       "  </thead>\n",
       "  <tbody>\n",
       "    <tr>\n",
       "      <th>3810</th>\n",
       "      <td>22.647059</td>\n",
       "      <td>36.529412</td>\n",
       "      <td>13.882353</td>\n",
       "      <td>[-0.42830998, 0.11934379, 0.0045948424, 0.1383...</td>\n",
       "      <td>17</td>\n",
       "      <td>3810</td>\n",
       "    </tr>\n",
       "    <tr>\n",
       "      <th>5093</th>\n",
       "      <td>76.760000</td>\n",
       "      <td>78.360000</td>\n",
       "      <td>1.600000</td>\n",
       "      <td>[-0.29726705, 0.1870893, -0.0065093637, 0.0160...</td>\n",
       "      <td>25</td>\n",
       "      <td>5093</td>\n",
       "    </tr>\n",
       "    <tr>\n",
       "      <th>5446</th>\n",
       "      <td>47.125000</td>\n",
       "      <td>50.375000</td>\n",
       "      <td>3.250000</td>\n",
       "      <td>[-0.35974368, 0.1993072, -0.0074786684, 0.1189...</td>\n",
       "      <td>8</td>\n",
       "      <td>5446</td>\n",
       "    </tr>\n",
       "    <tr>\n",
       "      <th>5763</th>\n",
       "      <td>17.333333</td>\n",
       "      <td>24.633333</td>\n",
       "      <td>7.300000</td>\n",
       "      <td>[-0.21188231, 0.06627194, -0.078078255, -0.029...</td>\n",
       "      <td>30</td>\n",
       "      <td>5763</td>\n",
       "    </tr>\n",
       "    <tr>\n",
       "      <th>5830</th>\n",
       "      <td>8.000000</td>\n",
       "      <td>9.000000</td>\n",
       "      <td>1.000000</td>\n",
       "      <td>[-0.040795784, 0.11978642, 0.033581033, 0.3804...</td>\n",
       "      <td>1</td>\n",
       "      <td>5830</td>\n",
       "    </tr>\n",
       "    <tr>\n",
       "      <th>...</th>\n",
       "      <td>...</td>\n",
       "      <td>...</td>\n",
       "      <td>...</td>\n",
       "      <td>...</td>\n",
       "      <td>...</td>\n",
       "      <td>...</td>\n",
       "    </tr>\n",
       "    <tr>\n",
       "      <th>14550</th>\n",
       "      <td>26.333333</td>\n",
       "      <td>46.666667</td>\n",
       "      <td>20.333333</td>\n",
       "      <td>[-0.4248884, 0.22886688, 0.060796153, 0.240098...</td>\n",
       "      <td>3</td>\n",
       "      <td>14550</td>\n",
       "    </tr>\n",
       "    <tr>\n",
       "      <th>14551</th>\n",
       "      <td>37.700000</td>\n",
       "      <td>39.400000</td>\n",
       "      <td>1.700000</td>\n",
       "      <td>[-0.36146015, 0.20489497, -0.058182724, 0.0244...</td>\n",
       "      <td>10</td>\n",
       "      <td>14551</td>\n",
       "    </tr>\n",
       "    <tr>\n",
       "      <th>14553</th>\n",
       "      <td>14.000000</td>\n",
       "      <td>21.000000</td>\n",
       "      <td>7.000000</td>\n",
       "      <td>[-0.499357, 0.21513298, 0.08360959, 0.04649373...</td>\n",
       "      <td>2</td>\n",
       "      <td>14553</td>\n",
       "    </tr>\n",
       "    <tr>\n",
       "      <th>14559</th>\n",
       "      <td>6.500000</td>\n",
       "      <td>12.000000</td>\n",
       "      <td>5.500000</td>\n",
       "      <td>[-0.5048731, 0.28517962, 0.03052647, 0.3543420...</td>\n",
       "      <td>4</td>\n",
       "      <td>14559</td>\n",
       "    </tr>\n",
       "    <tr>\n",
       "      <th>14564</th>\n",
       "      <td>72.000000</td>\n",
       "      <td>72.000000</td>\n",
       "      <td>0.000000</td>\n",
       "      <td>[-0.18684022, 0.2014174, -0.1348606, 0.3163837...</td>\n",
       "      <td>1</td>\n",
       "      <td>14564</td>\n",
       "    </tr>\n",
       "  </tbody>\n",
       "</table>\n",
       "<p>600 rows × 6 columns</p>\n",
       "</div>"
      ],
      "text/plain": [
       "       average_additions  average_changes  average_deletions  \\\n",
       "pr_id                                                          \n",
       "3810           22.647059        36.529412          13.882353   \n",
       "5093           76.760000        78.360000           1.600000   \n",
       "5446           47.125000        50.375000           3.250000   \n",
       "5763           17.333333        24.633333           7.300000   \n",
       "5830            8.000000         9.000000           1.000000   \n",
       "...                  ...              ...                ...   \n",
       "14550          26.333333        46.666667          20.333333   \n",
       "14551          37.700000        39.400000           1.700000   \n",
       "14553          14.000000        21.000000           7.000000   \n",
       "14559           6.500000        12.000000           5.500000   \n",
       "14564          72.000000        72.000000           0.000000   \n",
       "\n",
       "                                    average_c2v_filepath  filepath_count  \\\n",
       "pr_id                                                                      \n",
       "3810   [-0.42830998, 0.11934379, 0.0045948424, 0.1383...              17   \n",
       "5093   [-0.29726705, 0.1870893, -0.0065093637, 0.0160...              25   \n",
       "5446   [-0.35974368, 0.1993072, -0.0074786684, 0.1189...               8   \n",
       "5763   [-0.21188231, 0.06627194, -0.078078255, -0.029...              30   \n",
       "5830   [-0.040795784, 0.11978642, 0.033581033, 0.3804...               1   \n",
       "...                                                  ...             ...   \n",
       "14550  [-0.4248884, 0.22886688, 0.060796153, 0.240098...               3   \n",
       "14551  [-0.36146015, 0.20489497, -0.058182724, 0.0244...              10   \n",
       "14553  [-0.499357, 0.21513298, 0.08360959, 0.04649373...               2   \n",
       "14559  [-0.5048731, 0.28517962, 0.03052647, 0.3543420...               4   \n",
       "14564  [-0.18684022, 0.2014174, -0.1348606, 0.3163837...               1   \n",
       "\n",
       "       pr_id  \n",
       "pr_id         \n",
       "3810    3810  \n",
       "5093    5093  \n",
       "5446    5446  \n",
       "5763    5763  \n",
       "5830    5830  \n",
       "...      ...  \n",
       "14550  14550  \n",
       "14551  14551  \n",
       "14553  14553  \n",
       "14559  14559  \n",
       "14564  14564  \n",
       "\n",
       "[600 rows x 6 columns]"
      ]
     },
     "execution_count": 1244,
     "metadata": {},
     "output_type": "execute_result"
    }
   ],
   "source": [
    "# filepath data\n",
    "filepath_summary_df"
   ]
  },
  {
   "cell_type": "code",
   "execution_count": 1245,
   "metadata": {},
   "outputs": [
    {
     "data": {
      "text/html": [
       "<div>\n",
       "<style scoped>\n",
       "    .dataframe tbody tr th:only-of-type {\n",
       "        vertical-align: middle;\n",
       "    }\n",
       "\n",
       "    .dataframe tbody tr th {\n",
       "        vertical-align: top;\n",
       "    }\n",
       "\n",
       "    .dataframe thead th {\n",
       "        text-align: right;\n",
       "    }\n",
       "</style>\n",
       "<table border=\"1\" class=\"dataframe\">\n",
       "  <thead>\n",
       "    <tr style=\"text-align: right;\">\n",
       "      <th></th>\n",
       "      <th>pr_id</th>\n",
       "      <th>state</th>\n",
       "      <th>title</th>\n",
       "      <th>body</th>\n",
       "      <th>created_at</th>\n",
       "      <th>updated_at</th>\n",
       "      <th>closed_at</th>\n",
       "      <th>merged_at</th>\n",
       "      <th>c2v_title</th>\n",
       "    </tr>\n",
       "  </thead>\n",
       "  <tbody>\n",
       "    <tr>\n",
       "      <th>0</th>\n",
       "      <td>32769</td>\n",
       "      <td>closed</td>\n",
       "      <td>clientgen: allow to pass custom apiPath when g...</td>\n",
       "      <td>This PR allow to pass the `--clientset-api-pat...</td>\n",
       "      <td>2016-09-15T10:11:55Z</td>\n",
       "      <td>2016-10-17T11:52:04Z</td>\n",
       "      <td>2016-10-17T11:52:04Z</td>\n",
       "      <td>2016-10-17T11:52:04Z</td>\n",
       "      <td>[-0.32718894, 0.10044608, -0.049924213, -0.024...</td>\n",
       "    </tr>\n",
       "    <tr>\n",
       "      <th>1</th>\n",
       "      <td>32771</td>\n",
       "      <td>closed</td>\n",
       "      <td>MinReadySeconds / AvailableReplicas for Replic...</td>\n",
       "      <td>This PR adds minReadySeconds and availableRepl...</td>\n",
       "      <td>2016-09-15T10:13:55Z</td>\n",
       "      <td>2016-09-28T13:41:11Z</td>\n",
       "      <td>2016-09-28T13:17:54Z</td>\n",
       "      <td>2016-09-28T13:17:54Z</td>\n",
       "      <td>[-0.36500558, 0.2037448, 0.055058192, 0.308119...</td>\n",
       "    </tr>\n",
       "    <tr>\n",
       "      <th>2</th>\n",
       "      <td>32774</td>\n",
       "      <td>closed</td>\n",
       "      <td>support building with bazel</td>\n",
       "      <td>```\\n$  bazel version\\nBuild label: 0.3.1\\nBui...</td>\n",
       "      <td>2016-09-15T10:37:33Z</td>\n",
       "      <td>2017-01-03T08:13:36Z</td>\n",
       "      <td>2016-10-22T01:15:30Z</td>\n",
       "      <td>2016-10-22T01:15:30Z</td>\n",
       "      <td>[-0.044354472, 0.069892265, -0.103370234, 0.25...</td>\n",
       "    </tr>\n",
       "    <tr>\n",
       "      <th>3</th>\n",
       "      <td>32776</td>\n",
       "      <td>closed</td>\n",
       "      <td>[Controller Manager] Fix endpoint controller h...</td>\n",
       "      <td>&lt;!--  Thanks for sending a pull request!  Here...</td>\n",
       "      <td>2016-09-15T11:30:16Z</td>\n",
       "      <td>2016-09-20T00:52:15Z</td>\n",
       "      <td>2016-09-18T03:01:41Z</td>\n",
       "      <td>2016-09-18T03:01:41Z</td>\n",
       "      <td>[-0.30618578, 0.17392097, 0.10421513, 0.034414...</td>\n",
       "    </tr>\n",
       "    <tr>\n",
       "      <th>4</th>\n",
       "      <td>32778</td>\n",
       "      <td>closed</td>\n",
       "      <td>recommendations for writing controllers</td>\n",
       "      <td>There have been questions about how to write c...</td>\n",
       "      <td>2016-09-15T11:40:16Z</td>\n",
       "      <td>2017-02-01T17:25:19Z</td>\n",
       "      <td>2016-10-18T14:20:46Z</td>\n",
       "      <td>2016-10-18T14:20:46Z</td>\n",
       "      <td>[-0.6259688, 0.12793466, 0.048771158, 0.030597...</td>\n",
       "    </tr>\n",
       "    <tr>\n",
       "      <th>...</th>\n",
       "      <td>...</td>\n",
       "      <td>...</td>\n",
       "      <td>...</td>\n",
       "      <td>...</td>\n",
       "      <td>...</td>\n",
       "      <td>...</td>\n",
       "      <td>...</td>\n",
       "      <td>...</td>\n",
       "      <td>...</td>\n",
       "    </tr>\n",
       "    <tr>\n",
       "      <th>11468</th>\n",
       "      <td>32751</td>\n",
       "      <td>closed</td>\n",
       "      <td>Specific error message on failed rolling updat...</td>\n",
       "      <td>Fix #32706\\n\\n`kubernetes-e2e-gke-1.4-1.3-kube...</td>\n",
       "      <td>2016-09-15T00:50:01Z</td>\n",
       "      <td>2016-09-17T08:07:27Z</td>\n",
       "      <td>2016-09-16T04:41:57Z</td>\n",
       "      <td>2016-09-16T04:41:56Z</td>\n",
       "      <td>[-0.22287665, 0.17678161, 0.012020456, 0.03112...</td>\n",
       "    </tr>\n",
       "    <tr>\n",
       "      <th>11469</th>\n",
       "      <td>32752</td>\n",
       "      <td>closed</td>\n",
       "      <td>Allow a selector when retrieving logs</td>\n",
       "      <td>#19873\\n\\ninitial commit to see if I am headed...</td>\n",
       "      <td>2016-09-15T01:26:00Z</td>\n",
       "      <td>2016-12-09T00:25:54Z</td>\n",
       "      <td>2016-12-09T00:25:54Z</td>\n",
       "      <td>2016-12-09T00:25:54Z</td>\n",
       "      <td>[-0.2879012, 0.17807911, 0.02204235, -0.074969...</td>\n",
       "    </tr>\n",
       "    <tr>\n",
       "      <th>11470</th>\n",
       "      <td>32754</td>\n",
       "      <td>closed</td>\n",
       "      <td>Add missing test owners, reassign swagiaal</td>\n",
       "      <td>&lt;!-- Reviewable:start --&gt;\\n\\nThis change is [&lt;...</td>\n",
       "      <td>2016-09-15T01:33:52Z</td>\n",
       "      <td>2019-11-06T15:41:20Z</td>\n",
       "      <td>2016-09-19T19:51:28Z</td>\n",
       "      <td>NaN</td>\n",
       "      <td>[-0.08237859, 0.13871324, -0.043578517, 0.1916...</td>\n",
       "    </tr>\n",
       "    <tr>\n",
       "      <th>11471</th>\n",
       "      <td>32760</td>\n",
       "      <td>closed</td>\n",
       "      <td>simplify logic of containerAndPodFromLabels func</td>\n",
       "      <td>Removing the else primitive to make the code s...</td>\n",
       "      <td>2016-09-15T05:22:57Z</td>\n",
       "      <td>2016-09-15T23:30:19Z</td>\n",
       "      <td>2016-09-15T23:30:19Z</td>\n",
       "      <td>NaN</td>\n",
       "      <td>[-0.4534576, 0.34677345, -0.048078977, 0.17180...</td>\n",
       "    </tr>\n",
       "    <tr>\n",
       "      <th>11472</th>\n",
       "      <td>32767</td>\n",
       "      <td>closed</td>\n",
       "      <td>Fix TODO: duplicate secrets are being retrieve...</td>\n",
       "      <td>Fix TODO: duplicate secrets are being retrieve...</td>\n",
       "      <td>2016-09-15T09:52:01Z</td>\n",
       "      <td>2016-10-13T01:59:31Z</td>\n",
       "      <td>2016-10-13T01:59:31Z</td>\n",
       "      <td>NaN</td>\n",
       "      <td>[-0.21892865, 0.0858606, 0.02912675, -0.001715...</td>\n",
       "    </tr>\n",
       "  </tbody>\n",
       "</table>\n",
       "<p>11473 rows × 9 columns</p>\n",
       "</div>"
      ],
      "text/plain": [
       "       pr_id   state                                              title  \\\n",
       "0      32769  closed  clientgen: allow to pass custom apiPath when g...   \n",
       "1      32771  closed  MinReadySeconds / AvailableReplicas for Replic...   \n",
       "2      32774  closed                        support building with bazel   \n",
       "3      32776  closed  [Controller Manager] Fix endpoint controller h...   \n",
       "4      32778  closed            recommendations for writing controllers   \n",
       "...      ...     ...                                                ...   \n",
       "11468  32751  closed  Specific error message on failed rolling updat...   \n",
       "11469  32752  closed              Allow a selector when retrieving logs   \n",
       "11470  32754  closed         Add missing test owners, reassign swagiaal   \n",
       "11471  32760  closed   simplify logic of containerAndPodFromLabels func   \n",
       "11472  32767  closed  Fix TODO: duplicate secrets are being retrieve...   \n",
       "\n",
       "                                                    body  \\\n",
       "0      This PR allow to pass the `--clientset-api-pat...   \n",
       "1      This PR adds minReadySeconds and availableRepl...   \n",
       "2      ```\\n$  bazel version\\nBuild label: 0.3.1\\nBui...   \n",
       "3      <!--  Thanks for sending a pull request!  Here...   \n",
       "4      There have been questions about how to write c...   \n",
       "...                                                  ...   \n",
       "11468  Fix #32706\\n\\n`kubernetes-e2e-gke-1.4-1.3-kube...   \n",
       "11469  #19873\\n\\ninitial commit to see if I am headed...   \n",
       "11470  <!-- Reviewable:start -->\\n\\nThis change is [<...   \n",
       "11471  Removing the else primitive to make the code s...   \n",
       "11472  Fix TODO: duplicate secrets are being retrieve...   \n",
       "\n",
       "                 created_at            updated_at             closed_at  \\\n",
       "0      2016-09-15T10:11:55Z  2016-10-17T11:52:04Z  2016-10-17T11:52:04Z   \n",
       "1      2016-09-15T10:13:55Z  2016-09-28T13:41:11Z  2016-09-28T13:17:54Z   \n",
       "2      2016-09-15T10:37:33Z  2017-01-03T08:13:36Z  2016-10-22T01:15:30Z   \n",
       "3      2016-09-15T11:30:16Z  2016-09-20T00:52:15Z  2016-09-18T03:01:41Z   \n",
       "4      2016-09-15T11:40:16Z  2017-02-01T17:25:19Z  2016-10-18T14:20:46Z   \n",
       "...                     ...                   ...                   ...   \n",
       "11468  2016-09-15T00:50:01Z  2016-09-17T08:07:27Z  2016-09-16T04:41:57Z   \n",
       "11469  2016-09-15T01:26:00Z  2016-12-09T00:25:54Z  2016-12-09T00:25:54Z   \n",
       "11470  2016-09-15T01:33:52Z  2019-11-06T15:41:20Z  2016-09-19T19:51:28Z   \n",
       "11471  2016-09-15T05:22:57Z  2016-09-15T23:30:19Z  2016-09-15T23:30:19Z   \n",
       "11472  2016-09-15T09:52:01Z  2016-10-13T01:59:31Z  2016-10-13T01:59:31Z   \n",
       "\n",
       "                  merged_at                                          c2v_title  \n",
       "0      2016-10-17T11:52:04Z  [-0.32718894, 0.10044608, -0.049924213, -0.024...  \n",
       "1      2016-09-28T13:17:54Z  [-0.36500558, 0.2037448, 0.055058192, 0.308119...  \n",
       "2      2016-10-22T01:15:30Z  [-0.044354472, 0.069892265, -0.103370234, 0.25...  \n",
       "3      2016-09-18T03:01:41Z  [-0.30618578, 0.17392097, 0.10421513, 0.034414...  \n",
       "4      2016-10-18T14:20:46Z  [-0.6259688, 0.12793466, 0.048771158, 0.030597...  \n",
       "...                     ...                                                ...  \n",
       "11468  2016-09-16T04:41:56Z  [-0.22287665, 0.17678161, 0.012020456, 0.03112...  \n",
       "11469  2016-12-09T00:25:54Z  [-0.2879012, 0.17807911, 0.02204235, -0.074969...  \n",
       "11470                   NaN  [-0.08237859, 0.13871324, -0.043578517, 0.1916...  \n",
       "11471                   NaN  [-0.4534576, 0.34677345, -0.048078977, 0.17180...  \n",
       "11472                   NaN  [-0.21892865, 0.0858606, 0.02912675, -0.001715...  \n",
       "\n",
       "[11473 rows x 9 columns]"
      ]
     },
     "execution_count": 1245,
     "metadata": {},
     "output_type": "execute_result"
    }
   ],
   "source": [
    "# PR title data\n",
    "title_data"
   ]
  },
  {
   "cell_type": "markdown",
   "metadata": {},
   "source": [
    "### Graph Construction (networkx)"
   ]
  },
  {
   "cell_type": "code",
   "execution_count": 1246,
   "metadata": {},
   "outputs": [],
   "source": [
    "user_graph = nx.Graph()"
   ]
  },
  {
   "cell_type": "code",
   "execution_count": 1247,
   "metadata": {},
   "outputs": [],
   "source": [
    "title_data = title_data.sort_values('pr_id')"
   ]
  },
  {
   "cell_type": "code",
   "execution_count": 1248,
   "metadata": {},
   "outputs": [
    {
     "name": "stderr",
     "output_type": "stream",
     "text": [
      "/opt/anaconda3/lib/python3.7/site-packages/ipykernel_launcher.py:3: TqdmDeprecationWarning: This function will be removed in tqdm==5.0.0\n",
      "Please use `tqdm.notebook.tqdm` instead of `tqdm.tqdm_notebook`\n",
      "  This is separate from the ipykernel package so we can avoid doing imports until\n"
     ]
    },
    {
     "data": {
      "application/vnd.jupyter.widget-view+json": {
       "model_id": "43f60f3fd43044a488736b3c576ce4bb",
       "version_major": 2,
       "version_minor": 0
      },
      "text/plain": [
       "HBox(children=(FloatProgress(value=0.0, max=11473.0), HTML(value='')))"
      ]
     },
     "metadata": {},
     "output_type": "display_data"
    },
    {
     "name": "stderr",
     "output_type": "stream",
     "text": [
      "/opt/anaconda3/lib/python3.7/site-packages/ipykernel_launcher.py:27: SettingWithCopyWarning: \n",
      "A value is trying to be set on a copy of a slice from a DataFrame.\n",
      "Try using .loc[row_indexer,col_indexer] = value instead\n",
      "\n",
      "See the caveats in the documentation: https://pandas.pydata.org/pandas-docs/stable/user_guide/indexing.html#returning-a-view-versus-a-copy\n"
     ]
    },
    {
     "name": "stdout",
     "output_type": "stream",
     "text": [
      "\n"
     ]
    }
   ],
   "source": [
    "user_graph = build_comment_graph(user_graph, data)"
   ]
  },
  {
   "cell_type": "code",
   "execution_count": 1249,
   "metadata": {},
   "outputs": [
    {
     "name": "stderr",
     "output_type": "stream",
     "text": [
      "/opt/anaconda3/lib/python3.7/site-packages/ipykernel_launcher.py:2: TqdmDeprecationWarning: This function will be removed in tqdm==5.0.0\n",
      "Please use `tqdm.notebook.tqdm` instead of `tqdm.tqdm_notebook`\n",
      "  \n"
     ]
    },
    {
     "data": {
      "application/vnd.jupyter.widget-view+json": {
       "model_id": "fc6a3d7a67654399b40705f16bed6a1a",
       "version_major": 2,
       "version_minor": 0
      },
      "text/plain": [
       "HBox(children=(FloatProgress(value=0.0, max=600.0), HTML(value='')))"
      ]
     },
     "metadata": {},
     "output_type": "display_data"
    },
    {
     "name": "stdout",
     "output_type": "stream",
     "text": [
      "\n"
     ]
    }
   ],
   "source": [
    "user_graph = build_pr_graph(user_graph, filepath_summary_df, title_data)"
   ]
  },
  {
   "cell_type": "code",
   "execution_count": 1250,
   "metadata": {},
   "outputs": [
    {
     "name": "stderr",
     "output_type": "stream",
     "text": [
      "/opt/anaconda3/lib/python3.7/site-packages/ipykernel_launcher.py:5: TqdmDeprecationWarning: This function will be removed in tqdm==5.0.0\n",
      "Please use `tqdm.notebook.tqdm` instead of `tqdm.tqdm_notebook`\n",
      "  \"\"\"\n"
     ]
    },
    {
     "data": {
      "application/vnd.jupyter.widget-view+json": {
       "model_id": "376f34b13e49451c9a12470d56897739",
       "version_major": 2,
       "version_minor": 0
      },
      "text/plain": [
       "HBox(children=(FloatProgress(value=0.0, max=600.0), HTML(value='')))"
      ]
     },
     "metadata": {},
     "output_type": "display_data"
    },
    {
     "name": "stdout",
     "output_type": "stream",
     "text": [
      "\n"
     ]
    }
   ],
   "source": [
    "user_graph, edge_list_sample = connect_reviewer_pr_networks(user_graph, data, filepath_summary_df)"
   ]
  },
  {
   "cell_type": "markdown",
   "metadata": {},
   "source": [
    "### Building Training/Testing Graphs"
   ]
  },
  {
   "cell_type": "code",
   "execution_count": 1251,
   "metadata": {},
   "outputs": [],
   "source": [
    "edge_list_positive = []\n",
    "edge_list_negative = []\n",
    "\n",
    "for edge in (edge_list_sample):\n",
    "    if int(user_graph.has_edge(*edge)) == 0:\n",
    "        edge_list_negative.append([edge, int(user_graph.has_edge(*edge))])\n",
    "    else:\n",
    "        edge_list_positive.append([edge, int(user_graph.has_edge(*edge))])"
   ]
  },
  {
   "cell_type": "code",
   "execution_count": 1252,
   "metadata": {},
   "outputs": [
    {
     "data": {
      "text/plain": [
       "698"
      ]
     },
     "execution_count": 1252,
     "metadata": {},
     "output_type": "execute_result"
    }
   ],
   "source": [
    "len(edge_list_positive)"
   ]
  },
  {
   "cell_type": "code",
   "execution_count": 1253,
   "metadata": {},
   "outputs": [
    {
     "data": {
      "text/plain": [
       "16454"
      ]
     },
     "execution_count": 1253,
     "metadata": {},
     "output_type": "execute_result"
    }
   ],
   "source": [
    "len(user_graph.edges())"
   ]
  },
  {
   "cell_type": "code",
   "execution_count": 1254,
   "metadata": {},
   "outputs": [],
   "source": [
    "def edge_splitter(user_graph, edge_list_positive, edge_list_negative, p = 10):\n",
    "    samples = int(len(edge_list_positive)/p)\n",
    "    print(len(user_graph.edges()), samples)\n",
    "    edge_ids_test = []\n",
    "    edge_labels_test = []\n",
    "    for i in range(samples):\n",
    "        if edge_list_positive[i][0] not in edge_ids_test:\n",
    "            if user_graph.has_edge(*edge_list_positive[i][0]) == True:\n",
    "                edge_ids_test.append(edge_list_positive[i][0])\n",
    "                edge_labels_test.append(1)\n",
    "                user_graph.remove_edge(*edge_list_positive[i][0])\n",
    "            \n",
    "    \n",
    "    num_positive = len(edge_ids_test)\n",
    "    for i in range(num_positive):\n",
    "        edge_ids_test.append(edge_list_negative[i][0])\n",
    "        edge_labels_test.append(0)        \n",
    "        \n",
    "    edge_list_positive = edge_list_positive[num_positive:]\n",
    "    edge_list_negative = edge_list_negative[num_positive:]\n",
    "    \n",
    "    print(len(user_graph.edges()),len(edge_list_positive), len(edge_list_negative))\n",
    "    \n",
    "    G_test = StellarGraph.from_networkx(user_graph, node_features = 'features')\n",
    "    \n",
    "    samples = int(len(edge_list_positive)/p)\n",
    "    \n",
    "    edge_ids_train = []\n",
    "    edge_labels_train = []\n",
    "    for i in range(samples):\n",
    "        if edge_list_positive[i][0] not in edge_ids_train:\n",
    "            if user_graph.has_edge(*edge_list_positive[i][0]) == True:\n",
    "                edge_ids_train.append(edge_list_positive[i][0])\n",
    "                edge_labels_train.append(1)\n",
    "                user_graph.remove_edge(*edge_list_positive[i][0])\n",
    "            \n",
    "    \n",
    "    num_positive = len(edge_labels_train)\n",
    "    for i in range(num_positive):\n",
    "        edge_ids_train.append(edge_list_negative[i][0])\n",
    "        edge_labels_train.append(0)        \n",
    "        \n",
    "    edge_list_positive = edge_list_positive[samples:]\n",
    "    edge_list_positive = edge_list_positive[samples:]\n",
    "    print(len(user_graph.edges()),len(edge_list_positive), len(edge_list_negative))\n",
    "    G_train = StellarGraph.from_networkx(user_graph, node_features = 'features')\n",
    "    \n",
    "    return G_test, edge_ids_test, edge_labels_test, G_train, edge_ids_train, edge_labels_train\n",
    "    "
   ]
  },
  {
   "cell_type": "code",
   "execution_count": 1255,
   "metadata": {},
   "outputs": [
    {
     "name": "stdout",
     "output_type": "stream",
     "text": [
      "16454\n"
     ]
    }
   ],
   "source": [
    "print(len(user_graph.edges()))"
   ]
  },
  {
   "cell_type": "code",
   "execution_count": 1256,
   "metadata": {},
   "outputs": [
    {
     "name": "stdout",
     "output_type": "stream",
     "text": [
      "16454 69\n",
      "16385 629 77233\n",
      "16323 505 77233\n"
     ]
    },
    {
     "name": "stderr",
     "output_type": "stream",
     "text": [
      "/opt/anaconda3/lib/python3.7/site-packages/ipykernel_launcher.py:24: UserWarning: found the following nodes (of type 'default') without features, using 4-dimensional zero vector: 34132424, 708297, 896759, 22578, 11941927, 200679, 6008391\n",
      "/opt/anaconda3/lib/python3.7/site-packages/ipykernel_launcher.py:46: UserWarning: found the following nodes (of type 'default') without features, using 4-dimensional zero vector: 34132424, 708297, 896759, 22578, 11941927, 200679, 6008391\n"
     ]
    }
   ],
   "source": [
    "user_graph_copy = user_graph\n",
    "edge_list_positive_copy = edge_list_positive\n",
    "edge_list_negative_copy = edge_list_negative\n",
    "G_test, edge_ids_test, edge_labels_test, G_train, edge_ids_train, edge_labels_train = edge_splitter(user_graph_copy, edge_list_positive_copy, edge_list_negative_copy)\n"
   ]
  },
  {
   "cell_type": "code",
   "execution_count": 1257,
   "metadata": {},
   "outputs": [
    {
     "data": {
      "text/plain": [
       "16323"
      ]
     },
     "execution_count": 1257,
     "metadata": {},
     "output_type": "execute_result"
    }
   ],
   "source": [
    "len(G_train.edges())"
   ]
  },
  {
   "cell_type": "code",
   "execution_count": 1258,
   "metadata": {},
   "outputs": [
    {
     "data": {
      "text/plain": [
       "16385"
      ]
     },
     "execution_count": 1258,
     "metadata": {},
     "output_type": "execute_result"
    }
   ],
   "source": [
    "len(G_test.edges())"
   ]
  },
  {
   "cell_type": "code",
   "execution_count": 1259,
   "metadata": {},
   "outputs": [
    {
     "data": {
      "text/plain": [
       "138"
      ]
     },
     "execution_count": 1259,
     "metadata": {},
     "output_type": "execute_result"
    }
   ],
   "source": [
    "len(edge_ids_test)"
   ]
  },
  {
   "cell_type": "code",
   "execution_count": 1260,
   "metadata": {},
   "outputs": [
    {
     "data": {
      "text/plain": [
       "124"
      ]
     },
     "execution_count": 1260,
     "metadata": {},
     "output_type": "execute_result"
    }
   ],
   "source": [
    "len(edge_labels_train)"
   ]
  },
  {
   "cell_type": "code",
   "execution_count": 1261,
   "metadata": {},
   "outputs": [
    {
     "name": "stdout",
     "output_type": "stream",
     "text": [
      "StellarGraph: Undirected multigraph\n",
      " Nodes: 1796, Edges: 16323\n",
      "\n",
      " Node types:\n",
      "  default: [1796]\n",
      "    Features: float32 vector, length 4\n",
      "    Edge types: default-default->default\n",
      "\n",
      " Edge types:\n",
      "    default-default->default: [16323]\n",
      "        Weights: range=[0, 507.954], mean=3.29046, std=8.55109\n",
      "        Features: none\n"
     ]
    }
   ],
   "source": [
    "print(G_train.info())"
   ]
  },
  {
   "cell_type": "code",
   "execution_count": 1262,
   "metadata": {},
   "outputs": [
    {
     "name": "stdout",
     "output_type": "stream",
     "text": [
      "StellarGraph: Undirected multigraph\n",
      " Nodes: 1796, Edges: 16385\n",
      "\n",
      " Node types:\n",
      "  default: [1796]\n",
      "    Features: float32 vector, length 4\n",
      "    Edge types: default-default->default\n",
      "\n",
      " Edge types:\n",
      "    default-default->default: [16385]\n",
      "        Weights: range=[0, 507.954], mean=3.29382, std=8.54703\n",
      "        Features: none\n"
     ]
    }
   ],
   "source": [
    "print(G_test.info())"
   ]
  },
  {
   "cell_type": "markdown",
   "metadata": {},
   "source": [
    "### Graph Neural Network Model "
   ]
  },
  {
   "cell_type": "code",
   "execution_count": 1263,
   "metadata": {
    "tags": [
     "parameters"
    ]
   },
   "outputs": [],
   "source": [
    "batch_size = 20\n",
    "epochs = 29"
   ]
  },
  {
   "cell_type": "code",
   "execution_count": 1264,
   "metadata": {},
   "outputs": [],
   "source": [
    "num_samples = [20, 10]"
   ]
  },
  {
   "cell_type": "code",
   "execution_count": 1265,
   "metadata": {},
   "outputs": [],
   "source": [
    "train_gen = GraphSAGELinkGenerator(G_train, batch_size, num_samples)\n",
    "train_flow = train_gen.flow(edge_ids_train, edge_labels_train, shuffle=True)"
   ]
  },
  {
   "cell_type": "code",
   "execution_count": 1266,
   "metadata": {},
   "outputs": [],
   "source": [
    "test_gen = GraphSAGELinkGenerator(G_test, batch_size, num_samples)\n",
    "test_flow = test_gen.flow(edge_ids_test, edge_labels_test)"
   ]
  },
  {
   "cell_type": "code",
   "execution_count": 1267,
   "metadata": {},
   "outputs": [],
   "source": [
    "layer_sizes = [20, 20]\n",
    "graphsage = GraphSAGE(\n",
    "    layer_sizes=layer_sizes, generator=train_gen, bias=True, dropout=0.3\n",
    ")"
   ]
  },
  {
   "cell_type": "code",
   "execution_count": 1268,
   "metadata": {},
   "outputs": [],
   "source": [
    "x_inp, x_out = graphsage.in_out_tensors()"
   ]
  },
  {
   "cell_type": "code",
   "execution_count": 1269,
   "metadata": {},
   "outputs": [
    {
     "name": "stdout",
     "output_type": "stream",
     "text": [
      "link_classification: using 'ip' method to combine node embeddings into edge embeddings\n"
     ]
    }
   ],
   "source": [
    "prediction = link_classification(\n",
    "    output_dim=1, output_act=\"relu\", edge_embedding_method=\"ip\"\n",
    ")(x_out)"
   ]
  },
  {
   "cell_type": "code",
   "execution_count": 1270,
   "metadata": {},
   "outputs": [],
   "source": [
    "def recall_m(y_true, y_pred):\n",
    "    true_positives = K.sum(K.round(K.clip(y_true * y_pred, 0, 1)))\n",
    "    possible_positives = K.sum(K.round(K.clip(y_true, 0, 1)))\n",
    "    recall = true_positives / (possible_positives + K.epsilon())\n",
    "    return recall\n",
    "\n",
    "def precision_m(y_true, y_pred):\n",
    "    true_positives = K.sum(K.round(K.clip(y_true * y_pred, 0, 1)))\n",
    "    predicted_positives = K.sum(K.round(K.clip(y_pred, 0, 1)))\n",
    "    precision = true_positives / (predicted_positives + K.epsilon())\n",
    "    return precision\n",
    "\n",
    "def f1_m(y_true, y_pred):\n",
    "    precision = precision_m(y_true, y_pred)\n",
    "    recall = recall_m(y_true, y_pred)\n",
    "    return 2*((precision*recall)/(precision+recall+K.epsilon()))"
   ]
  },
  {
   "cell_type": "code",
   "execution_count": 1271,
   "metadata": {},
   "outputs": [],
   "source": [
    "model = keras.Model(inputs=x_inp, outputs=prediction)\n",
    "\n",
    "model.compile(\n",
    "    optimizer=keras.optimizers.Adam(lr=1e-3),\n",
    "    loss=keras.losses.binary_crossentropy,\n",
    "    metrics=['acc',f1_m,precision_m, recall_m],\n",
    ")"
   ]
  },
  {
   "cell_type": "markdown",
   "metadata": {},
   "source": [
    "### Results"
   ]
  },
  {
   "cell_type": "markdown",
   "metadata": {},
   "source": [
    "Evaluate the initial (untrained) model on the train and test set:"
   ]
  },
  {
   "cell_type": "code",
   "execution_count": 1272,
   "metadata": {},
   "outputs": [
    {
     "name": "stdout",
     "output_type": "stream",
     "text": [
      "7/7 [==============================] - 0s 18ms/step - loss: 2.0847 - acc: 0.2016 - f1_m: 0.0451 - precision_m: 0.0561 - recall_m: 0.0379\n",
      "7/7 [==============================] - 0s 20ms/step - loss: 1.1320 - acc: 0.4348 - f1_m: 0.2876 - precision_m: 0.5357 - recall_m: 0.1976\n",
      "\n",
      "Train Set Metrics of the initial (untrained) model:\n",
      "\tloss: 2.0847\n",
      "\tacc: 0.2016\n",
      "\tF1 score: 0.0451\n",
      "\tPrecision: 0.0561\n",
      "\tRecall: 0.0379\n",
      "\n",
      "Test Set Metrics of the initial (untrained) model:\n",
      "\tloss: 1.1320\n",
      "\tacc: 0.4348\n",
      "\tF1 score: 0.2876\n",
      "\tPrecision: 0.5357\n",
      "\tRecall: 0.1976\n"
     ]
    }
   ],
   "source": [
    "loss_train, accuracy_train, f1_score_train, precision_train, recall_train = model.evaluate(train_flow)\n",
    "loss_test, accuracy_test, f1_score_test, precision_test, recall_test = model.evaluate(test_flow)\n",
    "\n",
    "print(\"\\nTrain Set Metrics of the initial (untrained) model:\")\n",
    "for name, val in zip(model.metrics_names,(loss_train, accuracy_train)):\n",
    "    print(\"\\t{}: {:0.4f}\".format(name, val))\n",
    "    \n",
    "print('\\tF1 score: %0.4f' % f1_score_train)\n",
    "print('\\tPrecision: %0.4f' % precision_train)\n",
    "print('\\tRecall: %0.4f' % recall_train)\n",
    "\n",
    "\n",
    "print(\"\\nTest Set Metrics of the initial (untrained) model:\")\n",
    "for name, val in zip(model.metrics_names, (loss_test, accuracy_test)):\n",
    "    print(\"\\t{}: {:0.4f}\".format(name, val))\n",
    "\n",
    "print('\\tF1 score: %0.4f' % f1_score_test)\n",
    "print('\\tPrecision: %0.4f' % precision_test)\n",
    "print('\\tRecall: %0.4f' % recall_test)"
   ]
  },
  {
   "cell_type": "markdown",
   "metadata": {},
   "source": [
    "Train the model:"
   ]
  },
  {
   "cell_type": "code",
   "execution_count": 1273,
   "metadata": {},
   "outputs": [
    {
     "name": "stdout",
     "output_type": "stream",
     "text": [
      "Epoch 1/29\n",
      "7/7 - 0s - loss: 2.3708 - acc: 0.3629 - f1_m: 0.1904 - precision_m: 0.2624 - recall_m: 0.1644 - val_loss: 0.9171 - val_acc: 0.4783 - val_f1_m: 0.2911 - val_precision_m: 0.4571 - val_recall_m: 0.2159\n",
      "Epoch 2/29\n",
      "7/7 - 0s - loss: 1.8298 - acc: 0.3790 - f1_m: 0.2300 - precision_m: 0.2905 - recall_m: 0.2002 - val_loss: 0.8051 - val_acc: 0.5290 - val_f1_m: 0.3927 - val_precision_m: 0.5000 - val_recall_m: 0.3278\n",
      "Epoch 3/29\n",
      "7/7 - 0s - loss: 1.5429 - acc: 0.3548 - f1_m: 0.2590 - precision_m: 0.3474 - recall_m: 0.2195 - val_loss: 0.7749 - val_acc: 0.5290 - val_f1_m: 0.4280 - val_precision_m: 0.4935 - val_recall_m: 0.3865\n",
      "Epoch 4/29\n",
      "7/7 - 0s - loss: 1.5770 - acc: 0.3710 - f1_m: 0.3102 - precision_m: 0.3390 - recall_m: 0.3248 - val_loss: 0.8359 - val_acc: 0.4420 - val_f1_m: 0.3927 - val_precision_m: 0.4714 - val_recall_m: 0.3405\n",
      "Epoch 5/29\n",
      "7/7 - 0s - loss: 1.2263 - acc: 0.3548 - f1_m: 0.2881 - precision_m: 0.3175 - recall_m: 0.2774 - val_loss: 0.8208 - val_acc: 0.5362 - val_f1_m: 0.4752 - val_precision_m: 0.5055 - val_recall_m: 0.4611\n",
      "Epoch 6/29\n",
      "7/7 - 0s - loss: 1.0715 - acc: 0.3871 - f1_m: 0.3545 - precision_m: 0.3804 - recall_m: 0.3480 - val_loss: 0.8245 - val_acc: 0.5507 - val_f1_m: 0.4744 - val_precision_m: 0.5048 - val_recall_m: 0.4698\n",
      "Epoch 7/29\n",
      "7/7 - 0s - loss: 1.2658 - acc: 0.3629 - f1_m: 0.3987 - precision_m: 0.4015 - recall_m: 0.4204 - val_loss: 0.8466 - val_acc: 0.5652 - val_f1_m: 0.4997 - val_precision_m: 0.5089 - val_recall_m: 0.5143\n",
      "Epoch 8/29\n",
      "7/7 - 0s - loss: 1.6524 - acc: 0.3065 - f1_m: 0.2276 - precision_m: 0.2481 - recall_m: 0.2230 - val_loss: 0.7717 - val_acc: 0.5435 - val_f1_m: 0.4925 - val_precision_m: 0.5042 - val_recall_m: 0.5071\n",
      "Epoch 9/29\n",
      "7/7 - 0s - loss: 1.1050 - acc: 0.3790 - f1_m: 0.3485 - precision_m: 0.3533 - recall_m: 0.3575 - val_loss: 0.7933 - val_acc: 0.5652 - val_f1_m: 0.4933 - val_precision_m: 0.4911 - val_recall_m: 0.5111\n",
      "Epoch 10/29\n",
      "7/7 - 0s - loss: 1.1352 - acc: 0.3629 - f1_m: 0.3801 - precision_m: 0.3622 - recall_m: 0.4508 - val_loss: 0.8458 - val_acc: 0.5000 - val_f1_m: 0.4729 - val_precision_m: 0.4958 - val_recall_m: 0.4770\n",
      "Epoch 11/29\n",
      "7/7 - 0s - loss: 1.0304 - acc: 0.3710 - f1_m: 0.3742 - precision_m: 0.3908 - recall_m: 0.3774 - val_loss: 0.7956 - val_acc: 0.5435 - val_f1_m: 0.4775 - val_precision_m: 0.4911 - val_recall_m: 0.4825\n",
      "Epoch 12/29\n",
      "7/7 - 0s - loss: 0.9525 - acc: 0.4113 - f1_m: 0.3744 - precision_m: 0.4753 - recall_m: 0.3334 - val_loss: 0.7743 - val_acc: 0.5797 - val_f1_m: 0.5122 - val_precision_m: 0.5048 - val_recall_m: 0.5341\n",
      "Epoch 13/29\n",
      "7/7 - 0s - loss: 0.9261 - acc: 0.4194 - f1_m: 0.4712 - precision_m: 0.4307 - recall_m: 0.5604 - val_loss: 0.8081 - val_acc: 0.5507 - val_f1_m: 0.5048 - val_precision_m: 0.5000 - val_recall_m: 0.5270\n",
      "Epoch 14/29\n",
      "7/7 - 0s - loss: 0.9987 - acc: 0.3710 - f1_m: 0.3347 - precision_m: 0.3374 - recall_m: 0.3429 - val_loss: 0.8326 - val_acc: 0.5000 - val_f1_m: 0.4905 - val_precision_m: 0.4921 - val_recall_m: 0.5127\n",
      "Epoch 15/29\n",
      "7/7 - 0s - loss: 0.9578 - acc: 0.4032 - f1_m: 0.4684 - precision_m: 0.4996 - recall_m: 0.5054 - val_loss: 0.8316 - val_acc: 0.5217 - val_f1_m: 0.5010 - val_precision_m: 0.5000 - val_recall_m: 0.5286\n",
      "Epoch 16/29\n",
      "7/7 - 0s - loss: 0.8712 - acc: 0.4274 - f1_m: 0.4661 - precision_m: 0.4448 - recall_m: 0.5153 - val_loss: 0.8229 - val_acc: 0.5580 - val_f1_m: 0.5125 - val_precision_m: 0.5089 - val_recall_m: 0.5357\n",
      "Epoch 17/29\n",
      "7/7 - 0s - loss: 1.0316 - acc: 0.3468 - f1_m: 0.3704 - precision_m: 0.3268 - recall_m: 0.4323 - val_loss: 0.8738 - val_acc: 0.5290 - val_f1_m: 0.5056 - val_precision_m: 0.4962 - val_recall_m: 0.5429\n",
      "Epoch 18/29\n",
      "7/7 - 0s - loss: 0.9631 - acc: 0.4032 - f1_m: 0.3871 - precision_m: 0.3658 - recall_m: 0.4355 - val_loss: 0.8098 - val_acc: 0.5435 - val_f1_m: 0.5020 - val_precision_m: 0.4921 - val_recall_m: 0.5341\n",
      "Epoch 19/29\n",
      "7/7 - 0s - loss: 1.0234 - acc: 0.3629 - f1_m: 0.4405 - precision_m: 0.3953 - recall_m: 0.5238 - val_loss: 0.8229 - val_acc: 0.5580 - val_f1_m: 0.5122 - val_precision_m: 0.5000 - val_recall_m: 0.5500\n",
      "Epoch 20/29\n",
      "7/7 - 0s - loss: 1.1287 - acc: 0.3145 - f1_m: 0.3586 - precision_m: 0.3548 - recall_m: 0.3734 - val_loss: 0.8623 - val_acc: 0.5290 - val_f1_m: 0.5092 - val_precision_m: 0.4962 - val_recall_m: 0.5500\n",
      "Epoch 21/29\n",
      "7/7 - 0s - loss: 1.1529 - acc: 0.3952 - f1_m: 0.3924 - precision_m: 0.3575 - recall_m: 0.4434 - val_loss: 0.8107 - val_acc: 0.5362 - val_f1_m: 0.5079 - val_precision_m: 0.5000 - val_recall_m: 0.5429\n",
      "Epoch 22/29\n",
      "7/7 - 0s - loss: 1.1850 - acc: 0.3226 - f1_m: 0.3393 - precision_m: 0.3186 - recall_m: 0.3917 - val_loss: 0.8276 - val_acc: 0.5217 - val_f1_m: 0.5051 - val_precision_m: 0.5000 - val_recall_m: 0.5357\n",
      "Epoch 23/29\n",
      "7/7 - 0s - loss: 0.8616 - acc: 0.4274 - f1_m: 0.4593 - precision_m: 0.4490 - recall_m: 0.5164 - val_loss: 0.8668 - val_acc: 0.5362 - val_f1_m: 0.5163 - val_precision_m: 0.5000 - val_recall_m: 0.5571\n",
      "Epoch 24/29\n",
      "7/7 - 0s - loss: 1.1154 - acc: 0.3065 - f1_m: 0.3247 - precision_m: 0.2987 - recall_m: 0.3793 - val_loss: 0.8592 - val_acc: 0.5362 - val_f1_m: 0.5131 - val_precision_m: 0.4962 - val_recall_m: 0.5571\n",
      "Epoch 25/29\n",
      "7/7 - 0s - loss: 0.9061 - acc: 0.3629 - f1_m: 0.5012 - precision_m: 0.4692 - recall_m: 0.5532 - val_loss: 0.8542 - val_acc: 0.5290 - val_f1_m: 0.5097 - val_precision_m: 0.4929 - val_recall_m: 0.5571\n",
      "Epoch 26/29\n",
      "7/7 - 0s - loss: 1.1084 - acc: 0.3952 - f1_m: 0.4584 - precision_m: 0.4310 - recall_m: 0.5170 - val_loss: 0.8435 - val_acc: 0.5217 - val_f1_m: 0.5099 - val_precision_m: 0.4929 - val_recall_m: 0.5571\n",
      "Epoch 27/29\n",
      "7/7 - 0s - loss: 0.8427 - acc: 0.3629 - f1_m: 0.4023 - precision_m: 0.3951 - recall_m: 0.4327 - val_loss: 0.8620 - val_acc: 0.5580 - val_f1_m: 0.5167 - val_precision_m: 0.4962 - val_recall_m: 0.5643\n",
      "Epoch 28/29\n",
      "7/7 - 0s - loss: 0.9877 - acc: 0.4194 - f1_m: 0.4668 - precision_m: 0.4362 - recall_m: 0.5717 - val_loss: 0.8614 - val_acc: 0.5362 - val_f1_m: 0.5020 - val_precision_m: 0.4921 - val_recall_m: 0.5341\n",
      "Epoch 29/29\n",
      "7/7 - 0s - loss: 0.9159 - acc: 0.3952 - f1_m: 0.4631 - precision_m: 0.4507 - recall_m: 0.5219 - val_loss: 0.8508 - val_acc: 0.5290 - val_f1_m: 0.5172 - val_precision_m: 0.4929 - val_recall_m: 0.5714\n"
     ]
    }
   ],
   "source": [
    "history = model.fit(train_flow, epochs=epochs, validation_data = test_flow, verbose = 2)"
   ]
  },
  {
   "cell_type": "markdown",
   "metadata": {},
   "source": [
    "Plot the training history:"
   ]
  },
  {
   "cell_type": "code",
   "execution_count": 1274,
   "metadata": {},
   "outputs": [
    {
     "data": {
      "image/png": "[encoded data removed]",
      "text/plain": [
       "<Figure size 504x1440 with 5 Axes>"
      ]
     },
     "metadata": {
      "needs_background": "light"
     },
     "output_type": "display_data"
    }
   ],
   "source": [
    "sg.utils.plot_history(history)"
   ]
  },
  {
   "cell_type": "markdown",
   "metadata": {},
   "source": [
    "Evaluate the trained model on test PR-Reviewer links:"
   ]
  },
  {
   "cell_type": "code",
   "execution_count": 1275,
   "metadata": {},
   "outputs": [
    {
     "name": "stdout",
     "output_type": "stream",
     "text": [
      "7/7 [==============================] - 0s 18ms/step - loss: 0.9964 - acc: 0.4435 - f1_m: 0.5237 - precision_m: 0.4099 - recall_m: 0.7405\n",
      "7/7 [==============================] - 0s 21ms/step - loss: 0.8991 - acc: 0.5000 - f1_m: 0.5172 - precision_m: 0.4929 - recall_m: 0.5714\n",
      "\n",
      "Train Set Metrics of the initial (untrained) model:\n",
      "\tloss: 0.9964\n",
      "\tacc: 0.4435\n",
      "\tF1 score: 0.5237\n",
      "\tPrecision: 0.4099\n",
      "\tRecall: 0.7405\n",
      "\n",
      "Test Set Metrics of the initial (untrained) model:\n",
      "\tloss: 0.8991\n",
      "\tacc: 0.5000\n",
      "\tF1 score: 0.5172\n",
      "\tPrecision: 0.4929\n",
      "\tRecall: 0.5714\n"
     ]
    }
   ],
   "source": [
    "loss_train, accuracy_train, f1_score_train, precision_train, recall_train = model.evaluate(train_flow)\n",
    "loss_test, accuracy_test, f1_score_test, precision_test, recall_test = model.evaluate(test_flow)\n",
    "\n",
    "print(\"\\nTrain Set Metrics of the initial (untrained) model:\")\n",
    "for name, val in zip(model.metrics_names,(loss_train, accuracy_train)):\n",
    "    print(\"\\t{}: {:0.4f}\".format(name, val))\n",
    "    \n",
    "print('\\tF1 score: %0.4f' % f1_score_train)\n",
    "print('\\tPrecision: %0.4f' % precision_train)\n",
    "print('\\tRecall: %0.4f' % recall_train)\n",
    "\n",
    "\n",
    "print(\"\\nTest Set Metrics of the initial (untrained) model:\")\n",
    "for name, val in zip(model.metrics_names, (loss_test, accuracy_test)):\n",
    "    print(\"\\t{}: {:0.4f}\".format(name, val))\n",
    "\n",
    "print('\\tF1 score: %0.4f' % f1_score_test)\n",
    "print('\\tPrecision: %0.4f' % precision_test)\n",
    "print('\\tRecall: %0.4f' % recall_test)"
   ]
  }
 ],
 "metadata": {
  "file_extension": ".py",
  "kernelspec": {
   "display_name": "Python 3",
   "language": "python",
   "name": "python3"
  },
  "language_info": {
   "codemirror_mode": {
    "name": "ipython",
    "version": 3
   },
   "file_extension": ".py",
   "mimetype": "text/x-python",
   "name": "python",
   "nbconvert_exporter": "python",
   "pygments_lexer": "ipython3",
   "version": "3.7.6"
  },
  "mimetype": "text/x-python",
  "name": "python",
  "npconvert_exporter": "python",
  "pygments_lexer": "ipython3",
  "version": 3
 },
 "nbformat": 4,
 "nbformat_minor": 4
}
