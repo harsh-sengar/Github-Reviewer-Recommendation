{
 "cells": [
  {
   "cell_type": "code",
   "execution_count": 1,
   "metadata": {},
   "outputs": [],
   "source": [
    "from collections import Counter\n",
    "import networkx as nx\n",
    "import pandas as pd\n",
    "import pickle\n",
    "import pprint"
   ]
  },
  {
   "cell_type": "code",
   "execution_count": 2,
   "metadata": {},
   "outputs": [],
   "source": [
    "data = pd.read_csv('./raw/kubernetes.csv')"
   ]
  },
  {
   "cell_type": "code",
   "execution_count": 3,
   "metadata": {},
   "outputs": [],
   "source": [
    "pr_id_list = data['pr_id'].unique()"
   ]
  },
  {
   "cell_type": "markdown",
   "metadata": {},
   "source": [
    "### Get Number of Reviews For Pull Request:"
   ]
  },
  {
   "cell_type": "code",
   "execution_count": 4,
   "metadata": {},
   "outputs": [],
   "source": [
    "def get_num_reviews(pr_id, data):\n",
    "    \n",
    "    reviewer_list={}\n",
    "    pr_df = data.loc[data.pr_id == pr_id, :]\n",
    "    \n",
    "    commenter_list = list(pr_df.commenter_id.values)\n",
    "    commenter_set = set(commenter_list)\n",
    "    \n",
    "    head_commiter_set = set(pr_df.head_commit_committer_id.values)\n",
    "    head_author_set = set(pr_df.head_commit_author_id.values)\n",
    "    pr_owner_set = (head_author_set | head_commiter_set) & commenter_set\n",
    "    reviewer_set = commenter_set - pr_owner_set\n",
    "    \n",
    "    buf_list = []\n",
    "    for c in commenter_list:\n",
    "        if c not in pr_owner_set:\n",
    "            buf_list += [c]\n",
    "    \n",
    "    commenter_freq = {}\n",
    "    for reviewer in buf_list:\n",
    "        if reviewer not in commenter_freq:\n",
    "            commenter_freq.update({reviewer: 1})\n",
    "        else:\n",
    "            commenter_freq[reviewer] += 1\n",
    "\n",
    "    return commenter_freq"
   ]
  },
  {
   "cell_type": "code",
   "execution_count": 5,
   "metadata": {},
   "outputs": [
    {
     "name": "stdout",
     "output_type": "stream",
     "text": [
      "PR_ID: 16143045, REVIEWERS: {3119227: 10, 13194: 8, 3035095: 5}\n",
      "PR_ID: 16074582, REVIEWERS: {3665822: 2, 2628808: 21}\n",
      "PR_ID: 16073995, REVIEWERS: {10155399: 2, 2628808: 10, 12669353: 3}\n",
      "PR_ID: 18119032, REVIEWERS: {7780816: 4, 452114: 7, 3204869: 7}\n",
      "PR_ID: 16078235, REVIEWERS: {10456340: 3, 145523: 6, 13194: 6, 3035095: 1}\n"
     ]
    }
   ],
   "source": [
    "for pr_id in pr_id_list[0:5]: \n",
    "    res = get_num_reviews(pr_id, data)\n",
    "    print('PR_ID: {}, REVIEWERS: {}'.format(pr_id, res))"
   ]
  },
  {
   "cell_type": "markdown",
   "metadata": {},
   "source": [
    "### Number of comments made by Reviewer r on Pull Request p:"
   ]
  },
  {
   "cell_type": "code",
   "execution_count": 6,
   "metadata": {},
   "outputs": [],
   "source": [
    "def ncomments_on_pr_by_reviewer(pr_id, reviewer_id, data):\n",
    "    \n",
    "    res = get_num_reviews(pr_id, data)\n",
    "    \n",
    "    if reviewer_id in res.keys():\n",
    "        return res[reviewer_id]\n",
    "    else:\n",
    "        return 0"
   ]
  },
  {
   "cell_type": "code",
   "execution_count": 7,
   "metadata": {},
   "outputs": [
    {
     "name": "stdout",
     "output_type": "stream",
     "text": [
      "PR_ID: 16143045, REVIEWER: 3119227, NUM_COMMENTS: 10\n",
      "PR_ID: 16143045, REVIEWER: 13194, NUM_COMMENTS: 8\n",
      "PR_ID: 16143045, REVIEWER: 3035095, NUM_COMMENTS: 5\n",
      "PR_ID: 16074582, REVIEWER: 3665822, NUM_COMMENTS: 2\n",
      "PR_ID: 16074582, REVIEWER: 2628808, NUM_COMMENTS: 21\n",
      "PR_ID: 16073995, REVIEWER: 10155399, NUM_COMMENTS: 2\n",
      "PR_ID: 16073995, REVIEWER: 2628808, NUM_COMMENTS: 10\n",
      "PR_ID: 16073995, REVIEWER: 12669353, NUM_COMMENTS: 3\n",
      "PR_ID: 18119032, REVIEWER: 7780816, NUM_COMMENTS: 4\n",
      "PR_ID: 18119032, REVIEWER: 452114, NUM_COMMENTS: 7\n",
      "PR_ID: 18119032, REVIEWER: 3204869, NUM_COMMENTS: 7\n",
      "PR_ID: 16078235, REVIEWER: 10456340, NUM_COMMENTS: 3\n",
      "PR_ID: 16078235, REVIEWER: 145523, NUM_COMMENTS: 6\n",
      "PR_ID: 16078235, REVIEWER: 13194, NUM_COMMENTS: 6\n",
      "PR_ID: 16078235, REVIEWER: 3035095, NUM_COMMENTS: 1\n"
     ]
    }
   ],
   "source": [
    "for pr_id in pr_id_list[0:5]:\n",
    "    for reviewer in get_num_reviews(pr_id, data).keys():\n",
    "        res = ncomments_on_pr_by_reviewer(pr_id, reviewer, data)\n",
    "        print('PR_ID: {}, REVIEWER: {}, NUM_COMMENTS: {}'.format(pr_id, reviewer, res))"
   ]
  },
  {
   "cell_type": "markdown",
   "metadata": {},
   "source": [
    "### Pull-Requests submitted by Reviewer r to the repository:"
   ]
  },
  {
   "cell_type": "code",
   "execution_count": 8,
   "metadata": {},
   "outputs": [],
   "source": [
    "def npullreq_on_repo_by_reviewer(reviewer, data):\n",
    "    df = set(data[data.commenter_id == reviewer]['head_repo_id'])\n",
    "    return len(df)"
   ]
  },
  {
   "cell_type": "code",
   "execution_count": 9,
   "metadata": {},
   "outputs": [],
   "source": [
    "entities = None\n",
    "with open('./cache/arr/entities.pkl', 'rb') as file:\n",
    "    entities = pickle.load(file)\n",
    "    \n",
    "entity_metadata = None\n",
    "with open('./cache/dicts/entity_metadata.pkl', 'rb') as file:\n",
    "    entity_metadata = pickle.load(file)"
   ]
  },
  {
   "cell_type": "code",
   "execution_count": 10,
   "metadata": {},
   "outputs": [
    {
     "name": "stdout",
     "output_type": "stream",
     "text": [
      "ENTITY: 10932224, NUM_PULL_REQ: 1\n",
      "ENTITY: 661508, NUM_PULL_REQ: 1\n",
      "ENTITY: 3782661, NUM_PULL_REQ: 1\n",
      "ENTITY: 6123527, NUM_PULL_REQ: 2\n",
      "ENTITY: 3653642, NUM_PULL_REQ: 4\n",
      "ENTITY: 1073162, NUM_PULL_REQ: 1\n",
      "ENTITY: 61452, NUM_PULL_REQ: 3\n",
      "ENTITY: 706571, NUM_PULL_REQ: 1\n",
      "ENTITY: 2773008, NUM_PULL_REQ: 1\n",
      "ENTITY: 6123537, NUM_PULL_REQ: 7\n"
     ]
    }
   ],
   "source": [
    "for e in entities[0:10]:\n",
    "    print('ENTITY: {}, NUM_PULL_REQ: {}'.format(e, npullreq_on_repo_by_reviewer(e, data)))"
   ]
  },
  {
   "cell_type": "markdown",
   "metadata": {},
   "source": [
    "### Reviewers Count:"
   ]
  },
  {
   "cell_type": "code",
   "execution_count": 11,
   "metadata": {
    "id": "ZOG3_NypSgf7"
   },
   "outputs": [],
   "source": [
    "reviewer_count ={}\n",
    "for pr_id in pr_id_list:\n",
    "    reviewer_count[pr_id] = get_num_reviews(pr_id,data)"
   ]
  },
  {
   "cell_type": "markdown",
   "metadata": {},
   "source": [
    "### List of Pull Requests Submitted by Reviewer r to the repository:"
   ]
  },
  {
   "cell_type": "markdown",
   "metadata": {},
   "source": [
    "#### Load Entities:"
   ]
  },
  {
   "cell_type": "code",
   "execution_count": 12,
   "metadata": {},
   "outputs": [],
   "source": [
    "entities = None\n",
    "with open('./cache/arr/entities.pkl', 'rb') as file:\n",
    "    entities = pickle.load(file)"
   ]
  },
  {
   "cell_type": "markdown",
   "metadata": {},
   "source": [
    "#### Finding the List of Pull Requests:"
   ]
  },
  {
   "cell_type": "code",
   "execution_count": 13,
   "metadata": {},
   "outputs": [],
   "source": [
    "total_pr_reviewed = {}\n",
    "\n",
    "for reviewer in entities:\n",
    "    for pr_id in set(pr_id_list):\n",
    "        if pr_id in reviewer_count.keys():\n",
    "            if reviewer in list(reviewer_count[pr_id].keys()):\n",
    "\n",
    "                if reviewer not in total_pr_reviewed.keys():\n",
    "\n",
    "                    total_pr_reviewed.update({\n",
    "                        reviewer: {\n",
    "                            'pr_list': [pr_id], \n",
    "                            'total_counts': 1\n",
    "                        }\n",
    "                    })\n",
    "\n",
    "                else:\n",
    "\n",
    "                    total_pr_reviewed[reviewer]['pr_list'] += [pr_id]\n",
    "                    total_pr_reviewed[reviewer]['total_counts'] += 1"
   ]
  },
  {
   "cell_type": "code",
   "execution_count": 14,
   "metadata": {},
   "outputs": [],
   "source": [
    "total_pr_count = {}\n",
    "\n",
    "for (rev, pr) in total_pr_reviewed.items():\n",
    "    total_pr_count[rev] = len(pr)"
   ]
  },
  {
   "cell_type": "markdown",
   "metadata": {},
   "source": [
    "#### Reviewers List:"
   ]
  },
  {
   "cell_type": "code",
   "execution_count": 15,
   "metadata": {},
   "outputs": [],
   "source": [
    "reviewers = list(total_pr_count.keys())"
   ]
  },
  {
   "cell_type": "markdown",
   "metadata": {},
   "source": [
    "### Export Reviewers:"
   ]
  },
  {
   "cell_type": "code",
   "execution_count": 16,
   "metadata": {},
   "outputs": [],
   "source": [
    "export_list = False\n",
    "\n",
    "if export_list == True:\n",
    "    with open('./cache/arr/reviewers.pkl', 'wb') as file:\n",
    "        pickle.dump(reviewers, file)"
   ]
  },
  {
   "cell_type": "markdown",
   "metadata": {},
   "source": [
    "### Total Reviewed Items by Reviewer:"
   ]
  },
  {
   "cell_type": "code",
   "execution_count": 17,
   "metadata": {},
   "outputs": [
    {
     "name": "stdout",
     "output_type": "stream",
     "text": [
      "======================================================\n",
      "REVIEWER_ID: 3782661\n",
      "REVIEWED_PR_LIST: [9115444, 9855523, 12511590]\n",
      "REVIEWED_PR_COUNT: 3\n",
      "======================================================\n",
      "REVIEWER_ID: 6123527\n",
      "REVIEWED_PR_LIST: [11212613, 10713886]\n",
      "REVIEWED_PR_COUNT: 2\n",
      "======================================================\n",
      "REVIEWER_ID: 3653642\n",
      "REVIEWED_PR_LIST: [27730309, 26105726, 18542150]\n",
      "REVIEWED_PR_COUNT: 3\n",
      "======================================================\n",
      "REVIEWER_ID: 61452\n",
      "REVIEWED_PR_LIST: [10257553, 18772932]\n",
      "REVIEWED_PR_COUNT: 2\n",
      "======================================================\n",
      "REVIEWER_ID: 6123537\n",
      "REVIEWED_PR_LIST: [8981843, 16005488, 11682049, 11980907, 10899860, 13201116, 9829448]\n",
      "REVIEWED_PR_COUNT: 7\n"
     ]
    }
   ],
   "source": [
    "for reviewer in reviewers[0:5]:\n",
    "    \n",
    "    res = total_pr_reviewed[reviewer]\n",
    "    \n",
    "    print('======================================================')\n",
    "    print('REVIEWER_ID:', reviewer)\n",
    "    print('REVIEWED_PR_LIST:', res['pr_list'])\n",
    "    print('REVIEWED_PR_COUNT:', res['total_counts'])"
   ]
  }
 ],
 "metadata": {
  "colab": {
   "collapsed_sections": [],
   "name": "Untitled11.ipynb",
   "provenance": []
  },
  "kernelspec": {
   "display_name": "Python 3",
   "language": "python",
   "name": "python3"
  },
  "language_info": {
   "codemirror_mode": {
    "name": "ipython",
    "version": 3
   },
   "file_extension": ".py",
   "mimetype": "text/x-python",
   "name": "python",
   "nbconvert_exporter": "python",
   "pygments_lexer": "ipython3",
   "version": "3.8.5"
  }
 },
 "nbformat": 4,
 "nbformat_minor": 1
}
