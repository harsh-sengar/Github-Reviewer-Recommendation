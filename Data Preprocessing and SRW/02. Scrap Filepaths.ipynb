{
 "cells": [
  {
   "cell_type": "code",
   "execution_count": 1,
   "metadata": {},
   "outputs": [],
   "source": [
    "from collections import Counter\n",
    "from datetime import datetime\n",
    "import pandas as pd\n",
    "import numpy as np\n",
    "import threading\n",
    "import requests\n",
    "import pickle\n",
    "import json\n",
    "import time"
   ]
  },
  {
   "cell_type": "markdown",
   "metadata": {},
   "source": [
    "### CSV to JSON:"
   ]
  },
  {
   "cell_type": "code",
   "execution_count": 2,
   "metadata": {},
   "outputs": [],
   "source": [
    "df = pd.read_csv('./raw/kubernetes.csv').to_numpy()"
   ]
  },
  {
   "cell_type": "code",
   "execution_count": 3,
   "metadata": {},
   "outputs": [],
   "source": [
    "export_json = False\n",
    "\n",
    "if export_json == True:\n",
    "    data = []\n",
    "    for row in df:\n",
    "        data += [{\n",
    "            'pr_id': row[0],\n",
    "            'github_pr_id': row[1],\n",
    "            'commenter_id': row[2],\n",
    "            'commenter_username': row[3],\n",
    "            'commenter_follower_count': row[4],\n",
    "            'commenter_total_github_commit_count': row[5],\n",
    "            'commenter_base_repo_commit_count': row[6],\n",
    "            'head_commit_author_id': row[7],\n",
    "            'head_commit_author_username': row[8],\n",
    "            'head_commit_committer_id': row[9],\n",
    "            'head_commit_committer_username': row[10],\n",
    "            'base_commit_author_id': row[11],\n",
    "            'base_commit_author_username': row[12],\n",
    "            'base_commit_committer_id': row[13],\n",
    "            'base_commit_committer_username': row[14],\n",
    "            'head_repo_id': row[15],\n",
    "            'base_repo_id': row[16],\n",
    "            'base_repo_owner': row[17],\n",
    "            'base_repo_owner_username': row[18],\n",
    "            'head_repo_owner_id': row[19],\n",
    "            'head_repo_owner_username': row[20],\n",
    "            'head_commit_id': row[21],\n",
    "            'base_commit_id': row[22],\n",
    "            'pullreq_id': row[23],\n",
    "            'comment_created_at': row[24],\n",
    "            'comment_position': row[25],\n",
    "            'comment_id': row[26],\n",
    "            'comment_body': row[27]\n",
    "        }]\n",
    "    with open('./kubernetes.json', 'w') as file:\n",
    "        json.dump(data, file)"
   ]
  },
  {
   "cell_type": "code",
   "execution_count": 4,
   "metadata": {},
   "outputs": [],
   "source": [
    "data = None\n",
    "with open('./kubernetes.json') as file:\n",
    "    data = json.load(file)"
   ]
  },
  {
   "cell_type": "markdown",
   "metadata": {},
   "source": [
    "### List of Pull Request IDs:"
   ]
  },
  {
   "cell_type": "code",
   "execution_count": 5,
   "metadata": {},
   "outputs": [],
   "source": [
    "pull_req_ids = []\n",
    "\n",
    "for row in data:\n",
    "    pull_req_ids += [row['github_pr_id']]\n",
    "\n",
    "pull_req_ids = list(set(pull_req_ids))"
   ]
  },
  {
   "cell_type": "code",
   "execution_count": 6,
   "metadata": {},
   "outputs": [
    {
     "name": "stdout",
     "output_type": "stream",
     "text": [
      "Total Pull Requests: 11473\n"
     ]
    }
   ],
   "source": [
    "print('Total Pull Requests:', len(pull_req_ids))"
   ]
  },
  {
   "cell_type": "markdown",
   "metadata": {},
   "source": [
    "### Scraping Pull Request File Changes From Github API:\n",
    "\n",
    "Turn on internet connection. API provides **5000 free requests/token/hour**. So requests are broken in chunks of 4096 requests."
   ]
  },
  {
   "cell_type": "code",
   "execution_count": 7,
   "metadata": {},
   "outputs": [],
   "source": [
    "pull_request_files = {}"
   ]
  },
  {
   "cell_type": "code",
   "execution_count": 8,
   "metadata": {},
   "outputs": [],
   "source": [
    "def fetch_pr_file_changes(pr_id):\n",
    "\n",
    "    global pull_request_files\n",
    "    \n",
    "    # 5000 requests/hour/token\n",
    "    headers = {'Authorization': 'token <gh-auth-token>'}\n",
    "    \n",
    "    response = requests.get(\n",
    "        url='https://api.github.com/repos/kubernetes/kubernetes/pulls/{}/files'.format(pr_id), \n",
    "        headers=headers\n",
    "    )\n",
    "\n",
    "    pull_request_files.update({pr_id: response})"
   ]
  },
  {
   "cell_type": "markdown",
   "metadata": {},
   "source": [
    "### $\\checkmark$ - pull_requests(0, 4096):\n",
    "### $\\checkmark$ - pull_requests(4096, 8192):\n",
    "### $\\checkmark$ - pull_requests(8192, 11473):"
   ]
  },
  {
   "cell_type": "code",
   "execution_count": 9,
   "metadata": {
    "scrolled": false
   },
   "outputs": [],
   "source": [
    "# \n",
    "# This code is functional. But commented because we cached the data\n",
    "# so that no boring work everytime.\n",
    "# \n",
    "#\n",
    "# =============================================================\n",
    "# 0 to 4096:\n",
    "# =============================================================\n",
    "# n_threads = 64\n",
    "# counter = 0\n",
    "# for i in range(0, 4096, n_threads):\n",
    "#     thread_executor = {}\n",
    "#     \n",
    "#     # define threads:\n",
    "#     for j in range(n_threads):\n",
    "#         thread_executor.update({\n",
    "#             't_{}'.format(str(j)): threading.Thread(target=fetch_pr_file_changes, args=(pull_req_ids[i+j],))\n",
    "#         })\n",
    "#     \n",
    "#     # start threads:\n",
    "#     for j in range(n_threads):\n",
    "#         thread_executor['t_{}'.format(str(j))].start()\n",
    "#     \n",
    "#     # join threads:\n",
    "#     for j in range(n_threads):\n",
    "#         thread_executor['t_{}'.format(str(j))].join()\n",
    "#     \n",
    "#     counter += n_threads\n",
    "#     print('Pull Requests Processed:', counter)\n",
    "#     time.sleep(4)\n",
    "# \n",
    "# ==============================================================\n",
    "# 4096 to 8192:\n",
    "# ==============================================================\n",
    "# \n",
    "# n_threads = 64\n",
    "# \n",
    "# counter = 4096\n",
    "# for i in range(4096, 8192, n_threads):\n",
    "#     thread_executor = {}\n",
    "#     \n",
    "#     # define threads:\n",
    "#     for j in range(n_threads):\n",
    "#         thread_executor.update({\n",
    "#             't_{}'.format(str(j)): threading.Thread(target=fetch_pr_file_changes, args=(pull_req_ids[i+j],))\n",
    "#         })\n",
    "#     \n",
    "#     # start threads:\n",
    "#     for j in range(n_threads):\n",
    "#         thread_executor['t_{}'.format(str(j))].start()\n",
    "#     \n",
    "#     # join threads:\n",
    "#     for j in range(n_threads):\n",
    "#         thread_executor['t_{}'.format(str(j))].join()\n",
    "#     \n",
    "#     counter += n_threads\n",
    "#     print('Pull Requests Processed:', counter)\n",
    "#     time.sleep(4)\n",
    "#\n",
    "# ==============================================================\n",
    "# 8192 to 11456:\n",
    "# ==============================================================\n",
    "# \n",
    "# n_threads = 64\n",
    "# \n",
    "# counter = 8192\n",
    "# for i in range(8192, 11456, n_threads):\n",
    "#     thread_executor = {}\n",
    "#     \n",
    "#     # define threads:\n",
    "#     for j in range(n_threads):\n",
    "#         thread_executor.update({\n",
    "#             't_{}'.format(str(j)): threading.Thread(target=fetch_pr_file_changes, args=(pull_req_ids[i+j],))\n",
    "#         })\n",
    "#     \n",
    "#     # start threads:\n",
    "#     for j in range(n_threads):\n",
    "#         thread_executor['t_{}'.format(str(j))].start()\n",
    "#     \n",
    "#     # join threads:\n",
    "#     for j in range(n_threads):\n",
    "#         thread_executor['t_{}'.format(str(j))].join()\n",
    "#     \n",
    "#     counter += n_threads\n",
    "#     print('Pull Requests Processed:', counter)\n",
    "#     time.sleep(4)\n",
    "# \n",
    "# for i in range(11456, 11473, 1):\n",
    "#     fetch_pr_file_changes(pull_req_ids[i])\n",
    "#     print(i)\n",
    "#     time.sleep(1)"
   ]
  },
  {
   "cell_type": "markdown",
   "metadata": {},
   "source": [
    "### $\\checkmark$ - save filepath(0, 4096)\n",
    "### $\\checkmark$ - save filepath(4096, 8192)\n",
    "### $\\checkmark$ - save filepath(8192, 11473)"
   ]
  },
  {
   "cell_type": "code",
   "execution_count": 10,
   "metadata": {},
   "outputs": [],
   "source": [
    "export_filepaths = False\n",
    "\n",
    "if export_filepaths == True:\n",
    "    with open('./filepath[0-4096].pkl', 'wb') as file:\n",
    "        pickle.dump(pull_request_files, file)\n",
    "\n",
    "    with open('./filepath[4096-8192].pkl', 'wb') as file:\n",
    "        pickle.dump(pull_request_files, file)\n",
    "\n",
    "    with open('./filepath[8192-11473].pkl', 'wb') as file:\n",
    "        pickle.dump(pull_request_files, file)"
   ]
  },
  {
   "cell_type": "markdown",
   "metadata": {},
   "source": [
    "### Check Request Failures:"
   ]
  },
  {
   "cell_type": "code",
   "execution_count": 11,
   "metadata": {},
   "outputs": [
    {
     "name": "stdout",
     "output_type": "stream",
     "text": [
      "Unsuccessful Hits: 0\n"
     ]
    }
   ],
   "source": [
    "count = 0\n",
    "for pr_id in list(pull_request_files.keys()):\n",
    "    if pull_request_files[pr_id].status_code != 200:\n",
    "        count += 1\n",
    "        \n",
    "print('Unsuccessful Hits:', count)"
   ]
  },
  {
   "cell_type": "markdown",
   "metadata": {},
   "source": [
    "### Loading filepaths data:"
   ]
  },
  {
   "cell_type": "code",
   "execution_count": 12,
   "metadata": {},
   "outputs": [],
   "source": [
    "with open('./cache/dicts/req_dicts/filepath/filepath[0-4096].pkl', 'rb') as file:\n",
    "    t = pickle.load(file)\n",
    "    for pr_id in list(t.keys()):\n",
    "        pull_request_files.update({pr_id: t[pr_id]})\n",
    "        \n",
    "with open('./cache/dicts/req_dicts/filepath/filepath[4096-8192].pkl', 'rb') as file:\n",
    "    t = pickle.load(file)\n",
    "    for pr_id in list(t.keys()):\n",
    "        pull_request_files.update({pr_id: t[pr_id]})\n",
    "        \n",
    "with open('./cache/dicts/req_dicts/filepath/filepath[8192-11473].pkl', 'rb') as file:\n",
    "    t = pickle.load(file)\n",
    "    for pr_id in list(t.keys()):\n",
    "        pull_request_files.update({pr_id: t[pr_id]})"
   ]
  },
  {
   "cell_type": "code",
   "execution_count": 13,
   "metadata": {},
   "outputs": [
    {
     "data": {
      "text/plain": [
       "11473"
      ]
     },
     "execution_count": 13,
     "metadata": {},
     "output_type": "execute_result"
    }
   ],
   "source": [
    "len(pull_request_files.keys())"
   ]
  },
  {
   "cell_type": "markdown",
   "metadata": {},
   "source": [
    "### Github Pull Request to BigQuery Pull Request:"
   ]
  },
  {
   "cell_type": "code",
   "execution_count": 14,
   "metadata": {},
   "outputs": [],
   "source": [
    "git_pr_2_bigquery_pr = {}\n",
    "bigquery_pr_2_git_pr = {}\n",
    "\n",
    "for row in data:\n",
    "    git_pr_2_bigquery_pr.update({row['github_pr_id']: row['pr_id']})\n",
    "    bigquery_pr_2_git_pr.update({row['pr_id']: row['github_pr_id']})"
   ]
  },
  {
   "cell_type": "markdown",
   "metadata": {},
   "source": [
    "### Extract Owners' and Reviewers' Sets:"
   ]
  },
  {
   "cell_type": "code",
   "execution_count": 15,
   "metadata": {},
   "outputs": [],
   "source": [
    "import pprint"
   ]
  },
  {
   "cell_type": "code",
   "execution_count": 16,
   "metadata": {},
   "outputs": [],
   "source": [
    "def extract_owner_and_reviewer_set(pr_id, data):\n",
    "    \n",
    "    pr_data = []\n",
    "    for row in data:\n",
    "        pr_data += [row] if (row['pr_id'] == pr_id) else {}\n",
    "    \n",
    "    commenters = []\n",
    "    head_authors = []\n",
    "    head_committers = []\n",
    "    \n",
    "    for row in pr_data:\n",
    "        commenters += [row['commenter_id']]\n",
    "        head_authors += [row['head_commit_author_id']]\n",
    "        head_committers += [row['head_commit_committer_id']]\n",
    "        \n",
    "    commenters_set = set(commenters)\n",
    "    head_authors_set = set(head_authors)\n",
    "    head_committers_set = set(head_committers)\n",
    "    \n",
    "    # ========================================\n",
    "    # pr_owners_set = AND(commenter_set, OR(head_committers_set, head_authors_set))\n",
    "    # ========================================\n",
    "    \n",
    "    pr_owners_set = (head_committers_set.union(head_authors_set)).intersection(commenters_set)\n",
    "    \n",
    "    # ========================================\n",
    "    # pr_reviewers_set = commenters_set - pr_owners_set\n",
    "    # ========================================\n",
    "    \n",
    "    pr_reviewers_set = (commenters_set - pr_owners_set)\n",
    "    \n",
    "    return [list(pr_owners_set), list(pr_reviewers_set)]"
   ]
  },
  {
   "cell_type": "markdown",
   "metadata": {},
   "source": [
    "### Blacklisting Pull Requests Whose Owner Set or Reviewer Set is Empty."
   ]
  },
  {
   "cell_type": "code",
   "execution_count": 17,
   "metadata": {},
   "outputs": [],
   "source": [
    "cached = True\n",
    "\n",
    "blacklists = []\n",
    "if cached == True:\n",
    "    with open('./cache/arr/blacklists.pkl', 'rb') as file:\n",
    "        blacklists = pickle.load(file)\n",
    "else:\n",
    "    for pr_id in pull_req_ids:\n",
    "        res = extract_owner_and_reviewer_set(git_pr_2_bigquery_pr[pr_id], data)\n",
    "        if len(res[0]) == 0 or len(res[1]) == 0:\n",
    "            blacklists += [pr_id]\n",
    "    with open('./cache/arr/blacklists.pkl', 'wb') as file:\n",
    "        pickle.dump(blacklists, file)"
   ]
  },
  {
   "cell_type": "code",
   "execution_count": 18,
   "metadata": {},
   "outputs": [
    {
     "data": {
      "text/plain": [
       "2634"
      ]
     },
     "execution_count": 18,
     "metadata": {},
     "output_type": "execute_result"
    }
   ],
   "source": [
    "len(blacklists)"
   ]
  },
  {
   "cell_type": "markdown",
   "metadata": {},
   "source": [
    "### Extract User's Metadata:"
   ]
  },
  {
   "cell_type": "code",
   "execution_count": 19,
   "metadata": {},
   "outputs": [],
   "source": [
    "def extract_user_metadata(user_id, data):\n",
    "    metadata = dict()\n",
    "    for row in data:\n",
    "        if row['commenter_id'] == user_id:\n",
    "            metadata.update({'username': row['commenter_username']})\n",
    "            metadata.update({'follower_count': row['commenter_follower_count']})\n",
    "            metadata.update({'total_github_commit_count': row['commenter_total_github_commit_count']})\n",
    "            metadata.update({'base_repo_commit_count': row['commenter_base_repo_commit_count']})\n",
    "    return metadata"
   ]
  },
  {
   "cell_type": "markdown",
   "metadata": {},
   "source": [
    "### Entities:"
   ]
  },
  {
   "cell_type": "code",
   "execution_count": 20,
   "metadata": {},
   "outputs": [],
   "source": [
    "cached = True\n",
    "entities = []\n",
    "\n",
    "if cached == True:\n",
    "    with open('./cache/arr/entities.pkl', 'rb') as file:\n",
    "        entities = pickle.load(file)\n",
    "else:\n",
    "    for pr_id in list(set(pull_req_ids) - set(blacklists)):\n",
    "        t = extract_owner_and_reviewer_set(git_pr_2_bigquery_pr[pr_id], data)\n",
    "        entities += t[0]\n",
    "        entities += t[1]\n",
    "    entities = list(set(entities))   \n",
    "    with open('./cache/arr/entities.pkl', 'wb') as file:\n",
    "        pickle.dump(entities, file)"
   ]
  },
  {
   "cell_type": "code",
   "execution_count": 21,
   "metadata": {},
   "outputs": [
    {
     "data": {
      "text/plain": [
       "1187"
      ]
     },
     "execution_count": 21,
     "metadata": {},
     "output_type": "execute_result"
    }
   ],
   "source": [
    "len(entities)"
   ]
  },
  {
   "cell_type": "markdown",
   "metadata": {},
   "source": [
    "### Entity Metadata:"
   ]
  },
  {
   "cell_type": "code",
   "execution_count": 22,
   "metadata": {},
   "outputs": [],
   "source": [
    "cached = True\n",
    "entity_metadata = dict()\n",
    "\n",
    "if cached == True:\n",
    "    with open('./cache/dicts/entity_metadata.pkl', 'rb') as file:\n",
    "        entity_metadata = pickle.load(file)\n",
    "else:\n",
    "    for entity in entities:\n",
    "        entity_metadata.update({entity: extract_user_metadata(entity, data)})\n",
    "    with open('./cache/dicts/entity_metadata.pkl', 'wb') as file:\n",
    "        pickle.dump(entity_metadata, file)"
   ]
  },
  {
   "cell_type": "code",
   "execution_count": 23,
   "metadata": {},
   "outputs": [
    {
     "data": {
      "text/plain": [
       "1187"
      ]
     },
     "execution_count": 23,
     "metadata": {},
     "output_type": "execute_result"
    }
   ],
   "source": [
    "len(entity_metadata.keys())"
   ]
  },
  {
   "cell_type": "markdown",
   "metadata": {},
   "source": [
    "### Get Number of Comments:"
   ]
  },
  {
   "cell_type": "code",
   "execution_count": 24,
   "metadata": {},
   "outputs": [],
   "source": [
    "def get_num_comments(owner, commenter, data):\n",
    "    comments = []\n",
    "    for row in data:\n",
    "        is_owner = (row['head_commit_author_id'] == owner) or (row['base_commit_committer_id'] == owner)\n",
    "        if (row['commenter_id'] == commenter) and is_owner:\n",
    "            comments += [row]\n",
    "    return len(comments)"
   ]
  },
  {
   "cell_type": "code",
   "execution_count": 25,
   "metadata": {},
   "outputs": [],
   "source": [
    "def temporal_min_max(timestamp):\n",
    "    s_time = time.mktime(datetime(2014, 1, 1).timetuple())\n",
    "    e_time = time.mktime(datetime(2019, 1, 1).timetuple())\n",
    "    dt = (e_time - s_time)\n",
    "    return float(time.mktime(timestamp) - s_time) / dt"
   ]
  },
  {
   "cell_type": "code",
   "execution_count": 26,
   "metadata": {},
   "outputs": [],
   "source": [
    "def get_edge_weight(owner_id, reviewer_id, data):\n",
    "    \n",
    "    common_rows = []\n",
    "    comment_scaled_times = []\n",
    "    \n",
    "    for row in data:\n",
    "        is_owner = (row['head_commit_author_id'] == owner_id) or (row['head_commit_committer_id'] == reviewer_id)\n",
    "        if (row['commenter_id'] == reviewer_id) and is_owner:\n",
    "            common_rows += [row]\n",
    "    \n",
    "    for row in common_rows:\n",
    "        comment_scaled_times += [temporal_min_max(pd.to_datetime(row['comment_created_at']).timetuple())]\n",
    "        \n",
    "    print(comment_scaled_times)"
   ]
  },
  {
   "cell_type": "markdown",
   "metadata": {},
   "source": [
    "### Export Filepath Changes to Pandas Dataframe:"
   ]
  },
  {
   "cell_type": "code",
   "execution_count": 27,
   "metadata": {},
   "outputs": [],
   "source": [
    "new_data = []\n",
    "for i in range(len(data)):\n",
    "    if data[i]['github_pr_id'] not in blacklists:\n",
    "        data[i].update({'commit_file_changes': pull_request_files[data[i]['github_pr_id']]})\n",
    "        new_data += [data[i]]"
   ]
  },
  {
   "cell_type": "code",
   "execution_count": 28,
   "metadata": {},
   "outputs": [],
   "source": [
    "df = pd.DataFrame(new_data)"
   ]
  },
  {
   "cell_type": "code",
   "execution_count": 29,
   "metadata": {},
   "outputs": [],
   "source": [
    "export_df = False\n",
    "\n",
    "if export_df == True:\n",
    "    with open('dataset_with_file_changes.csv', 'wb') as file:\n",
    "        pickle.dump(df, file)"
   ]
  }
 ],
 "metadata": {
  "kernelspec": {
   "display_name": "Python 3",
   "language": "python",
   "name": "python3"
  },
  "language_info": {
   "codemirror_mode": {
    "name": "ipython",
    "version": 3
   },
   "file_extension": ".py",
   "mimetype": "text/x-python",
   "name": "python",
   "nbconvert_exporter": "python",
   "pygments_lexer": "ipython3",
   "version": "3.8.5"
  }
 },
 "nbformat": 4,
 "nbformat_minor": 4
}
