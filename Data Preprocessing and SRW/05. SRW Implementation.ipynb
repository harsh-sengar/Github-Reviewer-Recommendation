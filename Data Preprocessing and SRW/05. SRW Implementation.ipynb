{
 "cells": [
  {
   "cell_type": "markdown",
   "metadata": {
    "id": "A304FqDX6bUn"
   },
   "source": [
    "### Importing Libraries"
   ]
  },
  {
   "cell_type": "code",
   "execution_count": 1,
   "metadata": {
    "id": "6kIEDiwas80B"
   },
   "outputs": [],
   "source": [
    "import pandas as pd\n",
    "import numpy as np\n",
    "import scipy as sp\n",
    "import scipy.optimize as op\n",
    "import scipy.io"
   ]
  },
  {
   "cell_type": "markdown",
   "metadata": {
    "id": "E1PwkYmhBlOe"
   },
   "source": [
    "### Importing Data"
   ]
  },
  {
   "cell_type": "code",
   "execution_count": 7,
   "metadata": {
    "id": "Y9ORMUaPSf0I"
   },
   "outputs": [],
   "source": [
    "# mat = scipy.io.loadmat('matrix.mat')\n",
    "# matrix = mat['srw_mat']\n",
    "matrix = np.load('./srw.npy', allow_pickle=True)"
   ]
  },
  {
   "cell_type": "code",
   "execution_count": 9,
   "metadata": {
    "id": "VlwSCKGRoKPC"
   },
   "outputs": [],
   "source": [
    "matrix = matrix.reshape(11473, 742)"
   ]
  },
  {
   "cell_type": "markdown",
   "metadata": {
    "id": "SVsBghzKBbyc"
   },
   "source": [
    "### Creating graph representation and Feauture Matrix (psi)"
   ]
  },
  {
   "cell_type": "code",
   "execution_count": 10,
   "metadata": {
    "id": "gn1VLQumoKSM"
   },
   "outputs": [],
   "source": [
    "m,n = matrix.shape\n",
    "Adj = np.zeros((1,n))\n",
    "psi = np.zeros((1,n,1))\n",
    "for j in range(n):\n",
    "    if matrix[0][j] >=1:\n",
    "        Adj[0][j] = 1\n",
    "        psi[0][j][0] = np.squeeze(matrix[0][j])"
   ]
  },
  {
   "cell_type": "markdown",
   "metadata": {
    "id": "8wBKIpnbB0K5"
   },
   "source": [
    "### Functions for SRW"
   ]
  },
  {
   "cell_type": "code",
   "execution_count": 11,
   "metadata": {
    "id": "4i_IOs0kukQx"
   },
   "outputs": [],
   "source": [
    "def sigmoid(z,b):\n",
    "  \"\"\"\n",
    "  this function returns the wilcoxon loss function of each element in the input matrix\n",
    "   diff = input matrix\n",
    "   b = wilcoxon parameter\n",
    "   loss = output matrix\n",
    "  \"\"\"\n",
    "  return (1 / (1 + np.exp(-z/b)))"
   ]
  },
  {
   "cell_type": "code",
   "execution_count": 13,
   "metadata": {
    "id": "TAdWm6ZEoKMb"
   },
   "outputs": [],
   "source": [
    "def FeaturesToEdgeStrength(psi, w):\n",
    "    \n",
    "    m = psi.shape[0]\n",
    "    n = psi.shape[1]\n",
    "    \n",
    "    p = w.shape[0]\n",
    "    \n",
    "    \n",
    "    A = np.zeros(shape=(m, n))\n",
    "    dA = np.zeros(shape=(m, n, p))\n",
    "    \n",
    "    wmatrix = np.ones((m,n,p))\n",
    "    for i in range(p):\n",
    "        wmatrix[:, :, i] *= w[i]\n",
    "        \n",
    "    A = sigmoid(np.sum(np.multiply(psi,wmatrix),axis=-1),1)\n",
    "    temp = np.multiply(A,1-A)\n",
    "    \n",
    "    for i in range(p):\n",
    "        dA[:,:,i] = temp\n",
    "\n",
    "    dA = np.multiply(dA,wmatrix)\n",
    "    \n",
    "    return A,dA"
   ]
  },
  {
   "cell_type": "code",
   "execution_count": 14,
   "metadata": {
    "id": "UNi_KqKetaAV"
   },
   "outputs": [],
   "source": [
    "def EdgeStrengthToTransitionProbability(A,alpha):\n",
    "    \n",
    "    m,n = A.shape\n",
    "    rowsum = np.sum(A,axis=1)\n",
    "    Q = np.divide(A,rowsum)\n",
    "    \n",
    "    return Q"
   ]
  },
  {
   "cell_type": "code",
   "execution_count": 16,
   "metadata": {
    "id": "9BsWvCw6wRK9"
   },
   "outputs": [],
   "source": [
    "def EdgeStrengthToPartialdiffTransition(A,dA,alpha):\n",
    "    m = A.shape[0]\n",
    "    if len(dA.shape)==3: \n",
    "        p = dA.shape[2];\n",
    "    else:\n",
    "        p = 1;\n",
    "\n",
    "    dQ = np.zeros((m,n,p))\n",
    "    sumU = np.sum(A,axis=1); # sum of transition prob of all nodes starting from U\n",
    "    den = sumU**2\n",
    "    for i in range(p):\n",
    "        sumdU = np.sum(dA[:,:,i],axis=1) # sum of partial d of trans p of all nodes\n",
    "        temp = np.multiply(sumU,dA[:,:,i]) + np.multiply(A,sumdU)\n",
    "        dQ[:,:,i] = np.divide(temp,den)\n",
    "\n",
    "    return dQ"
   ]
  },
  {
   "cell_type": "code",
   "execution_count": 17,
   "metadata": {
    "id": "aSMAEpmEB1Ec"
   },
   "outputs": [],
   "source": [
    "def Converged(p1,p2,eps):\n",
    "    \n",
    "    temp = np.max(np.abs(p1-p2))\n",
    "    \n",
    "    if temp < eps:\n",
    "        ret = 1\n",
    "    else:\n",
    "        ret = 0\n",
    "    \n",
    "    return ret"
   ]
  },
  {
   "cell_type": "code",
   "execution_count": 19,
   "metadata": {
    "id": "HZEcwo0KxUNb"
   },
   "outputs": [],
   "source": [
    "def ComputeStationaryP(Q, dQ):\n",
    "\n",
    "    epsilon = 1e-12\n",
    "    m,n = Q.shape\n",
    "    \n",
    "    if len(dQ.shape)==3:\n",
    "        p = (dQ.shape)[2]\n",
    "    else:\n",
    "        p = 1\n",
    "        \n",
    "    P = np.zeros((m,n))\n",
    "    dP = np.zeros((n,p))\n",
    "    P = P + (1/n)\n",
    "    t = 0\n",
    "\n",
    "    while True:\n",
    "        t += 1\n",
    "        Pnew = P\n",
    "        for i in range(n):\n",
    "            Pnew[0][i] = np.sum(np.multiply(P[0][i],Q[0,i]))\n",
    "            \n",
    "        Pnew = np.divide(Pnew,np.sum(Pnew,axis=1))\n",
    "        temp = P\n",
    "        P = Pnew\n",
    "        if ((Converged(P, temp, epsilon) or t>100)):\n",
    "            break\n",
    "            \n",
    "    for j in range(p):\n",
    "        k = 0;\n",
    "        dQj = dQ[:,:,j]\n",
    "        while True:\n",
    "            k += 1\n",
    "            dpjnew = dP[:,j]\n",
    "            for i in range(n):\n",
    "                dpjnew[i] = (Q[0][i]*dP[i,j]) + P[0][i]*dQj[:,i]  \n",
    "            temp =dP[:,j]\n",
    "            dP[:,j] = dpjnew\n",
    "            if (Converged(dP[:,j], temp, epsilon) or k>100):\n",
    "                break\n",
    "\n",
    "    return P,dP"
   ]
  },
  {
   "cell_type": "code",
   "execution_count": 26,
   "metadata": {
    "id": "n0YVI2VSxUQ7"
   },
   "outputs": [],
   "source": [
    "def DifferenceIndices(P,d):\n",
    "    n = P.shape[1]\n",
    "    a = np.vstack([P]*n)\n",
    "    b = np.hstack([P.T]*n) \n",
    "\n",
    "    dd = np.subtract(a,b)\n",
    "  \n",
    "\n",
    "    dd[d!=0,:] = 0; dd[:,d==0] = 0;\n",
    "\n",
    "    index = (dd>0)\n",
    "    count = 0\n",
    "    I = []\n",
    "    for i in range(742):\n",
    "        for j in range(742):\n",
    "            if index[i][j] ==True:\n",
    "                I.append((i,j))\n",
    "    I = np.array(I)\n",
    "\n",
    "    return I,dd"
   ]
  },
  {
   "cell_type": "code",
   "execution_count": 27,
   "metadata": {
    "id": "OCOflV3WIaig"
   },
   "outputs": [],
   "source": [
    "def dsigmoid(diff, wmvloss, b):\n",
    "    \n",
    "    temp = 1 - wmvloss\n",
    "    der  = np.multiply(wmvloss,temp)\n",
    "    der /= b\n",
    "  \n",
    "    return der"
   ]
  },
  {
   "cell_type": "code",
   "execution_count": 28,
   "metadata": {
    "id": "DwqiAIVJF68V"
   },
   "outputs": [],
   "source": [
    "def LossFunction(param,features,d,lmbd=1,alpha=0.2,b=0.4):\n",
    "    \n",
    "    p = len(param)\n",
    "    n = len(d)\n",
    "    J = 0\n",
    "    \n",
    "    grad = np.zeros((1,p))\n",
    "\n",
    "    A, dA = FeaturesToEdgeStrength(features, param)\n",
    "    \n",
    "    Q = EdgeStrengthToTransitionProbability(A, alpha)\n",
    "    dQ = EdgeStrengthToPartialdiffTransition(A, dA, alpha)\n",
    "    P, dP = ComputeStationaryP(Q, dQ)\n",
    "\n",
    "    I, diff = DifferenceIndices(P, d)\n",
    "    \n",
    "    diff[diff<0] = 0\n",
    "  \n",
    "    wmvloss = sigmoid(diff,b)\n",
    "    J = np.sum(param**2) + lmbd* np.sum(wmvloss)\n",
    "\n",
    "    return J"
   ]
  },
  {
   "cell_type": "code",
   "execution_count": 29,
   "metadata": {
    "id": "2pbCcOl8M_c8"
   },
   "outputs": [],
   "source": [
    "def gradient(param,features,d,lmbd=1,alpha=0.2,b=0.4):\n",
    "\n",
    "    p = len(param)\n",
    "    n = len(d)\n",
    "    J = 0\n",
    "    grad = np.zeros((1,p))\n",
    "    \n",
    "    A, dA = FeaturesToEdgeStrength(features, param)\n",
    "    Q = EdgeStrengthToTransitionProbability(A, alpha)\n",
    "    dQ = EdgeStrengthToPartialdiffTransition(A, dA, alpha)\n",
    "    P, dP = ComputeStationaryP(Q, dQ)\n",
    "    I, diff = DifferenceIndices(P, d)\n",
    "    diff[diff<0] = 0\n",
    "  \n",
    "  \n",
    "    wmvloss = sigmoid(diff,b)\n",
    "\n",
    "    J = np.sum(param**2) + lmbd* np.sum(wmvloss)\n",
    "    derivative = dsigmoid(diff,wmvloss,b)\n",
    "\n",
    "    for i in range(p):\n",
    "        grad[i] += 2*param[i]\n",
    "        \n",
    "        temp = 0\n",
    "\n",
    "        for j in range(I.shape[0]):\n",
    "            ind = I[j,:]\n",
    "            temp += derivative[ind[0],ind[1]] * (dP[ind[0],i]-dP[ind[1],i])\n",
    "            \n",
    "        grad[i] += temp*lmbd\n",
    "\n",
    "    grad = grad.T\n",
    "    \n",
    "    return grad"
   ]
  },
  {
   "cell_type": "markdown",
   "metadata": {
    "id": "4GoQ9OLv8Xkn"
   },
   "source": [
    "### Running the optimizer for Analysis"
   ]
  },
  {
   "cell_type": "code",
   "execution_count": 31,
   "metadata": {
    "colab": {
     "base_uri": "https://localhost:8080/"
    },
    "id": "81_zry85M_Yg",
    "outputId": "436b428b-5610-4171-8782-fcc4613ea943"
   },
   "outputs": [
    {
     "name": "stdout",
     "output_type": "stream",
     "text": [
      "Optimization terminated successfully.\n",
      "         Current function value: 55056.400000\n",
      "         Iterations: 1\n",
      "         Function evaluations: 8\n",
      "         Gradient evaluations: 8\n"
     ]
    }
   ],
   "source": [
    "m = psi.shape[0]\n",
    "n = psi.shape[1]\n",
    "p = psi.shape[2]\n",
    "\n",
    "initial_w = np.ones((1,p))\n",
    "assert(initial_w.shape == (1,p))\n",
    "d = Adj[0,:]\n",
    "\n",
    "loss = LossFunction(initial_w, psi, d, lmbd=1,alpha=0.2,b=0.4)\n",
    "\n",
    "result = sp.optimize.fmin_cg(\n",
    "    LossFunction,\n",
    "    initial_w,\n",
    "    fprime = gradient,\n",
    "    args = (psi, d,0.2,0.2,0.4),\n",
    "    full_output = True,\n",
    "    retall = True,\n",
    "    epsilon = 1.5e-15,\n",
    "    maxiter = 50\n",
    ")"
   ]
  }
 ],
 "metadata": {
  "colab": {
   "collapsed_sections": [],
   "name": "DM project (srw).ipynb",
   "provenance": []
  },
  "kernelspec": {
   "display_name": "Python 3",
   "language": "python",
   "name": "python3"
  },
  "language_info": {
   "codemirror_mode": {
    "name": "ipython",
    "version": 3
   },
   "file_extension": ".py",
   "mimetype": "text/x-python",
   "name": "python",
   "nbconvert_exporter": "python",
   "pygments_lexer": "ipython3",
   "version": "3.8.5"
  }
 },
 "nbformat": 4,
 "nbformat_minor": 1
}
