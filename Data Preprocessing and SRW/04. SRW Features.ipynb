{
 "cells": [
  {
   "cell_type": "code",
   "execution_count": 1,
   "metadata": {},
   "outputs": [],
   "source": [
    "import matplotlib.pyplot as plt\n",
    "import networkx as nx\n",
    "import pandas as pd\n",
    "import numpy as np\n",
    "import scipy.io\n",
    "import pickle"
   ]
  },
  {
   "cell_type": "markdown",
   "metadata": {},
   "source": [
    "### Loading Dataset:"
   ]
  },
  {
   "cell_type": "code",
   "execution_count": 2,
   "metadata": {},
   "outputs": [],
   "source": [
    "data = pd.read_csv('./raw/kubernetes.csv')"
   ]
  },
  {
   "cell_type": "markdown",
   "metadata": {},
   "source": [
    "### List of Pull Requests:"
   ]
  },
  {
   "cell_type": "code",
   "execution_count": 3,
   "metadata": {},
   "outputs": [],
   "source": [
    "pr_id_list = list(data['pr_id'].unique())"
   ]
  },
  {
   "cell_type": "markdown",
   "metadata": {},
   "source": [
    "### Get Number of Reviews for a Pull Request:"
   ]
  },
  {
   "cell_type": "code",
   "execution_count": 4,
   "metadata": {},
   "outputs": [],
   "source": [
    "def get_num_reviews(pr_id, data):\n",
    "    \n",
    "    reviewer_list = {}\n",
    "    pr_df = data.loc[data.pr_id == pr_id, :]\n",
    "    \n",
    "    commenter_list = list(pr_df.commenter_id.values)\n",
    "    commenter_set = set(commenter_list)\n",
    "    \n",
    "    head_commiter_set = set(pr_df.head_commit_committer_id.values)\n",
    "    head_author_set = set(pr_df.head_commit_author_id.values)\n",
    "    pr_owner_set = (head_author_set | head_commiter_set) & commenter_set\n",
    "    reviewer_set = commenter_set - pr_owner_set\n",
    "    \n",
    "    buf_list = []\n",
    "    for c in commenter_list:\n",
    "        if c not in pr_owner_set:\n",
    "            buf_list += [c]\n",
    "    \n",
    "    commenter_freq = {}\n",
    "    for reviewer in buf_list:\n",
    "        if reviewer not in commenter_freq:\n",
    "            commenter_freq.update({reviewer: 1})\n",
    "        else:\n",
    "            commenter_freq[reviewer] += 1\n",
    "\n",
    "    return commenter_freq"
   ]
  },
  {
   "cell_type": "markdown",
   "metadata": {},
   "source": [
    "### Feature 1: Number of comments made by Reviewer r on PullRequest p"
   ]
  },
  {
   "cell_type": "code",
   "execution_count": 5,
   "metadata": {},
   "outputs": [],
   "source": [
    "def ncomments_on_pr_by_reviewer(pr_id, reviewer_id, data):\n",
    "\n",
    "    res = get_num_reviews(pr_id, data)\n",
    "    \n",
    "    if reviewer_id in res.keys():\n",
    "        return res[reviewer_id]\n",
    "    else:\n",
    "        return 0"
   ]
  },
  {
   "cell_type": "markdown",
   "metadata": {},
   "source": [
    "### Feature 2: Number of total Pull-Requests submitted by Reviewer r to the repository"
   ]
  },
  {
   "cell_type": "code",
   "execution_count": 6,
   "metadata": {},
   "outputs": [],
   "source": [
    "def npullreq_on_repo_by_reviewer(reviewer, data):\n",
    "    df = set(data[data.commenter_id == reviewer]['head_repo_id'])\n",
    "    return len(df)"
   ]
  },
  {
   "cell_type": "markdown",
   "metadata": {},
   "source": [
    "### Load Entities and Entity Metadata:"
   ]
  },
  {
   "cell_type": "code",
   "execution_count": 7,
   "metadata": {},
   "outputs": [],
   "source": [
    "entities = None\n",
    "with open('./cache/arr/entities.pkl', 'rb') as file:\n",
    "    entities = pickle.load(file)"
   ]
  },
  {
   "cell_type": "code",
   "execution_count": 8,
   "metadata": {},
   "outputs": [],
   "source": [
    "entity_metadata = None\n",
    "with open('./cache/dicts/entity_metadata.pkl', 'rb') as file:\n",
    "    entity_metadata = pickle.load(file)"
   ]
  },
  {
   "cell_type": "markdown",
   "metadata": {},
   "source": [
    "### Loading Reviewers:"
   ]
  },
  {
   "cell_type": "code",
   "execution_count": 9,
   "metadata": {},
   "outputs": [],
   "source": [
    "reviewers = None\n",
    "with open('./cache/arr/reviewers.pkl', 'rb') as file:\n",
    "    reviewers = pickle.load(file)"
   ]
  },
  {
   "cell_type": "markdown",
   "metadata": {},
   "source": [
    "### Reviewers Count for a Pull Request:"
   ]
  },
  {
   "cell_type": "code",
   "execution_count": 10,
   "metadata": {
    "id": "ZOG3_NypSgf7"
   },
   "outputs": [],
   "source": [
    "reviewer_count = {}\n",
    "for pr_id in pr_id_list:\n",
    "    reviewer_count[pr_id] = get_num_reviews(pr_id,data)"
   ]
  },
  {
   "cell_type": "code",
   "execution_count": 11,
   "metadata": {},
   "outputs": [],
   "source": [
    "total_pr_reviewed = {}\n",
    "\n",
    "for reviewer in reviewers:\n",
    "    for pr_id in set(pr_id_list):\n",
    "        if pr_id in reviewer_count.keys():\n",
    "            if reviewer in list(reviewer_count[pr_id].keys()):\n",
    "\n",
    "                if reviewer not in total_pr_reviewed.keys():\n",
    "\n",
    "                    total_pr_reviewed.update({\n",
    "                        reviewer: {\n",
    "                            'pr_list': [pr_id], \n",
    "                            'total_counts': 1\n",
    "                        }\n",
    "                    })\n",
    "\n",
    "                else:\n",
    "\n",
    "                    total_pr_reviewed[reviewer]['pr_list'] += [pr_id]\n",
    "                    total_pr_reviewed[reviewer]['total_counts'] += 1"
   ]
  },
  {
   "cell_type": "code",
   "execution_count": 12,
   "metadata": {
    "id": "o5G5IG5OqYjI"
   },
   "outputs": [],
   "source": [
    "total_pr_count = {}\n",
    "\n",
    "for (rev, pr) in total_pr_reviewed.items():\n",
    "    total_pr_count[rev] = len(set(pr))"
   ]
  },
  {
   "cell_type": "markdown",
   "metadata": {},
   "source": [
    "### Conversion Utilities:"
   ]
  },
  {
   "cell_type": "code",
   "execution_count": 13,
   "metadata": {},
   "outputs": [],
   "source": [
    "pr_id_2_matrix_row_id = {}\n",
    "matrix_row_id_2_pr_id = {}\n",
    "\n",
    "counter = 0\n",
    "for pr_id in sorted(pr_id_list):\n",
    "    pr_id_2_matrix_row_id.update({pr_id: counter})\n",
    "    matrix_row_id_2_pr_id.update({counter: pr_id})\n",
    "    counter += 1"
   ]
  },
  {
   "cell_type": "code",
   "execution_count": 14,
   "metadata": {},
   "outputs": [],
   "source": [
    "reviewer_id_2_matrix_col_id = {}\n",
    "matrix_col_id_2_reviewer_id = {}\n",
    "\n",
    "counter = 0\n",
    "for reviewer in sorted(reviewers):\n",
    "    reviewer_id_2_matrix_col_id.update({reviewer: counter})\n",
    "    matrix_col_id_2_reviewer_id.update({counter: reviewer})\n",
    "    counter += 1"
   ]
  },
  {
   "cell_type": "markdown",
   "metadata": {},
   "source": [
    "### SRW Graph:"
   ]
  },
  {
   "cell_type": "code",
   "execution_count": 15,
   "metadata": {},
   "outputs": [],
   "source": [
    "srw_psi_matrix = np.zeros(\n",
    "    shape=(\n",
    "        len(pr_id_2_matrix_row_id.keys()), \n",
    "        len(reviewer_id_2_matrix_col_id.keys()), \n",
    "        1\n",
    "    ), \n",
    "    dtype=np.object\n",
    ")"
   ]
  },
  {
   "cell_type": "code",
   "execution_count": 16,
   "metadata": {},
   "outputs": [],
   "source": [
    "for pr_id in pr_id_list:\n",
    "    res = get_num_reviews(pr_id, data)\n",
    "    for reviewer in reviewers:\n",
    "        \n",
    "        if reviewer in res.keys():\n",
    "            # Feature present or not:\n",
    "            # srw_psi_matrix[pr_id_2_matrix_row_id[pr_id]][reviewer_id_2_matrix_col_id[reviewer]][0] = 1\n",
    "            \n",
    "            # Actual Features:\n",
    "            srw_psi_matrix[pr_id_2_matrix_row_id[pr_id]][reviewer_id_2_matrix_col_id[reviewer]][0] = res[reviewer]\n",
    "        else:\n",
    "            srw_psi_matrix[pr_id_2_matrix_row_id[pr_id]][reviewer_id_2_matrix_col_id[reviewer]][0] = 0"
   ]
  },
  {
   "cell_type": "code",
   "execution_count": 17,
   "metadata": {},
   "outputs": [],
   "source": [
    "export_matrix = False\n",
    "\n",
    "if export_matrix == True:\n",
    "    np.save('srw.npy', srw_psi_matrix)\n",
    "    # scipy.io.savemat('matrix.mat', {'srw_mat': srw_psi_matrix})"
   ]
  },
  {
   "cell_type": "markdown",
   "metadata": {},
   "source": [
    "### Personalized Random Walk:"
   ]
  },
  {
   "cell_type": "code",
   "execution_count": 18,
   "metadata": {},
   "outputs": [],
   "source": [
    "graph = nx.Graph()"
   ]
  },
  {
   "cell_type": "code",
   "execution_count": 19,
   "metadata": {},
   "outputs": [],
   "source": [
    "for r in reviewers:\n",
    "    for node in total_pr_reviewed[r]['pr_list']:\n",
    "        graph.add_edge(r, node)"
   ]
  },
  {
   "cell_type": "code",
   "execution_count": 20,
   "metadata": {},
   "outputs": [
    {
     "data": {
      "image/png": "[encoded data removed]",
      "text/plain": [
       "<Figure size 864x864 with 1 Axes>"
      ]
     },
     "metadata": {},
     "output_type": "display_data"
    }
   ],
   "source": [
    "fig = plt.figure(figsize=(12,12))\n",
    "ax = plt.subplot(111)\n",
    "ax.set_title('Kubernetes PR and Reviewers Graph', fontsize=10)\n",
    "pos = nx.spring_layout(graph)\n",
    "nx.draw(graph, pos, node_size=2, width=1)\n",
    "plt.savefig('Github_Graph.svg', format='svg', dpi=1200)"
   ]
  }
 ],
 "metadata": {
  "colab": {
   "collapsed_sections": [],
   "name": "Untitled11.ipynb",
   "provenance": []
  },
  "kernelspec": {
   "display_name": "Python 3",
   "language": "python",
   "name": "python3"
  },
  "language_info": {
   "codemirror_mode": {
    "name": "ipython",
    "version": 3
   },
   "file_extension": ".py",
   "mimetype": "text/x-python",
   "name": "python",
   "nbconvert_exporter": "python",
   "pygments_lexer": "ipython3",
   "version": "3.8.5"
  }
 },
 "nbformat": 4,
 "nbformat_minor": 1
}
