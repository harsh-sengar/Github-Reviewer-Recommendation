{
 "cells": [
  {
   "cell_type": "code",
   "execution_count": 1,
   "metadata": {},
   "outputs": [],
   "source": [
    "import numpy as np"
   ]
  },
  {
   "cell_type": "raw",
   "metadata": {},
   "source": [
    "% this function takes into input the parameter of the edge strength function, \n",
    "% and features of edges and gives edge strength and its partial derivative wrt \n",
    "% to each parameter..\n",
    "% future implementations include varying the edge strength function as well..\n",
    "% n = number of nodes in the network, m is the number of features \n",
    "%\n",
    "\n",
    "% input:\n",
    "%   psi: features of each edge, size(n,n,m)\n",
    "%   w  : parameters of the edge strength function, size(1,m)\n",
    "% output:\n",
    "%   A : edge strength matrix, size(n,n)\n",
    "%   dA: partial derivative wrt to w, size(n,n,m)\n",
    " \n",
    "\n",
    "function [A,dA] = FeaturesToEdgeStrength(psi, w)\n",
    "\n",
    "n = size(psi,1);\n",
    "m = length(w);\n",
    "\n",
    "A = zeros(n,n); dA = zeros(n,n,m);\n",
    "\n",
    "wmatrix = ones(n,n,m);\n",
    "for i = 1:m\n",
    "\twmatrix(:,:,i) *= w(i);\n",
    "end\n",
    "\n",
    "A = wilcoxon(sum((psi .* wmatrix),3),1);\n",
    "\n",
    "temp = A .* (1-A);\n",
    "\n",
    "for i = 1:m\n",
    "\tdA(:,:,i) = temp;\n",
    "end\n",
    "\n",
    "dA = dA .* wmatrix;\n",
    "\n",
    "end"
   ]
  },
  {
   "cell_type": "code",
   "execution_count": null,
   "metadata": {},
   "outputs": [],
   "source": [
    "# psi: features of each edge, size(m, n, p)\n",
    "\n",
    "def features_to_edge_strength(psi, w):\n",
    "    \n",
    "    m = psi.shape[0]\n",
    "    n = psi.shape[1]\n",
    "    \n",
    "    p = w.shape[0]\n",
    "    \n",
    "    A = np.zeros(shape=(m, n))\n",
    "    dA = np.zeros(shape=(m, n, p))\n",
    "    \n",
    "    wmatrix = np.ones(m, n, p)\n",
    "    for i in range(0, p, 1):\n",
    "        wmatrix[:, :, i] *= p[i]\n",
    "        \n",
    "    # (psi .* wmatrix) , 3\n",
    "    \n",
    "    \n",
    "        \n",
    "    A = "
   ]
  }
 ],
 "metadata": {
  "kernelspec": {
   "display_name": "Python 3",
   "language": "python",
   "name": "python3"
  },
  "language_info": {
   "codemirror_mode": {
    "name": "ipython",
    "version": 3
   },
   "file_extension": ".py",
   "mimetype": "text/x-python",
   "name": "python",
   "nbconvert_exporter": "python",
   "pygments_lexer": "ipython3",
   "version": "3.6.12"
  }
 },
 "nbformat": 4,
 "nbformat_minor": 4
}
