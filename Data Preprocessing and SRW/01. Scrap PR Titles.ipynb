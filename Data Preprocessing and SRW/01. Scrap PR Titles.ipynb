{
 "cells": [
  {
   "cell_type": "code",
   "execution_count": 1,
   "metadata": {},
   "outputs": [],
   "source": [
    "from collections import Counter\n",
    "from datetime import datetime\n",
    "import chars2vec as c2v\n",
    "import pandas as pd\n",
    "import numpy as np\n",
    "import threading\n",
    "import requests\n",
    "import pickle\n",
    "import json\n",
    "import time"
   ]
  },
  {
   "cell_type": "markdown",
   "metadata": {},
   "source": [
    "### CSV to Dictionary:"
   ]
  },
  {
   "cell_type": "code",
   "execution_count": 2,
   "metadata": {},
   "outputs": [],
   "source": [
    "data_dict = []\n",
    "df = pd.read_csv('./raw/kubernetes.csv', index_col=0)"
   ]
  },
  {
   "cell_type": "code",
   "execution_count": 3,
   "metadata": {},
   "outputs": [],
   "source": [
    "cached = True\n",
    "\n",
    "if cached == True:\n",
    "    with open('./raw/kubernetes_json.pkl', 'rb') as file:\n",
    "        data = pickle.load(file)\n",
    "else:\n",
    "    data_dict = dict(df.to_dict())\n",
    "    data_cols = list(data_dict.keys())\n",
    "\n",
    "    for index in range(df.shape[0]):\n",
    "        temp = {}\n",
    "        for col_no in range(df.shape[1]):\n",
    "            temp.update({data_cols[col_no]: data_dict[data_cols[col_no]][index]})\n",
    "\n",
    "        data += [temp]\n",
    "    \n",
    "    with open('./raw/kubernetes_json.pkl', 'wb') as file:\n",
    "        pickle.dump(data, file)"
   ]
  },
  {
   "cell_type": "markdown",
   "metadata": {},
   "source": [
    "### List of Pull Request IDs:"
   ]
  },
  {
   "cell_type": "code",
   "execution_count": 4,
   "metadata": {},
   "outputs": [],
   "source": [
    "pull_req_ids = list(set(df['github_pr_id']))"
   ]
  },
  {
   "cell_type": "markdown",
   "metadata": {},
   "source": [
    "### Scraping PR File Changes:"
   ]
  },
  {
   "cell_type": "code",
   "execution_count": 5,
   "metadata": {},
   "outputs": [],
   "source": [
    "pull_request_files = {}"
   ]
  },
  {
   "cell_type": "markdown",
   "metadata": {},
   "source": [
    "#### Callback:"
   ]
  },
  {
   "cell_type": "code",
   "execution_count": 6,
   "metadata": {},
   "outputs": [],
   "source": [
    "def fetch_pr_file_changes(pr_id):\n",
    "\n",
    "    global pull_request_files\n",
    "    \n",
    "    # ===============================================\n",
    "    # Note: 5000 requests/hour for a user:\n",
    "    # ===============================================\n",
    "\n",
    "    url     = 'https://api.github.com/repos/kubernetes/kubernetes/pulls/{}/files'.format(pr_id)\n",
    "    headers = {'Authorization': 'token <gh-auth-token>'}\n",
    "\n",
    "    response = requests.get(url=url, headers=headers)\n",
    "    pull_request_files.update({pr_id: response})"
   ]
  },
  {
   "cell_type": "code",
   "execution_count": 7,
   "metadata": {},
   "outputs": [],
   "source": [
    "url     = 'https://api.github.com/rate_limit'\n",
    "headers = {'Authorization': 'token <gh-auth-token>'}\n",
    "\n",
    "response = requests.get(url=url, headers=headers)"
   ]
  },
  {
   "cell_type": "markdown",
   "metadata": {},
   "source": [
    "#### PR[0:4096] - Batch 0:"
   ]
  },
  {
   "cell_type": "code",
   "execution_count": 8,
   "metadata": {},
   "outputs": [],
   "source": [
    "cached = True\n",
    "\n",
    "if cached == False:\n",
    "\n",
    "    num_threads = 64\n",
    "    \n",
    "    counter = 0\n",
    "    for i in range(0, 4096, num_threads):\n",
    "        \n",
    "        thread_executor = {}\n",
    "\n",
    "        # define threads:\n",
    "        for j in range(num_threads):\n",
    "            target = fetch_pr_file_changes\n",
    "            args   = tuple({pull_req_ids[i+j]})\n",
    "            t_obj  = threading.Thread(target=target, args=args)\n",
    "            thread_executor.update({'t_{}'.format(str(j)): t_obj})\n",
    "\n",
    "        # start threads:\n",
    "        for j in range(num_threads):\n",
    "            thread_executor['t_{}'.format(str(j))].start()\n",
    "\n",
    "        # join threads:\n",
    "        for j in range(num_threads):\n",
    "            thread_executor['t_{}'.format(str(j))].join()\n",
    "\n",
    "        counter += num_threads\n",
    "        print('Pull Requests Processed:', counter)\n",
    "        time.sleep(4)"
   ]
  },
  {
   "cell_type": "markdown",
   "metadata": {},
   "source": [
    "#### PR[4096-8192] Batch 1:"
   ]
  },
  {
   "cell_type": "code",
   "execution_count": 9,
   "metadata": {},
   "outputs": [],
   "source": [
    "cached = True\n",
    "\n",
    "if cached == False:\n",
    "\n",
    "    num_threads = 64\n",
    "    \n",
    "    counter = 4096\n",
    "    for i in range(4096, 8192, num_threads):\n",
    "        \n",
    "        thread_executor = {}\n",
    "\n",
    "        # define threads:\n",
    "        for j in range(num_threads):\n",
    "            target = fetch_pr_file_changes\n",
    "            args   = tuple({pull_req_ids[i+j]})\n",
    "            t_obj  = threading.Thread(target=target, args=args)\n",
    "            thread_executor.update({'t_{}'.format(str(j)): t_obj})\n",
    "\n",
    "        # start threads:\n",
    "        for j in range(num_threads):\n",
    "            thread_executor['t_{}'.format(str(j))].start()\n",
    "\n",
    "        # join threads:\n",
    "        for j in range(num_threads):\n",
    "            thread_executor['t_{}'.format(str(j))].join()\n",
    "\n",
    "        counter += num_threads\n",
    "        print('Pull Requests Processed:', counter)\n",
    "        time.sleep(4)"
   ]
  },
  {
   "cell_type": "markdown",
   "metadata": {},
   "source": [
    "#### PR[8192-11473] Batch 2:"
   ]
  },
  {
   "cell_type": "code",
   "execution_count": 10,
   "metadata": {},
   "outputs": [],
   "source": [
    "cached = True\n",
    "\n",
    "if cached == False:\n",
    "    \n",
    "    num_threads = 64\n",
    "    \n",
    "    counter = 8192\n",
    "    for i in range(8192, 11456, num_threads):\n",
    "        \n",
    "        thread_executor = {}\n",
    "\n",
    "        # define threads:\n",
    "        for j in range(num_threads):\n",
    "            target = fetch_pr_file_changes\n",
    "            args   = tuple({pull_req_ids[i+j]})\n",
    "            t_obj  = threading.Thread(target=target, args=args)\n",
    "            thread_executor.update({'t_{}'.format(str(j)): t_obj})\n",
    "\n",
    "        # start threads:\n",
    "        for j in range(num_threads):\n",
    "            thread_executor['t_{}'.format(str(j))].start()\n",
    "\n",
    "        # join threads:\n",
    "        for j in range(num_threads):\n",
    "            thread_executor['t_{}'.format(str(j))].join()\n",
    "\n",
    "        counter += num_threads\n",
    "        print('Pull Requests Processed:', counter)\n",
    "        time.sleep(4)\n",
    "        \n",
    "    for i in range(11456, 11473, 1):\n",
    "        fetch_pr_file_changes(pull_req_ids[i])\n",
    "        print('Pull Requests Processed:', i)\n",
    "        time.sleep(1)"
   ]
  },
  {
   "cell_type": "markdown",
   "metadata": {},
   "source": [
    "### Load Cached PR Filepath Changes:"
   ]
  },
  {
   "cell_type": "code",
   "execution_count": 11,
   "metadata": {},
   "outputs": [],
   "source": [
    "cached = True\n",
    "\n",
    "if cached == True:\n",
    "    with open('./cache/dicts/requests/pr_filepath_changes.pkl', 'rb') as file:\n",
    "        pull_request_files = pickle.load(file)"
   ]
  },
  {
   "cell_type": "markdown",
   "metadata": {},
   "source": [
    "### Check Request Failures and Re-Request:"
   ]
  },
  {
   "cell_type": "code",
   "execution_count": 12,
   "metadata": {},
   "outputs": [
    {
     "data": {
      "text/plain": [
       "11473"
      ]
     },
     "execution_count": 12,
     "metadata": {},
     "output_type": "execute_result"
    }
   ],
   "source": [
    "len(pull_request_files)"
   ]
  },
  {
   "cell_type": "markdown",
   "metadata": {},
   "source": [
    "#### Detect Failures:"
   ]
  },
  {
   "cell_type": "code",
   "execution_count": 13,
   "metadata": {
    "scrolled": true
   },
   "outputs": [
    {
     "name": "stdout",
     "output_type": "stream",
     "text": [
      "Unsuccessful Hits: 0\n"
     ]
    }
   ],
   "source": [
    "count = 0\n",
    "unsuccessful = []\n",
    "for pr_id in list(pull_request_files.keys()):\n",
    "    if pull_request_files[pr_id].status_code != 200:\n",
    "        unsuccessful += [pr_id]\n",
    "        count += 1\n",
    "        \n",
    "print('Unsuccessful Hits:', count)"
   ]
  },
  {
   "cell_type": "markdown",
   "metadata": {},
   "source": [
    "#### Re-Request:"
   ]
  },
  {
   "cell_type": "code",
   "execution_count": 14,
   "metadata": {},
   "outputs": [],
   "source": [
    "for u in unsuccessful:\n",
    "    fetch_pr_file_changes(u)"
   ]
  },
  {
   "cell_type": "markdown",
   "metadata": {},
   "source": [
    "### Update Cache:"
   ]
  },
  {
   "cell_type": "code",
   "execution_count": 15,
   "metadata": {},
   "outputs": [],
   "source": [
    "update = False\n",
    "\n",
    "if update == True:\n",
    "    with open('./cache/dicts/req_dicts/filepath/filepath[0-4096].pkl', 'wb') as file:\n",
    "        pickle.dump(pull_request_files, file)\n",
    "\n",
    "    with open('./cache/dicts/req_dicts/filepath/filepath[4096-8192].pkl', 'wb') as file:\n",
    "        pickle.dump(pull_request_files, file)\n",
    "\n",
    "    with open('./cache/dicts/req_dicts/filepath/filepath[8192-11473].pkl', 'wb') as file:\n",
    "        pickle.dump(pull_request_files, file)"
   ]
  },
  {
   "cell_type": "markdown",
   "metadata": {},
   "source": [
    "### Github Pull Request to BigQuery Pull Request:"
   ]
  },
  {
   "cell_type": "code",
   "execution_count": 16,
   "metadata": {},
   "outputs": [],
   "source": [
    "git_pr_2_bigquery_pr = {}\n",
    "bigquery_pr_2_git_pr = {}\n",
    "\n",
    "for row in data:\n",
    "    git_pr_2_bigquery_pr.update({row['github_pr_id']: row['pr_id']})\n",
    "    bigquery_pr_2_git_pr.update({row['pr_id']: row['github_pr_id']})"
   ]
  },
  {
   "cell_type": "markdown",
   "metadata": {},
   "source": [
    "### Extract Owners' and Reviewers' Sets:"
   ]
  },
  {
   "cell_type": "code",
   "execution_count": 17,
   "metadata": {},
   "outputs": [],
   "source": [
    "import pprint"
   ]
  },
  {
   "cell_type": "code",
   "execution_count": 18,
   "metadata": {},
   "outputs": [],
   "source": [
    "def extract_owner_and_reviewer_set(pr_id, data):\n",
    "    \n",
    "    pr_data = []\n",
    "    for row in data:\n",
    "        pr_data += [row] if (row['pr_id'] == pr_id) else {}\n",
    "    \n",
    "    commenters = []\n",
    "    head_authors = []\n",
    "    head_committers = []\n",
    "    \n",
    "    for row in pr_data:\n",
    "        commenters += [row['commenter_id']]\n",
    "        head_authors += [row['head_commit_author_id']]\n",
    "        head_committers += [row['head_commit_committer_id']]\n",
    "        \n",
    "    commenters_set = set(commenters)\n",
    "    head_authors_set = set(head_authors)\n",
    "    head_committers_set = set(head_committers)\n",
    "    \n",
    "    # pr_owners_set = commenter_set & (head_committers_set | head_authors_set)\n",
    "    pr_owners_set = (head_committers_set.union(head_authors_set)).intersection(commenters_set)\n",
    "    \n",
    "    # pr_reviewers_set = commenters_set - pr_owners_set\n",
    "    pr_reviewers_set = (commenters_set - pr_owners_set)\n",
    "    \n",
    "    return [list(pr_owners_set), list(pr_reviewers_set)]"
   ]
  },
  {
   "cell_type": "code",
   "execution_count": 19,
   "metadata": {},
   "outputs": [],
   "source": [
    "def extract_owner_and_reviewer_set(pr_id, data):\n",
    "    \n",
    "    pr_data = []\n",
    "    for row in data:\n",
    "        pr_data += [row] if (row['pr_id'] == pr_id) else {}\n",
    "    \n",
    "    commenters = []\n",
    "    head_authors = []\n",
    "    head_committers = []\n",
    "    \n",
    "    for row in pr_data:\n",
    "        commenters += [row['commenter_id']]\n",
    "        head_authors += [row['head_commit_author_id']]\n",
    "        head_committers += [row['head_commit_committer_id']]\n",
    "        \n",
    "    commenters_set = set(commenters)\n",
    "    head_authors_set = set(head_authors)\n",
    "    head_committers_set = set(head_committers)\n",
    "    \n",
    "    # pr_owners_set = commenter_set & (head_committers_set | head_authors_set)\n",
    "    pr_owners_set = (head_committers_set.union(head_authors_set)).intersection(commenters_set)\n",
    "    \n",
    "    # pr_reviewers_set = commenters_set - pr_owners_set\n",
    "    pr_reviewers_set = (commenters_set - pr_owners_set)\n",
    "    \n",
    "    return [list(pr_owners_set), list(pr_reviewers_set)]"
   ]
  },
  {
   "cell_type": "markdown",
   "metadata": {},
   "source": [
    "### Blacklisting Pull Requests Whose Owner Set or Reviewer Set is Empty."
   ]
  },
  {
   "cell_type": "code",
   "execution_count": 20,
   "metadata": {},
   "outputs": [],
   "source": [
    "cached = True\n",
    "\n",
    "blacklists = []\n",
    "if cached == True:\n",
    "    with open('./cache/arr/blacklists.pkl', 'rb') as file:\n",
    "        blacklists = pickle.load(file)\n",
    "else:\n",
    "    for pr_id in pull_req_ids:\n",
    "        res = extract_owner_and_reviewer_set(git_pr_2_bigquery_pr[pr_id], data)\n",
    "        if len(res[0]) == 0 or len(res[1]) == 0:\n",
    "            blacklists += [pr_id]\n",
    "    with open('./cache/arr/blacklists.pkl', 'wb') as file:\n",
    "        pickle.dump(blacklists, file)"
   ]
  },
  {
   "cell_type": "code",
   "execution_count": 21,
   "metadata": {},
   "outputs": [
    {
     "data": {
      "text/plain": [
       "2634"
      ]
     },
     "execution_count": 21,
     "metadata": {},
     "output_type": "execute_result"
    }
   ],
   "source": [
    "len(blacklists)"
   ]
  },
  {
   "cell_type": "markdown",
   "metadata": {},
   "source": [
    "### Extract User's Metadata:"
   ]
  },
  {
   "cell_type": "code",
   "execution_count": 22,
   "metadata": {},
   "outputs": [],
   "source": [
    "def extract_user_metadata(user_id, data):\n",
    "    metadata = dict()\n",
    "    for row in data:\n",
    "        if row['commenter_id'] == user_id:\n",
    "            metadata.update({'username': row['commenter_username']})\n",
    "            metadata.update({'follower_count': row['commenter_follower_count']})\n",
    "            metadata.update({'total_github_commit_count': row['commenter_total_github_commit_count']})\n",
    "            metadata.update({'base_repo_commit_count': row['commenter_base_repo_commit_count']})\n",
    "    return metadata"
   ]
  },
  {
   "cell_type": "markdown",
   "metadata": {},
   "source": [
    "### Entities:"
   ]
  },
  {
   "cell_type": "code",
   "execution_count": 23,
   "metadata": {},
   "outputs": [],
   "source": [
    "cached = True\n",
    "entities = []\n",
    "\n",
    "if cached == True:\n",
    "    with open('./cache/arr/entities.pkl', 'rb') as file:\n",
    "        entities = pickle.load(file)\n",
    "else:\n",
    "    for pr_id in list(set(pull_req_ids) - set(blacklists)):\n",
    "        t = extract_owner_and_reviewer_set(git_pr_2_bigquery_pr[pr_id], data)\n",
    "        entities += t[0]\n",
    "        entities += t[1]\n",
    "    entities = list(set(entities))   \n",
    "    with open('./cache/arr/entities.pkl', 'wb') as file:\n",
    "        pickle.dump(entities, file)"
   ]
  },
  {
   "cell_type": "code",
   "execution_count": 24,
   "metadata": {},
   "outputs": [
    {
     "data": {
      "text/plain": [
       "1187"
      ]
     },
     "execution_count": 24,
     "metadata": {},
     "output_type": "execute_result"
    }
   ],
   "source": [
    "len(entities)"
   ]
  },
  {
   "cell_type": "markdown",
   "metadata": {},
   "source": [
    "### Entity Metadata:"
   ]
  },
  {
   "cell_type": "code",
   "execution_count": 25,
   "metadata": {},
   "outputs": [],
   "source": [
    "cached = True\n",
    "entity_metadata = dict()\n",
    "\n",
    "if cached == True:\n",
    "    with open('./cache/dicts/entity_metadata.pkl', 'rb') as file:\n",
    "        entity_metadata = pickle.load(file)\n",
    "else:\n",
    "    for entity in entities:\n",
    "        entity_metadata.update({entity: extract_user_metadata(entity, data)})\n",
    "    with open('./cache/dicts/entity_metadata.pkl', 'wb') as file:\n",
    "        pickle.dump(entity_metadata, file)"
   ]
  },
  {
   "cell_type": "code",
   "execution_count": 26,
   "metadata": {},
   "outputs": [
    {
     "data": {
      "text/plain": [
       "1187"
      ]
     },
     "execution_count": 26,
     "metadata": {},
     "output_type": "execute_result"
    }
   ],
   "source": [
    "len(entity_metadata.keys())"
   ]
  },
  {
   "cell_type": "markdown",
   "metadata": {},
   "source": [
    "### Get Number of Comments:"
   ]
  },
  {
   "cell_type": "code",
   "execution_count": 27,
   "metadata": {},
   "outputs": [],
   "source": [
    "def get_num_comments(owner, commenter, data):\n",
    "    comments = []\n",
    "    for row in data:\n",
    "        is_owner = (row['head_commit_author_id'] == owner) or (row['base_commit_committer_id'] == owner)\n",
    "        if (row['commenter_id'] == commenter) and is_owner:\n",
    "            comments += [row]\n",
    "    return len(comments)"
   ]
  },
  {
   "cell_type": "markdown",
   "metadata": {},
   "source": [
    "### Exporting Filepath Data to a  CSV:"
   ]
  },
  {
   "cell_type": "code",
   "execution_count": 28,
   "metadata": {},
   "outputs": [],
   "source": [
    "filechanges = dict()\n",
    "\n",
    "for pr_id in pull_request_files.keys():\n",
    "    \n",
    "    preq_json = pull_request_files[pr_id].json()\n",
    "    \n",
    "    filechanges.update({pr_id: []})\n",
    "    for f_no in range(len(preq_json)):\n",
    "        filechanges[pr_id] += [{\n",
    "            'filename': preq_json[f_no]['filename'],\n",
    "            'status': preq_json[f_no]['status'],\n",
    "            'additions': preq_json[f_no]['additions'],\n",
    "            'deletions': preq_json[f_no]['deletions'],\n",
    "            'changes': preq_json[f_no]['changes']\n",
    "        }]"
   ]
  },
  {
   "cell_type": "code",
   "execution_count": 29,
   "metadata": {},
   "outputs": [],
   "source": [
    "df = []\n",
    "\n",
    "for pr_id in filechanges.keys():\n",
    "    for i in range(len(filechanges[pr_id])):\n",
    "        df += [[\n",
    "            pr_id, \n",
    "            filechanges[pr_id][i]['filename'],\n",
    "            filechanges[pr_id][i]['status'],\n",
    "            filechanges[pr_id][i]['additions'], \n",
    "            filechanges[pr_id][i]['deletions'], \n",
    "            filechanges[pr_id][i]['changes']\n",
    "        ]]"
   ]
  },
  {
   "cell_type": "code",
   "execution_count": 30,
   "metadata": {},
   "outputs": [],
   "source": [
    "df = pd.DataFrame(df)"
   ]
  },
  {
   "cell_type": "code",
   "execution_count": 31,
   "metadata": {},
   "outputs": [],
   "source": [
    "export_df = False\n",
    "\n",
    "if export_df == True:\n",
    "    df.to_csv(\n",
    "        path_or_buf='filepath.csv', \n",
    "        header=['pr_id', 'filename', 'status', 'additions', 'deletions', 'changes'], \n",
    "        index=False\n",
    "    )"
   ]
  },
  {
   "cell_type": "markdown",
   "metadata": {},
   "source": [
    "### Scrapping Pull Request Titles:"
   ]
  },
  {
   "cell_type": "code",
   "execution_count": 32,
   "metadata": {},
   "outputs": [],
   "source": [
    "pull_request_titles = {}"
   ]
  },
  {
   "cell_type": "code",
   "execution_count": 33,
   "metadata": {},
   "outputs": [],
   "source": [
    "def fetch_pr_titles(pr_id):\n",
    "\n",
    "    global pull_request_files\n",
    "    \n",
    "    # 5000 requests/hour/token\n",
    "    headers = {'Authorization': 'token <gh-auth-token>'}\n",
    "    \n",
    "    response = requests.get(\n",
    "        url='https://api.github.com/repos/kubernetes/kubernetes/pulls/{}'.format(pr_id), \n",
    "        headers=headers\n",
    "    )\n",
    "\n",
    "    pull_request_titles.update({pr_id: response})"
   ]
  },
  {
   "cell_type": "markdown",
   "metadata": {},
   "source": [
    "### Check Remaining Requests:"
   ]
  },
  {
   "cell_type": "code",
   "execution_count": 34,
   "metadata": {},
   "outputs": [],
   "source": [
    "headers = {'Authorization': 'token <gh-auth-token>'}"
   ]
  },
  {
   "cell_type": "code",
   "execution_count": 35,
   "metadata": {},
   "outputs": [
    {
     "data": {
      "text/plain": [
       "{'resources': {'core': {'limit': 60,\n",
       "   'remaining': 60,\n",
       "   'reset': 1607130791,\n",
       "   'used': 0},\n",
       "  'graphql': {'limit': 0, 'remaining': 0, 'reset': 1607130791, 'used': 0},\n",
       "  'integration_manifest': {'limit': 5000,\n",
       "   'remaining': 5000,\n",
       "   'reset': 1607130791,\n",
       "   'used': 0},\n",
       "  'search': {'limit': 10, 'remaining': 10, 'reset': 1607127251, 'used': 0}},\n",
       " 'rate': {'limit': 60, 'remaining': 60, 'reset': 1607130791, 'used': 0}}"
      ]
     },
     "execution_count": 35,
     "metadata": {},
     "output_type": "execute_result"
    }
   ],
   "source": [
    "requests.get('https://api.github.com/rate_limit', params=headers).json()"
   ]
  },
  {
   "cell_type": "markdown",
   "metadata": {},
   "source": [
    "### Scrapping Pull Request Titles:"
   ]
  },
  {
   "cell_type": "code",
   "execution_count": 36,
   "metadata": {},
   "outputs": [],
   "source": [
    "# \n",
    "# This code is functional. But commented because we cached the data\n",
    "# so that no boring work everytime.\n",
    "# \n",
    "#\n",
    "# =============================================================\n",
    "# 0 to 4096:\n",
    "# =============================================================\n",
    "# n_threads = 64\n",
    "# counter = 0\n",
    "# for i in range(0, 4096, n_threads):\n",
    "#     thread_executor = {}\n",
    "#     \n",
    "#     # define threads:\n",
    "#     for j in range(n_threads):\n",
    "#         thread_executor.update({\n",
    "#             't_{}'.format(str(j)): threading.Thread(target=fetch_pr_titles, args=(pull_req_ids[i+j],))\n",
    "#         })\n",
    "#     \n",
    "#     # start threads:\n",
    "#     for j in range(n_threads):\n",
    "#         thread_executor['t_{}'.format(str(j))].start()\n",
    "#     \n",
    "#     # join threads:\n",
    "#     for j in range(n_threads):\n",
    "#         thread_executor['t_{}'.format(str(j))].join()\n",
    "#     \n",
    "#     counter += n_threads\n",
    "#     print('Pull Requests Processed:', counter)\n",
    "#     time.sleep(5)\n",
    "# ==============================================================\n",
    "# 4096 to 8192:\n",
    "# ==============================================================\n",
    "# \n",
    "# n_threads = 64\n",
    "# \n",
    "# counter = 4096\n",
    "# for i in range(4096, 8192, n_threads):\n",
    "#     thread_executor = {}\n",
    "#     \n",
    "#     # define threads:\n",
    "#     for j in range(n_threads):\n",
    "#         thread_executor.update({\n",
    "#             't_{}'.format(str(j)): threading.Thread(target=fetch_pr_titles, args=(pull_req_ids[i+j],))\n",
    "#         })\n",
    "#     \n",
    "#     # start threads:\n",
    "#     for j in range(n_threads):\n",
    "#         thread_executor['t_{}'.format(str(j))].start()\n",
    "#     \n",
    "#     # join threads:\n",
    "#     for j in range(n_threads):\n",
    "#         thread_executor['t_{}'.format(str(j))].join()\n",
    "#     \n",
    "#     counter += n_threads\n",
    "#     print('Pull Requests Processed:', counter)\n",
    "#     time.sleep(4)\n",
    "# \n",
    "# ==============================================================\n",
    "# 8192 to 11456:\n",
    "# ==============================================================\n",
    "#\n",
    "# n_threads = 64\n",
    "# \n",
    "# counter = 8192\n",
    "# for i in range(8192, 11456, n_threads):\n",
    "#     thread_executor = {}\n",
    "#     \n",
    "#     # define threads:\n",
    "#     for j in range(n_threads):\n",
    "#         thread_executor.update({\n",
    "#             't_{}'.format(str(j)): threading.Thread(target=fetch_pr_titles, args=(pull_req_ids[i+j],))\n",
    "#         })\n",
    "#     \n",
    "#     # start threads:\n",
    "#     for j in range(n_threads):\n",
    "#         thread_executor['t_{}'.format(str(j))].start()\n",
    "#     \n",
    "#     # join threads:\n",
    "#     for j in range(n_threads):\n",
    "#         thread_executor['t_{}'.format(str(j))].join()\n",
    "#     \n",
    "#     counter += n_threads\n",
    "#     print('Pull Requests Processed:', counter)\n",
    "#     time.sleep(4)\n",
    "# \n",
    "# for i in range(11456, 11473, 1):\n",
    "#     fetch_pr_titles(pull_req_ids[i])\n",
    "#     print(i)\n",
    "#     time.sleep(1)"
   ]
  },
  {
   "cell_type": "markdown",
   "metadata": {},
   "source": [
    "### Load PR Titles and Body:"
   ]
  },
  {
   "cell_type": "code",
   "execution_count": 37,
   "metadata": {},
   "outputs": [],
   "source": [
    "with open('./cache/dicts/req_dicts/titles/titles[0-4096].pkl', 'rb') as file:\n",
    "    temp = pickle.load(file)\n",
    "    for t in list(temp.keys()):\n",
    "        pull_request_titles.update({t: temp[t]})\n",
    "\n",
    "with open('./cache/dicts/req_dicts/titles/titles[4096-8192].pkl', 'rb') as file:\n",
    "    temp = pickle.load(file)\n",
    "    for t in list(temp.keys()):\n",
    "        pull_request_titles.update({t: temp[t]})\n",
    "    \n",
    "with open('./cache/dicts/req_dicts/titles/titles[8192-11473].pkl', 'rb') as file:\n",
    "    temp = pickle.load(file)\n",
    "    for t in list(temp.keys()):\n",
    "        pull_request_titles.update({t: temp[t]})"
   ]
  },
  {
   "cell_type": "code",
   "execution_count": 38,
   "metadata": {},
   "outputs": [
    {
     "data": {
      "text/plain": [
       "11473"
      ]
     },
     "execution_count": 38,
     "metadata": {},
     "output_type": "execute_result"
    }
   ],
   "source": [
    "len(pull_request_titles.keys())"
   ]
  },
  {
   "cell_type": "markdown",
   "metadata": {},
   "source": [
    "### Sanity Check:"
   ]
  },
  {
   "cell_type": "code",
   "execution_count": 39,
   "metadata": {},
   "outputs": [
    {
     "name": "stdout",
     "output_type": "stream",
     "text": [
      "Unsuccessful Hits: 0\n"
     ]
    }
   ],
   "source": [
    "count = 0\n",
    "unsuccessful = []\n",
    "for pr_id in list(pull_request_titles.keys()):\n",
    "    if pull_request_titles[pr_id].status_code != 200:\n",
    "        unsuccessful += [pr_id]\n",
    "        count += 1\n",
    "\n",
    "print('Unsuccessful Hits:', count)"
   ]
  },
  {
   "cell_type": "markdown",
   "metadata": {},
   "source": [
    "### Get Failed Requests:"
   ]
  },
  {
   "cell_type": "code",
   "execution_count": 40,
   "metadata": {},
   "outputs": [],
   "source": [
    "# for u in unsuccessful:\n",
    "#     fetch_pr_titles(u)"
   ]
  },
  {
   "cell_type": "markdown",
   "metadata": {},
   "source": [
    "### Extracting Titles from Request Files:"
   ]
  },
  {
   "cell_type": "code",
   "execution_count": 41,
   "metadata": {},
   "outputs": [],
   "source": [
    "pr_titles = []\n",
    "\n",
    "for pr_id in pull_req_ids:\n",
    "    t = pull_request_titles[pr_id].json()\n",
    "    pr_titles += [{\n",
    "        'pr_id': pr_id, \n",
    "        'state': t['state'],\n",
    "        'title': t['title'],\n",
    "        'body': t['body'],\n",
    "        'created_at': t['created_at'],\n",
    "        'updated_at': t['updated_at'],\n",
    "        'closed_at': t['closed_at'],\n",
    "        'merged_at': t['merged_at'],\n",
    "    }]"
   ]
  },
  {
   "cell_type": "markdown",
   "metadata": {},
   "source": [
    "### Exporting the Pull Request Titles and Body:"
   ]
  },
  {
   "cell_type": "code",
   "execution_count": 42,
   "metadata": {},
   "outputs": [],
   "source": [
    "export_df = False\n",
    "\n",
    "if export_df == True:\n",
    "    df = pd.DataFrame(data=pr_titles)\n",
    "    df.to_csv('./pull_req_titles.csv', index=False)"
   ]
  },
  {
   "cell_type": "markdown",
   "metadata": {},
   "source": [
    "### Reviewers List:"
   ]
  },
  {
   "cell_type": "code",
   "execution_count": 43,
   "metadata": {},
   "outputs": [],
   "source": [
    "cached = True\n",
    "\n",
    "reviewers = []\n",
    "if cached == True:\n",
    "    with open('./cache/arr/reviewers.pkl', 'rb') as file:\n",
    "        reviewers = pickle.load(file)\n",
    "else:\n",
    "    for pr_id in pull_req_ids:\n",
    "        reviewers += extract_owner_and_reviewer_set(git_pr_2_bigquery_pr[pr_id], data)[1]\n",
    "    reviewers = list(set(reviewers))\n",
    "    with open('./cache/arr/reviewers.pkl', 'wb') as file:\n",
    "        pickle.dump(reviewers, file)"
   ]
  },
  {
   "cell_type": "code",
   "execution_count": null,
   "metadata": {},
   "outputs": [],
   "source": []
  }
 ],
 "metadata": {
  "kernelspec": {
   "display_name": "Python 3",
   "language": "python",
   "name": "python3"
  },
  "language_info": {
   "codemirror_mode": {
    "name": "ipython",
    "version": 3
   },
   "file_extension": ".py",
   "mimetype": "text/x-python",
   "name": "python",
   "nbconvert_exporter": "python",
   "pygments_lexer": "ipython3",
   "version": "3.8.5"
  }
 },
 "nbformat": 4,
 "nbformat_minor": 4
}
