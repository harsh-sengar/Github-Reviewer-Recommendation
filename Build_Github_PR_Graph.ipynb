{
  "nbformat": 4,
  "nbformat_minor": 0,
  "metadata": {
    "colab": {
      "name": "Build_Github_PR_Graph.ipynb",
      "provenance": [],
      "authorship_tag": "ABX9TyM5H8pgY3Dej5vBPK5HxXyE",
      "include_colab_link": true
    },
    "kernelspec": {
      "name": "python3",
      "display_name": "Python 3"
    }
  },
  "cells": [
    {
      "cell_type": "markdown",
      "metadata": {
        "id": "view-in-github",
        "colab_type": "text"
      },
      "source": [
        "<a href=\"https://colab.research.google.com/github/harsh-sengar/Github-Reviewer-Recommendation/blob/master/Build_Github_PR_Graph.ipynb\" target=\"_parent\"><img src=\"https://colab.research.google.com/assets/colab-badge.svg\" alt=\"Open In Colab\"/></a>"
      ]
    },
    {
      "cell_type": "code",
      "metadata": {
        "id": "jcyYR0RelfPN"
      },
      "source": [
        "from stellargraph import StellarGraph"
      ],
      "execution_count": 3,
      "outputs": []
    }
  ]
}