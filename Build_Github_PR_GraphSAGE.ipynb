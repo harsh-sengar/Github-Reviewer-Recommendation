{
 "cells": [
  {
   "cell_type": "code",
   "execution_count": 1,
   "metadata": {},
   "outputs": [],
   "source": [
    "#!pip install chars2vec"
   ]
  },
  {
   "cell_type": "code",
   "execution_count": 2,
   "metadata": {},
   "outputs": [],
   "source": [
    "import pandas as pd\n",
    "import numpy as np\n",
    "import networkx as nx\n",
    "import tensorflow as tf\n",
    "from datetime import datetime\n",
    "from collections import Counter\n",
    "import time\n",
    "import requests\n",
    "import pickle\n",
    "import sys\n",
    "import chars2vec\n",
    "from tqdm import tqdm_notebook as tqdm\n",
    "\n",
    "import stellargraph as sg\n",
    "from stellargraph import StellarGraph\n",
    "from sklearn.preprocessing import OrdinalEncoder\n",
    "from stellargraph.data import EdgeSplitter\n",
    "from stellargraph.mapper import FullBatchLinkGenerator\n",
    "from stellargraph.layer import GCN, LinkEmbedding\n",
    "from stellargraph import globalvar\n",
    "from stellargraph import datasets\n",
    "from stellargraph.mapper import GraphSAGELinkGenerator\n",
    "from stellargraph.layer import GraphSAGE, link_classification\n",
    "from stellargraph.data import UniformRandomWalk\n",
    "from stellargraph.data import UnsupervisedSampler\n",
    "from sklearn.metrics.pairwise import cosine_similarity\n",
    "import heapq\n",
    "\n",
    "from tensorflow import keras\n",
    "from sklearn import preprocessing, feature_extraction, model_selection\n",
    "\n",
    "from IPython.display import display, HTML\n",
    "%matplotlib inline"
   ]
  },
  {
   "cell_type": "code",
   "execution_count": 3,
   "metadata": {},
   "outputs": [],
   "source": [
    "def connect_reviewer_pr_networks(graph, data):\n",
    "    pr_id_list = data['github_pr_id'].unique()\n",
    "    \n",
    "    for pr_id in pr_id_list:\n",
    "        if graph.has_node(pr_id): #remove in future \n",
    "            pr_owner_set, reviewer_set = get_pr_reviewers(pr_id, data)\n",
    "            for commenter in reviewer_set:\n",
    "                num_comments = get_num_comments(pr_id, commenter, data)\n",
    "                graph.add_edge(pr_id, commenter, weight=num_comments)\n",
    "    return graph\n",
    "\n",
    "def get_pr_reviewers(pr_id, data):\n",
    "    pr_df = data.loc[data.github_pr_id == pr_id, :]\n",
    "    commenter_set = set(pr_df.commenter_id.values)\n",
    "    head_commiter_set = set(pr_df.head_commit_committer_id.values)\n",
    "    head_author_set = set(pr_df.head_commit_author_id.values)\n",
    "    pr_owner_set = (head_author_set | head_commiter_set) & commenter_set\n",
    "    reviewer_set = commenter_set - pr_owner_set\n",
    "    return pr_owner_set, reviewer_set\n",
    "\n",
    "def get_num_comments(pr_id, commenter, data):\n",
    "    comments = data[(data['commenter_id']==commenter) & \\\n",
    "        ((data['github_pr_id']==pr_id))]\n",
    "    num_comments = len(comments)\n",
    "    return num_comments  "
   ]
  },
  {
   "cell_type": "code",
   "execution_count": 4,
   "metadata": {},
   "outputs": [],
   "source": [
    "def build_pr_graph(graph, data):\n",
    "    for pr_source in data.index:\n",
    "            similarities = {}\n",
    "            if not graph.has_node(pr_source):\n",
    "                graph.add_node(pr_source)\n",
    "            for pr_target in data.index:\n",
    "                if pr_source != pr_target:\n",
    "                    if not graph.has_node(pr_target):\n",
    "                        graph.add_node(pr_target)\n",
    "                        \n",
    "                    pr_source_feature = data.loc[pr_source,:][3].reshape(1, -1)\n",
    "                    pr_target_feature = data.loc[pr_target,:][3].reshape(1, -1)\n",
    "                    similarity = generate_cosine_similarity(pr_source_feature, pr_target_feature)\n",
    "                    similarities[pr_target] =  similarity[0][0]\n",
    "    \n",
    "            #similarities = {k: v for k, v in sorted(similarities.items(), key=lambda item: item[1], reverse=True)}\n",
    "            k = 20\n",
    "            pr_target_sorted = heapq.nlargest(k, similarities,  key = similarities.get)\n",
    "            \n",
    "            for pr_target in pr_target_sorted:\n",
    "                if not graph.has_edge(pr_source, pr_target):\n",
    "                    weight = similarities[pr_target]\n",
    "                    graph.add_edge(pr_source, pr_target, weight=weight)\n",
    "\n",
    "    return graph\n",
    "    \n",
    "def generate_cosine_similarity(pr_source, pr_target):\n",
    "    return cosine_similarity(pr_source, pr_target)\n",
    "    "
   ]
  },
  {
   "cell_type": "code",
   "execution_count": 5,
   "metadata": {},
   "outputs": [],
   "source": [
    "def build_comment_graph(graph, data):\n",
    "    pr_id_list = data['pr_id'].unique()\n",
    "    for pr_id in pr_id_list:\n",
    "        pr_owner_set, reviewer_set = get_node_ids(pr_id, data)\n",
    "\n",
    "        for pr_owner_id in pr_owner_set:\n",
    "            if not graph.has_node(pr_owner_id):\n",
    "                user_info = node_info(pr_owner_id, data)\n",
    "                graph.add_node(pr_owner_id, **user_info)\n",
    "\n",
    "            for reviewer_id in reviewer_set:\n",
    "                if not graph.has_node(reviewer_id):\n",
    "                    user_info = node_info(reviewer_id, data)\n",
    "                    graph.add_node(reviewer_id, **user_info)\n",
    "                \n",
    "                if not graph.has_edge(pr_owner_id, reviewer_id):\n",
    "                    weight = get_edge_weight(pr_owner_id, reviewer_id, data)\n",
    "                    graph.add_edge(pr_owner_id, reviewer_id, weight=weight)\n",
    "\n",
    "    return graph\n",
    "\n",
    "def get_edge_weight(pr_owner_id, reviewer_id, data):\n",
    "    df = data[(data['commenter_id']==reviewer_id) & \\\n",
    "        ((data['head_commit_author_id']==pr_owner_id) | (data['head_commit_committer_id']==pr_owner_id))]\n",
    "    \n",
    "    comment_times = df['comment_created_at'].map(convert_to_tic)\n",
    "    df['weight'] = comment_times\n",
    "    df = df.sort_values(by='weight')\n",
    "\n",
    "    decay = 0.8\n",
    "    counts = Counter()\n",
    "    for index, row in df.iterrows():\n",
    "        row['weight'] *= decay**counts[(row['pr_id'], row['commenter_id'])]\n",
    "        counts[(row['pr_id'], row['commenter_id'])] += 1\n",
    "\n",
    "    weight = df['weight'].sum()\n",
    "    return weight\n",
    "\n",
    "def get_node_ids(pr_id, data):\n",
    "    pr_df = data.loc[data.pr_id == pr_id, :]\n",
    "    commenter_set = set(pr_df.commenter_id.values)\n",
    "    head_commiter_set = set(pr_df.head_commit_committer_id.values)\n",
    "    head_author_set = set(pr_df.head_commit_author_id.values)\n",
    "    pr_owner_set = (head_author_set | head_commiter_set) & commenter_set\n",
    "    reviewer_set = commenter_set - pr_owner_set\n",
    "    return pr_owner_set, reviewer_set\n",
    "\n",
    "def create_features(info_dict):\n",
    "    features = {}\n",
    "    features[\"features\"] = list(info_dict.values())\n",
    "    return features\n",
    "    \n",
    "def node_info(target, data):\n",
    "    info_cols = ['commenter_username_enc', 'commenter_follower_count',\n",
    "                        'commenter_total_github_commit_count', 'commenter_base_repo_commit_count']\n",
    "    info_dict = data.loc[(data.commenter_id == target), info_cols].iloc[0].to_dict()\n",
    "    info_dict = create_features(info_dict)\n",
    "    return info_dict\n",
    "\n",
    "def convert_to_tic(s):\n",
    "    #Jan, 1, 2014\n",
    "    start_time = time.mktime(datetime(2014, 1, 1).timetuple())\n",
    "    #Jan, 1, 2019\n",
    "    end_time = time.mktime(datetime(2019, 1, 1).timetuple())\n",
    "    time_delta = end_time-start_time\n",
    "    return float(time.mktime(pd.to_datetime(s).timetuple()) - start_time) / time_delta"
   ]
  },
  {
   "cell_type": "code",
   "execution_count": 6,
   "metadata": {
    "nbsphinx": "hidden",
    "tags": [
     "VersionCheck"
    ]
   },
   "outputs": [],
   "source": [
    "def prepare_inputs(data):\n",
    "    oe = OrdinalEncoder()\n",
    "    oe.fit(data)\n",
    "    data_enc = oe.transform(data)\n",
    "    return data_enc"
   ]
  },
  {
   "cell_type": "code",
   "execution_count": 7,
   "metadata": {},
   "outputs": [],
   "source": [
    "c2v = chars2vec.load_model('eng_100')"
   ]
  },
  {
   "cell_type": "code",
   "execution_count": 8,
   "metadata": {},
   "outputs": [],
   "source": [
    "file_Path_data = pd.read_csv('filepath.csv')"
   ]
  },
  {
   "cell_type": "code",
   "execution_count": 9,
   "metadata": {},
   "outputs": [
    {
     "data": {
      "text/plain": [
       "(11446,)"
      ]
     },
     "execution_count": 9,
     "metadata": {},
     "output_type": "execute_result"
    }
   ],
   "source": [
    "file_Path_data['pr_id'].unique().shape"
   ]
  },
  {
   "cell_type": "code",
   "execution_count": 10,
   "metadata": {},
   "outputs": [],
   "source": [
    "filepath_df = file_Path_data"
   ]
  },
  {
   "cell_type": "code",
   "execution_count": 11,
   "metadata": {},
   "outputs": [],
   "source": [
    "pr_filepath_list = filepath_df.loc[:, 'filename'].values\n"
   ]
  },
  {
   "cell_type": "code",
   "execution_count": 12,
   "metadata": {},
   "outputs": [
    {
     "data": {
      "text/plain": [
       "(79659,)"
      ]
     },
     "execution_count": 12,
     "metadata": {},
     "output_type": "execute_result"
    }
   ],
   "source": [
    "pr_filepath_list.shape"
   ]
  },
  {
   "cell_type": "code",
   "execution_count": 13,
   "metadata": {},
   "outputs": [
    {
     "name": "stderr",
     "output_type": "stream",
     "text": [
      "/opt/anaconda3/lib/python3.7/site-packages/ipykernel_launcher.py:2: TqdmDeprecationWarning: This function will be removed in tqdm==5.0.0\n",
      "Please use `tqdm.notebook.tqdm` instead of `tqdm.tqdm_notebook`\n",
      "  \n"
     ]
    },
    {
     "data": {
      "application/vnd.jupyter.widget-view+json": {
       "model_id": "c2ebc5b69ee54c3591da84e770827954",
       "version_major": 2,
       "version_minor": 0
      },
      "text/plain": [
       "HBox(children=(FloatProgress(value=0.0, max=79659.0), HTML(value='')))"
      ]
     },
     "metadata": {},
     "output_type": "display_data"
    },
    {
     "name": "stdout",
     "output_type": "stream",
     "text": [
      "\n"
     ]
    }
   ],
   "source": [
    "filepath_vector = []\n",
    "for filepath in tqdm(pr_filepath_list):\n",
    "    components = filepath.split('/')\n",
    "    vec = c2v.vectorize_words(components)\n",
    "    filepath_vector.append(np.mean(vec, axis=0))\n"
   ]
  },
  {
   "cell_type": "code",
   "execution_count": 14,
   "metadata": {},
   "outputs": [],
   "source": [
    "file_Path_data['c2v_filepath'] = filepath_vector"
   ]
  },
  {
   "cell_type": "code",
   "execution_count": 15,
   "metadata": {},
   "outputs": [
    {
     "data": {
      "text/plain": [
       "(79659,)"
      ]
     },
     "execution_count": 15,
     "metadata": {},
     "output_type": "execute_result"
    }
   ],
   "source": [
    "file_Path_data['c2v_filepath'].shape"
   ]
  },
  {
   "cell_type": "code",
   "execution_count": 16,
   "metadata": {},
   "outputs": [
    {
     "name": "stderr",
     "output_type": "stream",
     "text": [
      "/opt/anaconda3/lib/python3.7/site-packages/ipykernel_launcher.py:1: FutureWarning: Indexing with multiple keys (implicitly converted to a tuple of keys) will be deprecated, use a list instead.\n",
      "  \"\"\"Entry point for launching an IPython kernel.\n"
     ]
    }
   ],
   "source": [
    "filepath_summary_df = pd.concat([file_Path_data.groupby('pr_id')['additions', 'changes', 'deletions'].mean(), \n",
    "                                 file_Path_data.groupby('pr_id')['c2v_filepath'].apply(lambda x: np.mean(x, axis=0)),\n",
    "                                 file_Path_data.groupby('pr_id')['filename'].count()], axis=1)\n",
    "filepath_summary_df.columns = ['average_additions', 'average_changes', 'average_deletions', 'average_c2v_filepath', 'filepath_count']\n"
   ]
  },
  {
   "cell_type": "code",
   "execution_count": 17,
   "metadata": {},
   "outputs": [],
   "source": [
    "filepath_summary_df['pr_id'] = filepath_summary_df.index"
   ]
  },
  {
   "cell_type": "code",
   "execution_count": 18,
   "metadata": {},
   "outputs": [],
   "source": [
    "filepath_summary_df = filepath_summary_df[:500]"
   ]
  },
  {
   "cell_type": "code",
   "execution_count": 19,
   "metadata": {},
   "outputs": [],
   "source": [
    "title_data = pd.read_csv('pull_req_titles.csv')\n"
   ]
  },
  {
   "cell_type": "code",
   "execution_count": 20,
   "metadata": {},
   "outputs": [],
   "source": [
    "data = pd.read_csv('kubernetes.csv')\n",
    "d = prepare_inputs(data[['commenter_username']])\n",
    "data['commenter_username_enc'] = d"
   ]
  },
  {
   "cell_type": "code",
   "execution_count": 21,
   "metadata": {},
   "outputs": [],
   "source": [
    "user_graph = nx.Graph()"
   ]
  },
  {
   "cell_type": "code",
   "execution_count": 22,
   "metadata": {},
   "outputs": [
    {
     "data": {
      "text/plain": [
       "0"
      ]
     },
     "execution_count": 22,
     "metadata": {},
     "output_type": "execute_result"
    }
   ],
   "source": [
    "len(user_graph.nodes())"
   ]
  },
  {
   "cell_type": "code",
   "execution_count": 23,
   "metadata": {},
   "outputs": [
    {
     "name": "stderr",
     "output_type": "stream",
     "text": [
      "/opt/anaconda3/lib/python3.7/site-packages/ipykernel_launcher.py:27: SettingWithCopyWarning: \n",
      "A value is trying to be set on a copy of a slice from a DataFrame.\n",
      "Try using .loc[row_indexer,col_indexer] = value instead\n",
      "\n",
      "See the caveats in the documentation: https://pandas.pydata.org/pandas-docs/stable/user_guide/indexing.html#returning-a-view-versus-a-copy\n"
     ]
    }
   ],
   "source": [
    "user_graph = build_comment_graph(user_graph, data)"
   ]
  },
  {
   "cell_type": "code",
   "execution_count": 24,
   "metadata": {},
   "outputs": [],
   "source": [
    "user_graph = build_pr_graph(user_graph, filepath_summary_df)"
   ]
  },
  {
   "cell_type": "code",
   "execution_count": 25,
   "metadata": {},
   "outputs": [],
   "source": [
    "user_graph = connect_reviewer_pr_networks(user_graph, data)"
   ]
  },
  {
   "cell_type": "code",
   "execution_count": 26,
   "metadata": {},
   "outputs": [
    {
     "data": {
      "text/plain": [
       "4"
      ]
     },
     "execution_count": 26,
     "metadata": {},
     "output_type": "execute_result"
    }
   ],
   "source": [
    "nx.number_connected_components(user_graph)"
   ]
  },
  {
   "cell_type": "code",
   "execution_count": 27,
   "metadata": {},
   "outputs": [
    {
     "data": {
      "text/plain": [
       "1695"
      ]
     },
     "execution_count": 27,
     "metadata": {},
     "output_type": "execute_result"
    }
   ],
   "source": [
    "len(user_graph.nodes())"
   ]
  },
  {
   "cell_type": "code",
   "execution_count": 28,
   "metadata": {},
   "outputs": [
    {
     "data": {
      "text/plain": [
       "(79659, 7)"
      ]
     },
     "execution_count": 28,
     "metadata": {},
     "output_type": "execute_result"
    }
   ],
   "source": [
    "file_Path_data.shape"
   ]
  },
  {
   "cell_type": "code",
   "execution_count": 29,
   "metadata": {},
   "outputs": [
    {
     "data": {
      "text/html": [
       "<div>\n",
       "<style scoped>\n",
       "    .dataframe tbody tr th:only-of-type {\n",
       "        vertical-align: middle;\n",
       "    }\n",
       "\n",
       "    .dataframe tbody tr th {\n",
       "        vertical-align: top;\n",
       "    }\n",
       "\n",
       "    .dataframe thead th {\n",
       "        text-align: right;\n",
       "    }\n",
       "</style>\n",
       "<table border=\"1\" class=\"dataframe\">\n",
       "  <thead>\n",
       "    <tr style=\"text-align: right;\">\n",
       "      <th></th>\n",
       "      <th>pr_id</th>\n",
       "      <th>filename</th>\n",
       "      <th>status</th>\n",
       "      <th>additions</th>\n",
       "      <th>deletions</th>\n",
       "      <th>changes</th>\n",
       "      <th>c2v_filepath</th>\n",
       "    </tr>\n",
       "  </thead>\n",
       "  <tbody>\n",
       "    <tr>\n",
       "      <th>0</th>\n",
       "      <td>32877</td>\n",
       "      <td>pkg/client/cache/listers.go</td>\n",
       "      <td>modified</td>\n",
       "      <td>40</td>\n",
       "      <td>77</td>\n",
       "      <td>117</td>\n",
       "      <td>[-0.42842022, 0.083570264, 0.008343253, 0.2028...</td>\n",
       "    </tr>\n",
       "    <tr>\n",
       "      <th>1</th>\n",
       "      <td>32877</td>\n",
       "      <td>pkg/client/cache/listers_core.go</td>\n",
       "      <td>added</td>\n",
       "      <td>73</td>\n",
       "      <td>0</td>\n",
       "      <td>73</td>\n",
       "      <td>[-0.4681827, 0.078092545, 0.06197937, 0.131897...</td>\n",
       "    </tr>\n",
       "    <tr>\n",
       "      <th>2</th>\n",
       "      <td>32877</td>\n",
       "      <td>pkg/client/cache/listers_test.go</td>\n",
       "      <td>modified</td>\n",
       "      <td>6</td>\n",
       "      <td>11</td>\n",
       "      <td>17</td>\n",
       "      <td>[-0.44115335, 0.14644593, 0.03850603, 0.215534...</td>\n",
       "    </tr>\n",
       "    <tr>\n",
       "      <th>3</th>\n",
       "      <td>32877</td>\n",
       "      <td>pkg/controller/daemon/daemoncontroller_test.go</td>\n",
       "      <td>modified</td>\n",
       "      <td>8</td>\n",
       "      <td>8</td>\n",
       "      <td>16</td>\n",
       "      <td>[-0.46718073, 0.26952314, 0.058654647, 0.13325...</td>\n",
       "    </tr>\n",
       "    <tr>\n",
       "      <th>4</th>\n",
       "      <td>32877</td>\n",
       "      <td>pkg/controller/replicaset/replica_set_test.go</td>\n",
       "      <td>modified</td>\n",
       "      <td>1</td>\n",
       "      <td>1</td>\n",
       "      <td>2</td>\n",
       "      <td>[-0.5664375, 0.4543168, 0.07272254, 0.43974006...</td>\n",
       "    </tr>\n",
       "    <tr>\n",
       "      <th>...</th>\n",
       "      <td>...</td>\n",
       "      <td>...</td>\n",
       "      <td>...</td>\n",
       "      <td>...</td>\n",
       "      <td>...</td>\n",
       "      <td>...</td>\n",
       "      <td>...</td>\n",
       "    </tr>\n",
       "    <tr>\n",
       "      <th>79654</th>\n",
       "      <td>32752</td>\n",
       "      <td>pkg/kubectl/cmd/logs.go</td>\n",
       "      <td>modified</td>\n",
       "      <td>57</td>\n",
       "      <td>17</td>\n",
       "      <td>74</td>\n",
       "      <td>[-0.15787254, 0.055403445, 0.006343484, 0.0178...</td>\n",
       "    </tr>\n",
       "    <tr>\n",
       "      <th>79655</th>\n",
       "      <td>32754</td>\n",
       "      <td>hack/update_owners.py</td>\n",
       "      <td>modified</td>\n",
       "      <td>1</td>\n",
       "      <td>1</td>\n",
       "      <td>2</td>\n",
       "      <td>[-0.3212639, 0.07657261, -0.1121962, 0.0659815...</td>\n",
       "    </tr>\n",
       "    <tr>\n",
       "      <th>79656</th>\n",
       "      <td>32754</td>\n",
       "      <td>test/test_owners.csv</td>\n",
       "      <td>modified</td>\n",
       "      <td>63</td>\n",
       "      <td>0</td>\n",
       "      <td>63</td>\n",
       "      <td>[-0.050589155, -0.039017133, 0.048204184, 0.35...</td>\n",
       "    </tr>\n",
       "    <tr>\n",
       "      <th>79657</th>\n",
       "      <td>32760</td>\n",
       "      <td>pkg/kubelet/dockertools/docker_manager.go</td>\n",
       "      <td>modified</td>\n",
       "      <td>6</td>\n",
       "      <td>8</td>\n",
       "      <td>14</td>\n",
       "      <td>[-0.25203955, 0.082918815, 0.03237377, 0.33317...</td>\n",
       "    </tr>\n",
       "    <tr>\n",
       "      <th>79658</th>\n",
       "      <td>32767</td>\n",
       "      <td>pkg/kubelet/kubelet_pods.go</td>\n",
       "      <td>modified</td>\n",
       "      <td>16</td>\n",
       "      <td>8</td>\n",
       "      <td>24</td>\n",
       "      <td>[-0.069645084, 0.2246999, 0.08063886, 0.345877...</td>\n",
       "    </tr>\n",
       "  </tbody>\n",
       "</table>\n",
       "<p>79659 rows × 7 columns</p>\n",
       "</div>"
      ],
      "text/plain": [
       "       pr_id                                        filename    status  \\\n",
       "0      32877                     pkg/client/cache/listers.go  modified   \n",
       "1      32877                pkg/client/cache/listers_core.go     added   \n",
       "2      32877                pkg/client/cache/listers_test.go  modified   \n",
       "3      32877  pkg/controller/daemon/daemoncontroller_test.go  modified   \n",
       "4      32877   pkg/controller/replicaset/replica_set_test.go  modified   \n",
       "...      ...                                             ...       ...   \n",
       "79654  32752                         pkg/kubectl/cmd/logs.go  modified   \n",
       "79655  32754                           hack/update_owners.py  modified   \n",
       "79656  32754                            test/test_owners.csv  modified   \n",
       "79657  32760       pkg/kubelet/dockertools/docker_manager.go  modified   \n",
       "79658  32767                     pkg/kubelet/kubelet_pods.go  modified   \n",
       "\n",
       "       additions  deletions  changes  \\\n",
       "0             40         77      117   \n",
       "1             73          0       73   \n",
       "2              6         11       17   \n",
       "3              8          8       16   \n",
       "4              1          1        2   \n",
       "...          ...        ...      ...   \n",
       "79654         57         17       74   \n",
       "79655          1          1        2   \n",
       "79656         63          0       63   \n",
       "79657          6          8       14   \n",
       "79658         16          8       24   \n",
       "\n",
       "                                            c2v_filepath  \n",
       "0      [-0.42842022, 0.083570264, 0.008343253, 0.2028...  \n",
       "1      [-0.4681827, 0.078092545, 0.06197937, 0.131897...  \n",
       "2      [-0.44115335, 0.14644593, 0.03850603, 0.215534...  \n",
       "3      [-0.46718073, 0.26952314, 0.058654647, 0.13325...  \n",
       "4      [-0.5664375, 0.4543168, 0.07272254, 0.43974006...  \n",
       "...                                                  ...  \n",
       "79654  [-0.15787254, 0.055403445, 0.006343484, 0.0178...  \n",
       "79655  [-0.3212639, 0.07657261, -0.1121962, 0.0659815...  \n",
       "79656  [-0.050589155, -0.039017133, 0.048204184, 0.35...  \n",
       "79657  [-0.25203955, 0.082918815, 0.03237377, 0.33317...  \n",
       "79658  [-0.069645084, 0.2246999, 0.08063886, 0.345877...  \n",
       "\n",
       "[79659 rows x 7 columns]"
      ]
     },
     "execution_count": 29,
     "metadata": {},
     "output_type": "execute_result"
    }
   ],
   "source": [
    "file_Path_data"
   ]
  },
  {
   "cell_type": "code",
   "execution_count": null,
   "metadata": {},
   "outputs": [],
   "source": []
  },
  {
   "cell_type": "code",
   "execution_count": 30,
   "metadata": {},
   "outputs": [
    {
     "data": {
      "text/html": [
       "<div>\n",
       "<style scoped>\n",
       "    .dataframe tbody tr th:only-of-type {\n",
       "        vertical-align: middle;\n",
       "    }\n",
       "\n",
       "    .dataframe tbody tr th {\n",
       "        vertical-align: top;\n",
       "    }\n",
       "\n",
       "    .dataframe thead th {\n",
       "        text-align: right;\n",
       "    }\n",
       "</style>\n",
       "<table border=\"1\" class=\"dataframe\">\n",
       "  <thead>\n",
       "    <tr style=\"text-align: right;\">\n",
       "      <th></th>\n",
       "      <th>pr_id</th>\n",
       "      <th>filename</th>\n",
       "      <th>status</th>\n",
       "      <th>additions</th>\n",
       "      <th>deletions</th>\n",
       "      <th>changes</th>\n",
       "      <th>c2v_filepath</th>\n",
       "    </tr>\n",
       "  </thead>\n",
       "  <tbody>\n",
       "    <tr>\n",
       "      <th>0</th>\n",
       "      <td>32877</td>\n",
       "      <td>pkg/client/cache/listers.go</td>\n",
       "      <td>modified</td>\n",
       "      <td>40</td>\n",
       "      <td>77</td>\n",
       "      <td>117</td>\n",
       "      <td>[-0.42842022, 0.083570264, 0.008343253, 0.2028...</td>\n",
       "    </tr>\n",
       "    <tr>\n",
       "      <th>1</th>\n",
       "      <td>32877</td>\n",
       "      <td>pkg/client/cache/listers_core.go</td>\n",
       "      <td>added</td>\n",
       "      <td>73</td>\n",
       "      <td>0</td>\n",
       "      <td>73</td>\n",
       "      <td>[-0.4681827, 0.078092545, 0.06197937, 0.131897...</td>\n",
       "    </tr>\n",
       "    <tr>\n",
       "      <th>2</th>\n",
       "      <td>32877</td>\n",
       "      <td>pkg/client/cache/listers_test.go</td>\n",
       "      <td>modified</td>\n",
       "      <td>6</td>\n",
       "      <td>11</td>\n",
       "      <td>17</td>\n",
       "      <td>[-0.44115335, 0.14644593, 0.03850603, 0.215534...</td>\n",
       "    </tr>\n",
       "    <tr>\n",
       "      <th>3</th>\n",
       "      <td>32877</td>\n",
       "      <td>pkg/controller/daemon/daemoncontroller_test.go</td>\n",
       "      <td>modified</td>\n",
       "      <td>8</td>\n",
       "      <td>8</td>\n",
       "      <td>16</td>\n",
       "      <td>[-0.46718073, 0.26952314, 0.058654647, 0.13325...</td>\n",
       "    </tr>\n",
       "    <tr>\n",
       "      <th>4</th>\n",
       "      <td>32877</td>\n",
       "      <td>pkg/controller/replicaset/replica_set_test.go</td>\n",
       "      <td>modified</td>\n",
       "      <td>1</td>\n",
       "      <td>1</td>\n",
       "      <td>2</td>\n",
       "      <td>[-0.5664375, 0.4543168, 0.07272254, 0.43974006...</td>\n",
       "    </tr>\n",
       "    <tr>\n",
       "      <th>...</th>\n",
       "      <td>...</td>\n",
       "      <td>...</td>\n",
       "      <td>...</td>\n",
       "      <td>...</td>\n",
       "      <td>...</td>\n",
       "      <td>...</td>\n",
       "      <td>...</td>\n",
       "    </tr>\n",
       "    <tr>\n",
       "      <th>79654</th>\n",
       "      <td>32752</td>\n",
       "      <td>pkg/kubectl/cmd/logs.go</td>\n",
       "      <td>modified</td>\n",
       "      <td>57</td>\n",
       "      <td>17</td>\n",
       "      <td>74</td>\n",
       "      <td>[-0.15787254, 0.055403445, 0.006343484, 0.0178...</td>\n",
       "    </tr>\n",
       "    <tr>\n",
       "      <th>79655</th>\n",
       "      <td>32754</td>\n",
       "      <td>hack/update_owners.py</td>\n",
       "      <td>modified</td>\n",
       "      <td>1</td>\n",
       "      <td>1</td>\n",
       "      <td>2</td>\n",
       "      <td>[-0.3212639, 0.07657261, -0.1121962, 0.0659815...</td>\n",
       "    </tr>\n",
       "    <tr>\n",
       "      <th>79656</th>\n",
       "      <td>32754</td>\n",
       "      <td>test/test_owners.csv</td>\n",
       "      <td>modified</td>\n",
       "      <td>63</td>\n",
       "      <td>0</td>\n",
       "      <td>63</td>\n",
       "      <td>[-0.050589155, -0.039017133, 0.048204184, 0.35...</td>\n",
       "    </tr>\n",
       "    <tr>\n",
       "      <th>79657</th>\n",
       "      <td>32760</td>\n",
       "      <td>pkg/kubelet/dockertools/docker_manager.go</td>\n",
       "      <td>modified</td>\n",
       "      <td>6</td>\n",
       "      <td>8</td>\n",
       "      <td>14</td>\n",
       "      <td>[-0.25203955, 0.082918815, 0.03237377, 0.33317...</td>\n",
       "    </tr>\n",
       "    <tr>\n",
       "      <th>79658</th>\n",
       "      <td>32767</td>\n",
       "      <td>pkg/kubelet/kubelet_pods.go</td>\n",
       "      <td>modified</td>\n",
       "      <td>16</td>\n",
       "      <td>8</td>\n",
       "      <td>24</td>\n",
       "      <td>[-0.069645084, 0.2246999, 0.08063886, 0.345877...</td>\n",
       "    </tr>\n",
       "  </tbody>\n",
       "</table>\n",
       "<p>79659 rows × 7 columns</p>\n",
       "</div>"
      ],
      "text/plain": [
       "       pr_id                                        filename    status  \\\n",
       "0      32877                     pkg/client/cache/listers.go  modified   \n",
       "1      32877                pkg/client/cache/listers_core.go     added   \n",
       "2      32877                pkg/client/cache/listers_test.go  modified   \n",
       "3      32877  pkg/controller/daemon/daemoncontroller_test.go  modified   \n",
       "4      32877   pkg/controller/replicaset/replica_set_test.go  modified   \n",
       "...      ...                                             ...       ...   \n",
       "79654  32752                         pkg/kubectl/cmd/logs.go  modified   \n",
       "79655  32754                           hack/update_owners.py  modified   \n",
       "79656  32754                            test/test_owners.csv  modified   \n",
       "79657  32760       pkg/kubelet/dockertools/docker_manager.go  modified   \n",
       "79658  32767                     pkg/kubelet/kubelet_pods.go  modified   \n",
       "\n",
       "       additions  deletions  changes  \\\n",
       "0             40         77      117   \n",
       "1             73          0       73   \n",
       "2              6         11       17   \n",
       "3              8          8       16   \n",
       "4              1          1        2   \n",
       "...          ...        ...      ...   \n",
       "79654         57         17       74   \n",
       "79655          1          1        2   \n",
       "79656         63          0       63   \n",
       "79657          6          8       14   \n",
       "79658         16          8       24   \n",
       "\n",
       "                                            c2v_filepath  \n",
       "0      [-0.42842022, 0.083570264, 0.008343253, 0.2028...  \n",
       "1      [-0.4681827, 0.078092545, 0.06197937, 0.131897...  \n",
       "2      [-0.44115335, 0.14644593, 0.03850603, 0.215534...  \n",
       "3      [-0.46718073, 0.26952314, 0.058654647, 0.13325...  \n",
       "4      [-0.5664375, 0.4543168, 0.07272254, 0.43974006...  \n",
       "...                                                  ...  \n",
       "79654  [-0.15787254, 0.055403445, 0.006343484, 0.0178...  \n",
       "79655  [-0.3212639, 0.07657261, -0.1121962, 0.0659815...  \n",
       "79656  [-0.050589155, -0.039017133, 0.048204184, 0.35...  \n",
       "79657  [-0.25203955, 0.082918815, 0.03237377, 0.33317...  \n",
       "79658  [-0.069645084, 0.2246999, 0.08063886, 0.345877...  \n",
       "\n",
       "[79659 rows x 7 columns]"
      ]
     },
     "execution_count": 30,
     "metadata": {},
     "output_type": "execute_result"
    }
   ],
   "source": [
    "file_Path_data"
   ]
  },
  {
   "cell_type": "code",
   "execution_count": 31,
   "metadata": {},
   "outputs": [
    {
     "data": {
      "text/plain": [
       "array([32877, 33066, 32769, ..., 32754, 32760, 32767])"
      ]
     },
     "execution_count": 31,
     "metadata": {},
     "output_type": "execute_result"
    }
   ],
   "source": [
    "file_Path_data.pr_id.unique()"
   ]
  },
  {
   "cell_type": "code",
   "execution_count": 32,
   "metadata": {},
   "outputs": [
    {
     "data": {
      "text/plain": [
       "(11473,)"
      ]
     },
     "execution_count": 32,
     "metadata": {},
     "output_type": "execute_result"
    }
   ],
   "source": [
    "data.github_pr_id.unique().shape"
   ]
  },
  {
   "cell_type": "code",
   "execution_count": null,
   "metadata": {},
   "outputs": [],
   "source": []
  },
  {
   "cell_type": "code",
   "execution_count": null,
   "metadata": {},
   "outputs": [],
   "source": []
  },
  {
   "cell_type": "code",
   "execution_count": null,
   "metadata": {},
   "outputs": [],
   "source": []
  },
  {
   "cell_type": "code",
   "execution_count": null,
   "metadata": {},
   "outputs": [],
   "source": []
  },
  {
   "cell_type": "code",
   "execution_count": null,
   "metadata": {},
   "outputs": [],
   "source": []
  },
  {
   "cell_type": "code",
   "execution_count": null,
   "metadata": {},
   "outputs": [],
   "source": []
  },
  {
   "cell_type": "code",
   "execution_count": null,
   "metadata": {},
   "outputs": [],
   "source": []
  },
  {
   "cell_type": "code",
   "execution_count": null,
   "metadata": {},
   "outputs": [],
   "source": []
  },
  {
   "cell_type": "code",
   "execution_count": null,
   "metadata": {},
   "outputs": [],
   "source": []
  },
  {
   "cell_type": "code",
   "execution_count": null,
   "metadata": {},
   "outputs": [],
   "source": []
  },
  {
   "cell_type": "code",
   "execution_count": null,
   "metadata": {},
   "outputs": [],
   "source": []
  },
  {
   "cell_type": "code",
   "execution_count": null,
   "metadata": {},
   "outputs": [],
   "source": []
  },
  {
   "cell_type": "code",
   "execution_count": null,
   "metadata": {},
   "outputs": [],
   "source": []
  },
  {
   "cell_type": "code",
   "execution_count": null,
   "metadata": {},
   "outputs": [],
   "source": []
  },
  {
   "cell_type": "code",
   "execution_count": 33,
   "metadata": {},
   "outputs": [
    {
     "name": "stderr",
     "output_type": "stream",
     "text": [
      "/opt/anaconda3/lib/python3.7/site-packages/ipykernel_launcher.py:1: UserWarning: found the following nodes (of type 'default') without features, using 4-dimensional zero vector: 3810, 5093, 5446, 5763, 5830, 6100, 6245, 6438, 6477, 6520, 6649, 6689, 6773, 7245, 7893, 8145, 8530, 8632, 8662, 9052, ... (486 more)\n",
      "  \"\"\"Entry point for launching an IPython kernel.\n"
     ]
    }
   ],
   "source": [
    "user_stellar = StellarGraph.from_networkx(user_graph, node_features = 'features')"
   ]
  },
  {
   "cell_type": "code",
   "execution_count": 34,
   "metadata": {},
   "outputs": [
    {
     "name": "stdout",
     "output_type": "stream",
     "text": [
      "** Sampled 1528 positive and 1528 negative edges. **\n"
     ]
    }
   ],
   "source": [
    "edge_splitter_test = EdgeSplitter(user_stellar)\n",
    "\n",
    "G_test, edge_ids_test, edge_labels_test = edge_splitter_test.train_test_split(\n",
    "    p=0.1, method=\"global\", keep_connected=True\n",
    ")"
   ]
  },
  {
   "cell_type": "code",
   "execution_count": 35,
   "metadata": {},
   "outputs": [
    {
     "name": "stdout",
     "output_type": "stream",
     "text": [
      "** Sampled 1375 positive and 1375 negative edges. **\n"
     ]
    }
   ],
   "source": [
    "edge_splitter_train = EdgeSplitter(G_test)\n",
    "\n",
    "G_train, edge_ids_train, edge_labels_train = edge_splitter_train.train_test_split(\n",
    "    p=0.1, method=\"global\", keep_connected=True\n",
    ")"
   ]
  },
  {
   "cell_type": "code",
   "execution_count": 36,
   "metadata": {},
   "outputs": [
    {
     "name": "stdout",
     "output_type": "stream",
     "text": [
      "StellarGraph: Undirected multigraph\n",
      " Nodes: 1695, Edges: 12383\n",
      "\n",
      " Node types:\n",
      "  default: [1695]\n",
      "    Features: float32 vector, length 4\n",
      "    Edge types: default-default->default\n",
      "\n",
      " Edge types:\n",
      "    default-default->default: [12383]\n",
      "        Weights: range=[0.301925, 237.29], mean=2.99149, std=7.88495\n",
      "        Features: none\n"
     ]
    }
   ],
   "source": [
    "print(G_train.info())"
   ]
  },
  {
   "cell_type": "code",
   "execution_count": 37,
   "metadata": {},
   "outputs": [
    {
     "name": "stdout",
     "output_type": "stream",
     "text": [
      "StellarGraph: Undirected multigraph\n",
      " Nodes: 1695, Edges: 13758\n",
      "\n",
      " Node types:\n",
      "  default: [1695]\n",
      "    Features: float32 vector, length 4\n",
      "    Edge types: default-default->default\n",
      "\n",
      " Edge types:\n",
      "    default-default->default: [13758]\n",
      "        Weights: range=[0.301925, 237.29], mean=3.04105, std=7.96558\n",
      "        Features: none\n"
     ]
    }
   ],
   "source": [
    "print(G_test.info())"
   ]
  },
  {
   "cell_type": "code",
   "execution_count": 38,
   "metadata": {
    "tags": [
     "parameters"
    ]
   },
   "outputs": [],
   "source": [
    "batch_size = 20\n",
    "epochs = 12"
   ]
  },
  {
   "cell_type": "code",
   "execution_count": 39,
   "metadata": {},
   "outputs": [],
   "source": [
    "num_samples = [20, 10]"
   ]
  },
  {
   "cell_type": "code",
   "execution_count": 40,
   "metadata": {},
   "outputs": [],
   "source": [
    "train_gen = GraphSAGELinkGenerator(G_train, batch_size, num_samples)\n",
    "train_flow = train_gen.flow(edge_ids_train, edge_labels_train, shuffle=True)"
   ]
  },
  {
   "cell_type": "code",
   "execution_count": 41,
   "metadata": {},
   "outputs": [],
   "source": [
    "test_gen = GraphSAGELinkGenerator(G_test, batch_size, num_samples)\n",
    "test_flow = test_gen.flow(edge_ids_test, edge_labels_test)"
   ]
  },
  {
   "cell_type": "code",
   "execution_count": 42,
   "metadata": {},
   "outputs": [],
   "source": [
    "layer_sizes = [20, 20]\n",
    "graphsage = GraphSAGE(\n",
    "    layer_sizes=layer_sizes, generator=train_gen, bias=True, dropout=0.3\n",
    ")"
   ]
  },
  {
   "cell_type": "code",
   "execution_count": 43,
   "metadata": {},
   "outputs": [],
   "source": [
    "x_inp, x_out = graphsage.in_out_tensors()"
   ]
  },
  {
   "cell_type": "code",
   "execution_count": 44,
   "metadata": {},
   "outputs": [
    {
     "name": "stdout",
     "output_type": "stream",
     "text": [
      "link_classification: using 'ip' method to combine node embeddings into edge embeddings\n"
     ]
    }
   ],
   "source": [
    "prediction = link_classification(\n",
    "    output_dim=1, output_act=\"relu\", edge_embedding_method=\"ip\"\n",
    ")(x_out)"
   ]
  },
  {
   "cell_type": "code",
   "execution_count": 45,
   "metadata": {},
   "outputs": [],
   "source": [
    "model = keras.Model(inputs=x_inp, outputs=prediction)\n",
    "\n",
    "model.compile(\n",
    "    optimizer=keras.optimizers.Adam(lr=1e-3),\n",
    "    loss=keras.losses.binary_crossentropy,\n",
    "    metrics=[\"acc\"],\n",
    ")"
   ]
  },
  {
   "cell_type": "code",
   "execution_count": 46,
   "metadata": {},
   "outputs": [
    {
     "name": "stdout",
     "output_type": "stream",
     "text": [
      "138/138 [==============================] - 4s 26ms/step - loss: 1.1629 - acc: 0.5284\n",
      "153/153 [==============================] - 4s 26ms/step - loss: 1.1728 - acc: 0.5151\n",
      "\n",
      "Train Set Metrics of the initial (untrained) model:\n",
      "\tloss: 1.1629\n",
      "\tacc: 0.5284\n",
      "\n",
      "Test Set Metrics of the initial (untrained) model:\n",
      "\tloss: 1.1728\n",
      "\tacc: 0.5151\n"
     ]
    }
   ],
   "source": [
    "init_train_metrics = model.evaluate(train_flow)\n",
    "init_test_metrics = model.evaluate(test_flow)\n",
    "\n",
    "print(\"\\nTrain Set Metrics of the initial (untrained) model:\")\n",
    "for name, val in zip(model.metrics_names, init_train_metrics):\n",
    "    print(\"\\t{}: {:0.4f}\".format(name, val))\n",
    "\n",
    "print(\"\\nTest Set Metrics of the initial (untrained) model:\")\n",
    "for name, val in zip(model.metrics_names, init_test_metrics):\n",
    "    print(\"\\t{}: {:0.4f}\".format(name, val))"
   ]
  },
  {
   "cell_type": "markdown",
   "metadata": {},
   "source": [
    "Train the model:"
   ]
  },
  {
   "cell_type": "code",
   "execution_count": 47,
   "metadata": {},
   "outputs": [
    {
     "name": "stdout",
     "output_type": "stream",
     "text": [
      "Epoch 1/12\n",
      "138/138 - 7s - loss: 0.8905 - acc: 0.5211 - val_loss: 1.1430 - val_acc: 0.5180\n",
      "Epoch 2/12\n",
      "138/138 - 7s - loss: 0.7846 - acc: 0.5396 - val_loss: 1.0649 - val_acc: 0.5216\n",
      "Epoch 3/12\n",
      "138/138 - 7s - loss: 0.7973 - acc: 0.5542 - val_loss: 1.1283 - val_acc: 0.5141\n",
      "Epoch 4/12\n",
      "138/138 - 7s - loss: 0.8034 - acc: 0.5451 - val_loss: 1.0931 - val_acc: 0.5275\n",
      "Epoch 5/12\n",
      "138/138 - 6s - loss: 0.7720 - acc: 0.5560 - val_loss: 1.0395 - val_acc: 0.5259\n",
      "Epoch 6/12\n",
      "138/138 - 6s - loss: 0.7693 - acc: 0.5691 - val_loss: 1.0819 - val_acc: 0.5219\n",
      "Epoch 7/12\n",
      "138/138 - 6s - loss: 0.7596 - acc: 0.5745 - val_loss: 1.0211 - val_acc: 0.5249\n",
      "Epoch 8/12\n",
      "138/138 - 6s - loss: 0.7529 - acc: 0.5920 - val_loss: 0.9866 - val_acc: 0.5330\n",
      "Epoch 9/12\n",
      "138/138 - 6s - loss: 0.6970 - acc: 0.6004 - val_loss: 0.9891 - val_acc: 0.5265\n",
      "Epoch 10/12\n",
      "138/138 - 6s - loss: 0.7277 - acc: 0.5949 - val_loss: 0.9861 - val_acc: 0.5353\n",
      "Epoch 11/12\n",
      "138/138 - 6s - loss: 0.7376 - acc: 0.6076 - val_loss: 0.9289 - val_acc: 0.5452\n",
      "Epoch 12/12\n",
      "138/138 - 6s - loss: 0.7320 - acc: 0.6091 - val_loss: 0.9486 - val_acc: 0.5471\n"
     ]
    }
   ],
   "source": [
    "history = model.fit(train_flow, epochs=epochs, validation_data=test_flow, verbose=2)"
   ]
  },
  {
   "cell_type": "markdown",
   "metadata": {},
   "source": [
    "Plot the training history:"
   ]
  },
  {
   "cell_type": "code",
   "execution_count": 48,
   "metadata": {},
   "outputs": [
    {
     "data": {
      "image/png": "[encoded data removed]",
      "text/plain": [
       "<Figure size 504x576 with 2 Axes>"
      ]
     },
     "metadata": {
      "needs_background": "light"
     },
     "output_type": "display_data"
    }
   ],
   "source": [
    "sg.utils.plot_history(history)"
   ]
  },
  {
   "cell_type": "markdown",
   "metadata": {},
   "source": [
    "Evaluate the trained model on test citation links:"
   ]
  },
  {
   "cell_type": "code",
   "execution_count": 49,
   "metadata": {},
   "outputs": [
    {
     "name": "stdout",
     "output_type": "stream",
     "text": [
      "138/138 [==============================] - 3s 22ms/step - loss: 0.9265 - acc: 0.5509\n",
      "153/153 [==============================] - 3s 23ms/step - loss: 0.9301 - acc: 0.5514\n",
      "\n",
      "Train Set Metrics of the trained model:\n",
      "\tloss: 0.9265\n",
      "\tacc: 0.5509\n",
      "\n",
      "Test Set Metrics of the trained model:\n",
      "\tloss: 0.9301\n",
      "\tacc: 0.5514\n"
     ]
    }
   ],
   "source": [
    "train_metrics = model.evaluate(train_flow)\n",
    "test_metrics = model.evaluate(test_flow)\n",
    "\n",
    "print(\"\\nTrain Set Metrics of the trained model:\")\n",
    "for name, val in zip(model.metrics_names, train_metrics):\n",
    "    print(\"\\t{}: {:0.4f}\".format(name, val))\n",
    "\n",
    "print(\"\\nTest Set Metrics of the trained model:\")\n",
    "for name, val in zip(model.metrics_names, test_metrics):\n",
    "    print(\"\\t{}: {:0.4f}\".format(name, val))"
   ]
  },
  {
   "cell_type": "code",
   "execution_count": null,
   "metadata": {},
   "outputs": [],
   "source": []
  },
  {
   "cell_type": "code",
   "execution_count": null,
   "metadata": {},
   "outputs": [],
   "source": []
  },
  {
   "cell_type": "code",
   "execution_count": null,
   "metadata": {},
   "outputs": [],
   "source": []
  },
  {
   "cell_type": "code",
   "execution_count": null,
   "metadata": {},
   "outputs": [],
   "source": []
  }
 ],
 "metadata": {
  "file_extension": ".py",
  "kernelspec": {
   "display_name": "Python 3",
   "language": "python",
   "name": "python3"
  },
  "language_info": {
   "codemirror_mode": {
    "name": "ipython",
    "version": 3
   },
   "file_extension": ".py",
   "mimetype": "text/x-python",
   "name": "python",
   "nbconvert_exporter": "python",
   "pygments_lexer": "ipython3",
   "version": "3.7.6"
  },
  "mimetype": "text/x-python",
  "name": "python",
  "npconvert_exporter": "python",
  "pygments_lexer": "ipython3",
  "version": 3
 },
 "nbformat": 4,
 "nbformat_minor": 4
}
