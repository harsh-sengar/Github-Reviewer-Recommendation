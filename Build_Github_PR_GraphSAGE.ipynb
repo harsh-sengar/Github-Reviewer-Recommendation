{
 "cells": [
  {
   "cell_type": "code",
   "execution_count": 47,
   "metadata": {},
   "outputs": [],
   "source": [
    "import pandas as pd\n",
    "import numpy as np\n",
    "import networkx as nx\n",
    "from datetime import datetime\n",
    "from collections import Counter\n",
    "import time\n",
    "\n",
    "import stellargraph as sg\n",
    "from stellargraph import StellarGraph\n",
    "from sklearn.preprocessing import OrdinalEncoder\n",
    "from stellargraph.data import EdgeSplitter\n",
    "from stellargraph.mapper import FullBatchLinkGenerator\n",
    "from stellargraph.layer import GCN, LinkEmbedding\n",
    "from stellargraph import globalvar\n",
    "from stellargraph import datasets\n",
    "from stellargraph.mapper import GraphSAGELinkGenerator\n",
    "from stellargraph.layer import GraphSAGE, link_classification\n",
    "from stellargraph.data import UniformRandomWalk\n",
    "from stellargraph.data import UnsupervisedSampler\n",
    "\n",
    "from tensorflow import keras\n",
    "from sklearn import preprocessing, feature_extraction, model_selection\n",
    "\n",
    "from IPython.display import display, HTML\n",
    "%matplotlib inline"
   ]
  },
  {
   "cell_type": "code",
   "execution_count": 48,
   "metadata": {
    "nbsphinx": "hidden",
    "tags": [
     "CloudRunner"
    ]
   },
   "outputs": [],
   "source": [
    "def build_graph(graph,data):\n",
    "    pr_id_list = data['pr_id'].unique()\n",
    "    for pr_id in pr_id_list:\n",
    "        pr_owner_set, reviewer_set = get_node_ids(pr_id, data)\n",
    "\n",
    "        for pr_owner_id in pr_owner_set:\n",
    "            if not graph.has_node(pr_owner_id):\n",
    "                user_info = node_info(pr_owner_id, data)\n",
    "                graph.add_node(pr_owner_id, **user_info)\n",
    "\n",
    "            for reviewer_id in reviewer_set:\n",
    "                if not graph.has_node(reviewer_id):\n",
    "                    user_info = node_info(reviewer_id, data)\n",
    "                    graph.add_node(reviewer_id, **user_info)\n",
    "                \n",
    "                if not graph.has_edge(pr_owner_id, reviewer_id):\n",
    "                    weight = get_edge_weight(pr_owner_id, reviewer_id, data)\n",
    "                    graph.add_edge(pr_owner_id, reviewer_id, weight=weight)\n",
    "\n",
    "    return graph\n",
    "\n",
    "def get_edge_weight(pr_owner_id, reviewer_id, data):\n",
    "    df = data[(data['commenter_id']==reviewer_id) & \\\n",
    "        ((data['head_commit_author_id']==pr_owner_id) | (data['head_commit_committer_id']==pr_owner_id))]\n",
    "    \n",
    "    comment_times = df['comment_created_at'].map(convert_to_tic)\n",
    "    df['weight'] = comment_times\n",
    "    df = df.sort_values(by='weight')\n",
    "\n",
    "    decay = 0.8\n",
    "    counts = Counter()\n",
    "    for index, row in df.iterrows():\n",
    "        row['weight'] *= decay**counts[(row['pr_id'], row['commenter_id'])]\n",
    "        counts[(row['pr_id'], row['commenter_id'])] += 1\n",
    "\n",
    "    weight = df['weight'].sum()\n",
    "    return weight\n",
    "\n",
    "def get_node_ids(pr_id, data):\n",
    "    pr_df = data.loc[data.pr_id == pr_id, :]\n",
    "    commenter_set = set(pr_df.commenter_id.values)\n",
    "    head_commiter_set = set(pr_df.head_commit_committer_id.values)\n",
    "    head_author_set = set(pr_df.head_commit_author_id.values)\n",
    "    pr_owner_set = (head_author_set | head_commiter_set) & commenter_set\n",
    "    reviewer_set = commenter_set - pr_owner_set\n",
    "    return pr_owner_set, reviewer_set\n",
    "\n",
    "def create_features(info_dict):\n",
    "    features = {}\n",
    "    features[\"features\"] = list(info_dict.values())\n",
    "    return features\n",
    "    \n",
    "def node_info(target, data):\n",
    "    info_cols = ['commenter_username_enc', 'commenter_follower_count',\n",
    "                        'commenter_total_github_commit_count', 'commenter_base_repo_commit_count']\n",
    "    info_dict = data.loc[(data.commenter_id == target), info_cols].iloc[0].to_dict()\n",
    "    info_dict = create_features(info_dict)\n",
    "    return info_dict\n",
    "\n",
    "def convert_to_tic(s):\n",
    "    #Jan, 1, 2014\n",
    "    start_time = time.mktime(datetime(2014, 1, 1).timetuple())\n",
    "    #Jan, 1, 2019\n",
    "    end_time = time.mktime(datetime(2019, 1, 1).timetuple())\n",
    "    time_delta = end_time-start_time\n",
    "    return float(time.mktime(pd.to_datetime(s).timetuple()) - start_time) / time_delta"
   ]
  },
  {
   "cell_type": "code",
   "execution_count": 49,
   "metadata": {
    "nbsphinx": "hidden",
    "tags": [
     "VersionCheck"
    ]
   },
   "outputs": [],
   "source": [
    "def prepare_inputs(data):\n",
    "    oe = OrdinalEncoder()\n",
    "    oe.fit(data)\n",
    "    data_enc = oe.transform(data)\n",
    "    return data_enc"
   ]
  },
  {
   "cell_type": "code",
   "execution_count": 50,
   "metadata": {},
   "outputs": [
    {
     "name": "stderr",
     "output_type": "stream",
     "text": [
      "/opt/anaconda3/lib/python3.7/site-packages/ipykernel_launcher.py:27: SettingWithCopyWarning: \n",
      "A value is trying to be set on a copy of a slice from a DataFrame.\n",
      "Try using .loc[row_indexer,col_indexer] = value instead\n",
      "\n",
      "See the caveats in the documentation: https://pandas.pydata.org/pandas-docs/stable/user_guide/indexing.html#returning-a-view-versus-a-copy\n"
     ]
    }
   ],
   "source": [
    "user_graph = nx.Graph()\n",
    "data = pd.read_csv('pr_comments_with_commenter_stat.csv')\n",
    "d = prepare_inputs(data[['commenter_username']])\n",
    "data['commenter_username_enc'] = d\n",
    "user_graph = build_graph(user_graph, data)"
   ]
  },
  {
   "cell_type": "code",
   "execution_count": 51,
   "metadata": {},
   "outputs": [],
   "source": [
    "user_stellar = StellarGraph.from_networkx(user_graph, node_features = 'features')"
   ]
  },
  {
   "cell_type": "code",
   "execution_count": 52,
   "metadata": {},
   "outputs": [
    {
     "name": "stdout",
     "output_type": "stream",
     "text": [
      "** Sampled 465 positive and 465 negative edges. **\n"
     ]
    }
   ],
   "source": [
    "edge_splitter_test = EdgeSplitter(user_stellar)\n",
    "\n",
    "G_test, edge_ids_test, edge_labels_test = edge_splitter_test.train_test_split(\n",
    "    p=0.1, method=\"global\", keep_connected=True\n",
    ")"
   ]
  },
  {
   "cell_type": "code",
   "execution_count": 53,
   "metadata": {},
   "outputs": [
    {
     "name": "stdout",
     "output_type": "stream",
     "text": [
      "** Sampled 419 positive and 419 negative edges. **\n"
     ]
    }
   ],
   "source": [
    "edge_splitter_train = EdgeSplitter(G_test)\n",
    "\n",
    "G_train, edge_ids_train, edge_labels_train = edge_splitter_train.train_test_split(\n",
    "    p=0.1, method=\"global\", keep_connected=True\n",
    ")"
   ]
  },
  {
   "cell_type": "code",
   "execution_count": 54,
   "metadata": {},
   "outputs": [
    {
     "name": "stdout",
     "output_type": "stream",
     "text": [
      "StellarGraph: Undirected multigraph\n",
      " Nodes: 1059, Edges: 3773\n",
      "\n",
      " Node types:\n",
      "  default: [1059]\n",
      "    Features: float32 vector, length 4\n",
      "    Edge types: default-default->default\n",
      "\n",
      " Edge types:\n",
      "    default-default->default: [3773]\n",
      "        Weights: range=[0.0314172, 340.128], mean=5.15914, std=14.9686\n",
      "        Features: none\n"
     ]
    }
   ],
   "source": [
    "print(G_train.info())"
   ]
  },
  {
   "cell_type": "code",
   "execution_count": 55,
   "metadata": {},
   "outputs": [
    {
     "name": "stdout",
     "output_type": "stream",
     "text": [
      "StellarGraph: Undirected multigraph\n",
      " Nodes: 1059, Edges: 4192\n",
      "\n",
      " Node types:\n",
      "  default: [1059]\n",
      "    Features: float32 vector, length 4\n",
      "    Edge types: default-default->default\n",
      "\n",
      " Edge types:\n",
      "    default-default->default: [4192]\n",
      "        Weights: range=[0.0314172, 340.128], mean=5.33759, std=14.8773\n",
      "        Features: none\n"
     ]
    }
   ],
   "source": [
    "print(G_test.info())"
   ]
  },
  {
   "cell_type": "code",
   "execution_count": 56,
   "metadata": {
    "tags": [
     "parameters"
    ]
   },
   "outputs": [],
   "source": [
    "batch_size = 20\n",
    "epochs = 20"
   ]
  },
  {
   "cell_type": "code",
   "execution_count": 57,
   "metadata": {},
   "outputs": [],
   "source": [
    "num_samples = [20, 10]"
   ]
  },
  {
   "cell_type": "code",
   "execution_count": 58,
   "metadata": {},
   "outputs": [],
   "source": [
    "train_gen = GraphSAGELinkGenerator(G_train, batch_size, num_samples)\n",
    "train_flow = train_gen.flow(edge_ids_train, edge_labels_train, shuffle=True)"
   ]
  },
  {
   "cell_type": "code",
   "execution_count": 59,
   "metadata": {},
   "outputs": [],
   "source": [
    "test_gen = GraphSAGELinkGenerator(G_test, batch_size, num_samples)\n",
    "test_flow = test_gen.flow(edge_ids_test, edge_labels_test)"
   ]
  },
  {
   "cell_type": "code",
   "execution_count": 60,
   "metadata": {},
   "outputs": [],
   "source": [
    "layer_sizes = [20, 20]\n",
    "graphsage = GraphSAGE(\n",
    "    layer_sizes=layer_sizes, generator=train_gen, bias=True, dropout=0.3\n",
    ")"
   ]
  },
  {
   "cell_type": "code",
   "execution_count": 61,
   "metadata": {},
   "outputs": [],
   "source": [
    "x_inp, x_out = graphsage.in_out_tensors()"
   ]
  },
  {
   "cell_type": "code",
   "execution_count": 62,
   "metadata": {},
   "outputs": [
    {
     "name": "stdout",
     "output_type": "stream",
     "text": [
      "link_classification: using 'ip' method to combine node embeddings into edge embeddings\n"
     ]
    }
   ],
   "source": [
    "prediction = link_classification(\n",
    "    output_dim=1, output_act=\"relu\", edge_embedding_method=\"ip\"\n",
    ")(x_out)"
   ]
  },
  {
   "cell_type": "code",
   "execution_count": 63,
   "metadata": {},
   "outputs": [],
   "source": [
    "model = keras.Model(inputs=x_inp, outputs=prediction)\n",
    "\n",
    "model.compile(\n",
    "    optimizer=keras.optimizers.Adam(lr=1e-3),\n",
    "    loss=keras.losses.binary_crossentropy,\n",
    "    metrics=[\"acc\"],\n",
    ")"
   ]
  },
  {
   "cell_type": "code",
   "execution_count": 64,
   "metadata": {},
   "outputs": [
    {
     "name": "stdout",
     "output_type": "stream",
     "text": [
      "42/42 [==============================] - 1s 24ms/step - loss: 1.1042 - acc: 0.5251\n",
      "47/47 [==============================] - 1s 23ms/step - loss: 1.1134 - acc: 0.4968\n",
      "\n",
      "Train Set Metrics of the initial (untrained) model:\n",
      "\tloss: 1.1042\n",
      "\tacc: 0.5251\n",
      "\n",
      "Test Set Metrics of the initial (untrained) model:\n",
      "\tloss: 1.1134\n",
      "\tacc: 0.4968\n"
     ]
    }
   ],
   "source": [
    "init_train_metrics = model.evaluate(train_flow)\n",
    "init_test_metrics = model.evaluate(test_flow)\n",
    "\n",
    "print(\"\\nTrain Set Metrics of the initial (untrained) model:\")\n",
    "for name, val in zip(model.metrics_names, init_train_metrics):\n",
    "    print(\"\\t{}: {:0.4f}\".format(name, val))\n",
    "\n",
    "print(\"\\nTest Set Metrics of the initial (untrained) model:\")\n",
    "for name, val in zip(model.metrics_names, init_test_metrics):\n",
    "    print(\"\\t{}: {:0.4f}\".format(name, val))"
   ]
  },
  {
   "cell_type": "markdown",
   "metadata": {},
   "source": [
    "Train the model:"
   ]
  },
  {
   "cell_type": "code",
   "execution_count": 65,
   "metadata": {},
   "outputs": [
    {
     "name": "stdout",
     "output_type": "stream",
     "text": [
      "Epoch 1/20\n",
      "42/42 - 2s - loss: 1.2925 - acc: 0.4296 - val_loss: 1.1142 - val_acc: 0.5280\n",
      "Epoch 2/20\n",
      "42/42 - 2s - loss: 0.9820 - acc: 0.4952 - val_loss: 1.0672 - val_acc: 0.5280\n",
      "Epoch 3/20\n",
      "42/42 - 2s - loss: 0.9472 - acc: 0.5203 - val_loss: 1.0540 - val_acc: 0.5258\n",
      "Epoch 4/20\n",
      "42/42 - 2s - loss: 0.9408 - acc: 0.5418 - val_loss: 0.9855 - val_acc: 0.5312\n",
      "Epoch 5/20\n",
      "42/42 - 2s - loss: 0.9361 - acc: 0.5107 - val_loss: 1.0141 - val_acc: 0.5247\n",
      "Epoch 6/20\n",
      "42/42 - 2s - loss: 0.8791 - acc: 0.5453 - val_loss: 1.0481 - val_acc: 0.5204\n",
      "Epoch 7/20\n",
      "42/42 - 2s - loss: 0.8590 - acc: 0.5286 - val_loss: 1.0118 - val_acc: 0.5226\n",
      "Epoch 8/20\n",
      "42/42 - 2s - loss: 0.7659 - acc: 0.5764 - val_loss: 0.9738 - val_acc: 0.5333\n",
      "Epoch 9/20\n",
      "42/42 - 2s - loss: 0.7659 - acc: 0.5644 - val_loss: 0.9449 - val_acc: 0.5387\n",
      "Epoch 10/20\n",
      "42/42 - 2s - loss: 0.7726 - acc: 0.5453 - val_loss: 0.9313 - val_acc: 0.5301\n",
      "Epoch 11/20\n",
      "42/42 - 2s - loss: 0.7507 - acc: 0.5513 - val_loss: 0.9071 - val_acc: 0.5484\n",
      "Epoch 12/20\n",
      "42/42 - 2s - loss: 0.7495 - acc: 0.5692 - val_loss: 0.8790 - val_acc: 0.5548\n",
      "Epoch 13/20\n",
      "42/42 - 2s - loss: 0.7300 - acc: 0.5919 - val_loss: 0.8759 - val_acc: 0.5538\n",
      "Epoch 14/20\n",
      "42/42 - 2s - loss: 0.7379 - acc: 0.5788 - val_loss: 0.8789 - val_acc: 0.5570\n",
      "Epoch 15/20\n",
      "42/42 - 2s - loss: 0.6995 - acc: 0.5967 - val_loss: 0.8682 - val_acc: 0.5602\n",
      "Epoch 16/20\n",
      "42/42 - 2s - loss: 0.6678 - acc: 0.6289 - val_loss: 0.8980 - val_acc: 0.5548\n",
      "Epoch 17/20\n",
      "42/42 - 2s - loss: 0.7182 - acc: 0.5919 - val_loss: 0.8425 - val_acc: 0.5699\n",
      "Epoch 18/20\n",
      "42/42 - 2s - loss: 0.6727 - acc: 0.6062 - val_loss: 0.8892 - val_acc: 0.5570\n",
      "Epoch 19/20\n",
      "42/42 - 2s - loss: 0.6732 - acc: 0.6038 - val_loss: 0.8460 - val_acc: 0.5774\n",
      "Epoch 20/20\n",
      "42/42 - 2s - loss: 0.6774 - acc: 0.6217 - val_loss: 0.8329 - val_acc: 0.5828\n"
     ]
    }
   ],
   "source": [
    "history = model.fit(train_flow, epochs=epochs, validation_data=test_flow, verbose=2)"
   ]
  },
  {
   "cell_type": "markdown",
   "metadata": {},
   "source": [
    "Plot the training history:"
   ]
  },
  {
   "cell_type": "code",
   "execution_count": 66,
   "metadata": {},
   "outputs": [
    {
     "data": {
      "image/png": "[encoded data removed]",
      "text/plain": [
       "<Figure size 504x576 with 2 Axes>"
      ]
     },
     "metadata": {
      "needs_background": "light"
     },
     "output_type": "display_data"
    }
   ],
   "source": [
    "sg.utils.plot_history(history)"
   ]
  },
  {
   "cell_type": "markdown",
   "metadata": {},
   "source": [
    "Evaluate the trained model on test citation links:"
   ]
  },
  {
   "cell_type": "code",
   "execution_count": 67,
   "metadata": {},
   "outputs": [
    {
     "name": "stdout",
     "output_type": "stream",
     "text": [
      "42/42 [==============================] - 1s 23ms/step - loss: 0.8094 - acc: 0.5847\n",
      "47/47 [==============================] - 1s 23ms/step - loss: 0.8392 - acc: 0.5731\n",
      "\n",
      "Train Set Metrics of the trained model:\n",
      "\tloss: 0.8094\n",
      "\tacc: 0.5847\n",
      "\n",
      "Test Set Metrics of the trained model:\n",
      "\tloss: 0.8392\n",
      "\tacc: 0.5731\n"
     ]
    }
   ],
   "source": [
    "train_metrics = model.evaluate(train_flow)\n",
    "test_metrics = model.evaluate(test_flow)\n",
    "\n",
    "print(\"\\nTrain Set Metrics of the trained model:\")\n",
    "for name, val in zip(model.metrics_names, train_metrics):\n",
    "    print(\"\\t{}: {:0.4f}\".format(name, val))\n",
    "\n",
    "print(\"\\nTest Set Metrics of the trained model:\")\n",
    "for name, val in zip(model.metrics_names, test_metrics):\n",
    "    print(\"\\t{}: {:0.4f}\".format(name, val))"
   ]
  }
 ],
 "metadata": {
  "file_extension": ".py",
  "kernelspec": {
   "display_name": "Python 3",
   "language": "python",
   "name": "python3"
  },
  "language_info": {
   "codemirror_mode": {
    "name": "ipython",
    "version": 3
   },
   "file_extension": ".py",
   "mimetype": "text/x-python",
   "name": "python",
   "nbconvert_exporter": "python",
   "pygments_lexer": "ipython3",
   "version": "3.7.6"
  },
  "mimetype": "text/x-python",
  "name": "python",
  "npconvert_exporter": "python",
  "pygments_lexer": "ipython3",
  "version": 3
 },
 "nbformat": 4,
 "nbformat_minor": 4
}
