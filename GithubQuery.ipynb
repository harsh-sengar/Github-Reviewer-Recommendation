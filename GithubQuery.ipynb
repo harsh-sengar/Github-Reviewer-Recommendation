{
  "nbformat": 4,
  "nbformat_minor": 0,
  "metadata": {
    "colab": {
      "name": "GithubQuery.ipynb",
      "provenance": [],
      "collapsed_sections": [],
      "mount_file_id": "1dEaNwdoG0QjdiUuA2TgIFGgWl4QmAxUV",
      "authorship_tag": "ABX9TyPAMDJg+7LHMlmvs74n/Z5H",
      "include_colab_link": true
    },
    "kernelspec": {
      "name": "python3",
      "display_name": "Python 3"
    }
  },
  "cells": [
    {
      "cell_type": "markdown",
      "metadata": {
        "id": "view-in-github",
        "colab_type": "text"
      },
      "source": [
        "<a href=\"https://colab.research.google.com/github/harsh-sengar/Github-Reviewer-Recommendation/blob/master/GithubQuery.ipynb\" target=\"_parent\"><img src=\"https://colab.research.google.com/assets/colab-badge.svg\" alt=\"Open In Colab\"/></a>"
      ]
    },
    {
      "cell_type": "code",
      "metadata": {
        "id": "VSDk7-GDJAjC",
        "outputId": "ef0137e9-cff6-4a61-fbac-28717522b10f",
        "colab": {
          "base_uri": "https://localhost:8080/",
          "height": 34
        }
      },
      "source": [
        "from google.colab import auth\n",
        "auth.authenticate_user()\n",
        "print('Authenticated')"
      ],
      "execution_count": null,
      "outputs": [
        {
          "output_type": "stream",
          "text": [
            "Authenticated\n"
          ],
          "name": "stdout"
        }
      ]
    },
    {
      "cell_type": "code",
      "metadata": {
        "id": "tTODlhMwJ06G"
      },
      "source": [
        "%load_ext google.colab.data_table\n",
        "# %unload_ext google.colab.data_table"
      ],
      "execution_count": null,
      "outputs": []
    },
    {
      "cell_type": "code",
      "metadata": {
        "id": "n-IohWmNJBRJ"
      },
      "source": [
        "# Fetch the largest 20 projects by the number of prs they have.\n",
        "%%bigquery --project github-reviewer-recommendation df\n",
        "SELECT prs.num_prs, prs.base_repo_id, projects.name, projects.deleted\n",
        "FROM (\n",
        "  SELECT COUNT(base_repo_id) as num_prs, base_repo_id\n",
        "  FROM `ghtorrent-bq.ght_2018_04_01.pull_requests`\n",
        "  GROUP BY base_repo_id\n",
        ") prs\n",
        "INNER JOIN `ghtorrent-bq.ght_2018_04_01.projects` projects ON prs.base_repo_id = projects.id\n",
        "ORDER BY prs.num_prs DESC\n",
        "LIMIT 20\n"
      ],
      "execution_count": null,
      "outputs": []
    },
    {
      "cell_type": "code",
      "metadata": {
        "id": "_ijYiyD-JBbq",
        "outputId": "702de376-b9fe-453c-a45f-34a21fc901e6",
        "colab": {
          "base_uri": "https://localhost:8080/",
          "height": 509
        }
      },
      "source": [
        "df"
      ],
      "execution_count": null,
      "outputs": [
        {
          "output_type": "execute_result",
          "data": {
            "application/vnd.google.colaboratory.module+javascript": "\n      import \"https://ssl.gstatic.com/colaboratory/data_table/a6224c040fa35dcf/data_table.js\";\n\n      window.createDataTable({\n        data: [[{\n            'v': 0,\n            'f': \"0\",\n        },\n{\n            'v': 82846,\n            'f': \"82846\",\n        },\n{\n            'v': 20170979,\n            'f': \"20170979\",\n        },\n\"everypolitician-data\",\nfalse],\n [{\n            'v': 1,\n            'f': \"1\",\n        },\n{\n            'v': 69340,\n            'f': \"69340\",\n        },\n{\n            'v': 70604300,\n            'f': \"70604300\",\n        },\n\"signcla-probe-repo\",\nfalse],\n [{\n            'v': 2,\n            'f': \"2\",\n        },\n{\n            'v': 55760,\n            'f': \"55760\",\n        },\n{\n            'v': 789,\n            'f': \"789\",\n        },\n\"liferay-portal\",\nfalse],\n [{\n            'v': 3,\n            'f': \"3\",\n        },\n{\n            'v': 54805,\n            'f': \"54805\",\n        },\n{\n            'v': 33253535,\n            'f': \"33253535\",\n        },\n\"sauron\",\nfalse],\n [{\n            'v': 4,\n            'f': \"4\",\n        },\n{\n            'v': 40082,\n            'f': \"40082\",\n        },\n{\n            'v': 9570147,\n            'f': \"9570147\",\n        },\n\"homebrew-cask\",\nfalse],\n [{\n            'v': 5,\n            'f': \"5\",\n        },\n{\n            'v': 33504,\n            'f': \"33504\",\n        },\n{\n            'v': 6866209,\n            'f': \"6866209\",\n        },\n\"homebrew\",\nfalse],\n [{\n            'v': 6,\n            'f': \"6\",\n        },\n{\n            'v': 31212,\n            'f': \"31212\",\n        },\n{\n            'v': 202,\n            'f': \"202\",\n        },\n\"gaia\",\nfalse],\n [{\n            'v': 7,\n            'f': \"7\",\n        },\n{\n            'v': 30909,\n            'f': \"30909\",\n        },\n{\n            'v': 1803391,\n            'f': \"1803391\",\n        },\n\"snoopys-sandbox\",\nfalse],\n [{\n            'v': 8,\n            'f': \"8\",\n        },\n{\n            'v': 28820,\n            'f': \"28820\",\n        },\n{\n            'v': 3777,\n            'f': \"3777\",\n        },\n\"nixpkgs\",\nfalse],\n [{\n            'v': 9,\n            'f': \"9\",\n        },\n{\n            'v': 28289,\n            'f': \"28289\",\n        },\n{\n            'v': 22091370,\n            'f': \"22091370\",\n        },\n\"kubernetes\",\nfalse],\n [{\n            'v': 10,\n            'f': \"10\",\n        },\n{\n            'v': 28273,\n            'f': \"28273\",\n        },\n{\n            'v': 1142,\n            'f': \"1142\",\n        },\n\"salt\",\nfalse],\n [{\n            'v': 11,\n            'f': \"11\",\n        },\n{\n            'v': 23473,\n            'f': \"23473\",\n        },\n{\n            'v': 32902832,\n            'f': \"32902832\",\n        },\n\"homebrew-core\",\nfalse],\n [{\n            'v': 12,\n            'f': \"12\",\n        },\n{\n            'v': 22997,\n            'f': \"22997\",\n        },\n{\n            'v': 7301975,\n            'f': \"7301975\",\n        },\n\"patchwork\",\nfalse],\n [{\n            'v': 13,\n            'f': \"13\",\n        },\n{\n            'v': 21373,\n            'f': \"21373\",\n        },\n{\n            'v': 30513020,\n            'f': \"30513020\",\n        },\n\"sauron-demo\",\nfalse],\n [{\n            'v': 14,\n            'f': \"14\",\n        },\n{\n            'v': 20960,\n            'f': \"20960\",\n        },\n{\n            'v': 3149844,\n            'f': \"3149844\",\n        },\n\"cmssw\",\nfalse],\n [{\n            'v': 15,\n            'f': \"15\",\n        },\n{\n            'v': 20836,\n            'f': \"20836\",\n        },\n{\n            'v': 1334,\n            'f': \"1334\",\n        },\n\"rails\",\nfalse],\n [{\n            'v': 16,\n            'f': \"16\",\n        },\n{\n            'v': 20806,\n            'f': \"20806\",\n        },\n{\n            'v': 8196280,\n            'f': \"8196280\",\n        },\n\"spark\",\nfalse],\n [{\n            'v': 17,\n            'f': \"17\",\n        },\n{\n            'v': 20747,\n            'f': \"20747\",\n        },\n{\n            'v': 1486,\n            'f': \"1486\",\n        },\n\"ansible\",\nfalse],\n [{\n            'v': 18,\n            'f': \"18\",\n        },\n{\n            'v': 20554,\n            'f': \"20554\",\n        },\n{\n            'v': 17694,\n            'f': \"17694\",\n        },\n\"ceph\",\nfalse],\n [{\n            'v': 19,\n            'f': \"19\",\n        },\n{\n            'v': 20537,\n            'f': \"20537\",\n        },\n{\n            'v': 11703554,\n            'f': \"11703554\",\n        },\n\"code-dot-org\",\nfalse]],\n        columns: [[\"number\", \"index\"], [\"number\", \"num_prs\"], [\"number\", \"base_repo_id\"], [\"string\", \"name\"], [\"string\", \"deleted\"]],\n        columnOptions: [{\"width\": \"1px\", \"className\": \"index_column\"}],\n        rowsPerPage: 25,\n        helpUrl: \"https://colab.research.google.com/notebooks/data_table.ipynb\",\n        suppressOutputScrolling: true,\n        minimumWidth: undefined,\n      });\n    ",
            "text/html": [
              "<div>\n",
              "<style scoped>\n",
              "    .dataframe tbody tr th:only-of-type {\n",
              "        vertical-align: middle;\n",
              "    }\n",
              "\n",
              "    .dataframe tbody tr th {\n",
              "        vertical-align: top;\n",
              "    }\n",
              "\n",
              "    .dataframe thead th {\n",
              "        text-align: right;\n",
              "    }\n",
              "</style>\n",
              "<table border=\"1\" class=\"dataframe\">\n",
              "  <thead>\n",
              "    <tr style=\"text-align: right;\">\n",
              "      <th></th>\n",
              "      <th>num_prs</th>\n",
              "      <th>base_repo_id</th>\n",
              "      <th>name</th>\n",
              "      <th>deleted</th>\n",
              "    </tr>\n",
              "  </thead>\n",
              "  <tbody>\n",
              "    <tr>\n",
              "      <th>0</th>\n",
              "      <td>82846</td>\n",
              "      <td>20170979</td>\n",
              "      <td>everypolitician-data</td>\n",
              "      <td>False</td>\n",
              "    </tr>\n",
              "    <tr>\n",
              "      <th>1</th>\n",
              "      <td>69340</td>\n",
              "      <td>70604300</td>\n",
              "      <td>signcla-probe-repo</td>\n",
              "      <td>False</td>\n",
              "    </tr>\n",
              "    <tr>\n",
              "      <th>2</th>\n",
              "      <td>55760</td>\n",
              "      <td>789</td>\n",
              "      <td>liferay-portal</td>\n",
              "      <td>False</td>\n",
              "    </tr>\n",
              "    <tr>\n",
              "      <th>3</th>\n",
              "      <td>54805</td>\n",
              "      <td>33253535</td>\n",
              "      <td>sauron</td>\n",
              "      <td>False</td>\n",
              "    </tr>\n",
              "    <tr>\n",
              "      <th>4</th>\n",
              "      <td>40082</td>\n",
              "      <td>9570147</td>\n",
              "      <td>homebrew-cask</td>\n",
              "      <td>False</td>\n",
              "    </tr>\n",
              "    <tr>\n",
              "      <th>5</th>\n",
              "      <td>33504</td>\n",
              "      <td>6866209</td>\n",
              "      <td>homebrew</td>\n",
              "      <td>False</td>\n",
              "    </tr>\n",
              "    <tr>\n",
              "      <th>6</th>\n",
              "      <td>31212</td>\n",
              "      <td>202</td>\n",
              "      <td>gaia</td>\n",
              "      <td>False</td>\n",
              "    </tr>\n",
              "    <tr>\n",
              "      <th>7</th>\n",
              "      <td>30909</td>\n",
              "      <td>1803391</td>\n",
              "      <td>snoopys-sandbox</td>\n",
              "      <td>False</td>\n",
              "    </tr>\n",
              "    <tr>\n",
              "      <th>8</th>\n",
              "      <td>28820</td>\n",
              "      <td>3777</td>\n",
              "      <td>nixpkgs</td>\n",
              "      <td>False</td>\n",
              "    </tr>\n",
              "    <tr>\n",
              "      <th>9</th>\n",
              "      <td>28289</td>\n",
              "      <td>22091370</td>\n",
              "      <td>kubernetes</td>\n",
              "      <td>False</td>\n",
              "    </tr>\n",
              "    <tr>\n",
              "      <th>10</th>\n",
              "      <td>28273</td>\n",
              "      <td>1142</td>\n",
              "      <td>salt</td>\n",
              "      <td>False</td>\n",
              "    </tr>\n",
              "    <tr>\n",
              "      <th>11</th>\n",
              "      <td>23473</td>\n",
              "      <td>32902832</td>\n",
              "      <td>homebrew-core</td>\n",
              "      <td>False</td>\n",
              "    </tr>\n",
              "    <tr>\n",
              "      <th>12</th>\n",
              "      <td>22997</td>\n",
              "      <td>7301975</td>\n",
              "      <td>patchwork</td>\n",
              "      <td>False</td>\n",
              "    </tr>\n",
              "    <tr>\n",
              "      <th>13</th>\n",
              "      <td>21373</td>\n",
              "      <td>30513020</td>\n",
              "      <td>sauron-demo</td>\n",
              "      <td>False</td>\n",
              "    </tr>\n",
              "    <tr>\n",
              "      <th>14</th>\n",
              "      <td>20960</td>\n",
              "      <td>3149844</td>\n",
              "      <td>cmssw</td>\n",
              "      <td>False</td>\n",
              "    </tr>\n",
              "    <tr>\n",
              "      <th>15</th>\n",
              "      <td>20836</td>\n",
              "      <td>1334</td>\n",
              "      <td>rails</td>\n",
              "      <td>False</td>\n",
              "    </tr>\n",
              "    <tr>\n",
              "      <th>16</th>\n",
              "      <td>20806</td>\n",
              "      <td>8196280</td>\n",
              "      <td>spark</td>\n",
              "      <td>False</td>\n",
              "    </tr>\n",
              "    <tr>\n",
              "      <th>17</th>\n",
              "      <td>20747</td>\n",
              "      <td>1486</td>\n",
              "      <td>ansible</td>\n",
              "      <td>False</td>\n",
              "    </tr>\n",
              "    <tr>\n",
              "      <th>18</th>\n",
              "      <td>20554</td>\n",
              "      <td>17694</td>\n",
              "      <td>ceph</td>\n",
              "      <td>False</td>\n",
              "    </tr>\n",
              "    <tr>\n",
              "      <th>19</th>\n",
              "      <td>20537</td>\n",
              "      <td>11703554</td>\n",
              "      <td>code-dot-org</td>\n",
              "      <td>False</td>\n",
              "    </tr>\n",
              "  </tbody>\n",
              "</table>\n",
              "</div>"
            ],
            "text/plain": [
              "    num_prs  base_repo_id                  name  deleted\n",
              "0     82846      20170979  everypolitician-data    False\n",
              "1     69340      70604300    signcla-probe-repo    False\n",
              "2     55760           789        liferay-portal    False\n",
              "3     54805      33253535                sauron    False\n",
              "4     40082       9570147         homebrew-cask    False\n",
              "5     33504       6866209              homebrew    False\n",
              "6     31212           202                  gaia    False\n",
              "7     30909       1803391       snoopys-sandbox    False\n",
              "8     28820          3777               nixpkgs    False\n",
              "9     28289      22091370            kubernetes    False\n",
              "10    28273          1142                  salt    False\n",
              "11    23473      32902832         homebrew-core    False\n",
              "12    22997       7301975             patchwork    False\n",
              "13    21373      30513020           sauron-demo    False\n",
              "14    20960       3149844                 cmssw    False\n",
              "15    20836          1334                 rails    False\n",
              "16    20806       8196280                 spark    False\n",
              "17    20747          1486               ansible    False\n",
              "18    20554         17694                  ceph    False\n",
              "19    20537      11703554          code-dot-org    False"
            ]
          },
          "metadata": {
            "tags": []
          },
          "execution_count": 10
        }
      ]
    },
    {
      "cell_type": "code",
      "metadata": {
        "id": "tDwbE-ILJBg3"
      },
      "source": [
        ""
      ],
      "execution_count": null,
      "outputs": []
    },
    {
      "cell_type": "code",
      "metadata": {
        "id": "ZdHHC9sqJBkV"
      },
      "source": [
        ""
      ],
      "execution_count": null,
      "outputs": []
    },
    {
      "cell_type": "code",
      "metadata": {
        "id": "TdjnzFw8JBnZ"
      },
      "source": [
        ""
      ],
      "execution_count": null,
      "outputs": []
    }
  ]
}